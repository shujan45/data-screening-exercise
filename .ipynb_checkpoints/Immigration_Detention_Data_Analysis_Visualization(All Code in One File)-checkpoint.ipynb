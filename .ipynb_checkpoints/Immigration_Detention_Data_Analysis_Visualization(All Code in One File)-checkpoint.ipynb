{
 "cells": [
  {
   "cell_type": "markdown",
   "id": "2375d103-6fb4-494b-850c-d22225a9d4ff",
   "metadata": {},
   "source": [
    "Cleaning Data"
   ]
  },
  {
   "cell_type": "code",
   "execution_count": 2,
   "id": "d98f8aa7-869c-40f1-b165-46d4846f89d0",
   "metadata": {},
   "outputs": [
    {
     "data": {
      "text/html": [
       "<table class=\"dataframe\">\n",
       "<caption>A data.frame: 140 × 8</caption>\n",
       "<thead>\n",
       "\t<tr><th scope=col>X</th><th scope=col>X.1</th><th scope=col>X.2</th><th scope=col>X.3</th><th scope=col>X.4</th><th scope=col>X.5</th><th scope=col>X.6</th><th scope=col>X.7</th></tr>\n",
       "\t<tr><th scope=col>&lt;chr&gt;</th><th scope=col>&lt;chr&gt;</th><th scope=col>&lt;chr&gt;</th><th scope=col>&lt;chr&gt;</th><th scope=col>&lt;chr&gt;</th><th scope=col>&lt;chr&gt;</th><th scope=col>&lt;chr&gt;</th><th scope=col>&lt;chr&gt;</th></tr>\n",
       "</thead>\n",
       "<tbody>\n",
       "\t<tr><td>These statistics are made available to the public pursuant to H.R. 1158 Sec. 218 - Department of Homeland Security Appropriations Act, 2020. ) *The information in this report is subject to change.     </td><td>               </td><td>     </td><td>           </td><td>           </td><td>           </td><td>           </td><td>                        </td></tr>\n",
       "\t<tr><td>ICE FACILITIES DATA, FY25                                                                                                                                                                                </td><td>               </td><td>     </td><td>           </td><td>           </td><td>           </td><td>           </td><td>                        </td></tr>\n",
       "\t<tr><td>ICE Enforcement and Removal Operations Data, FY2025                                                                                                                                                      </td><td>               </td><td>     </td><td>           </td><td>           </td><td>           </td><td>           </td><td>                        </td></tr>\n",
       "\t<tr><td>This list is limited to facilities that have a population count of greater than or equal to 1 as the time of the data pull.  This list does not include HOLD, HOSPITAL, HOTEL, ORR, or MIRP facilities.  </td><td>               </td><td>     </td><td>           </td><td>           </td><td>           </td><td>           </td><td>                        </td></tr>\n",
       "\t<tr><td>Data Source: ICE Integrated Decision Support (IIDS), 03/17/2025                                                                                                                                          </td><td>               </td><td>     </td><td>           </td><td>           </td><td>           </td><td>           </td><td>                        </td></tr>\n",
       "\t<tr><td>Name                                                                                                                                                                                                     </td><td>City           </td><td>State</td><td>Level A    </td><td>Level B    </td><td>Level C    </td><td>Level D    </td><td>Last Inspection End Date</td></tr>\n",
       "\t<tr><td>ADAMS COUNTY DET CENTER                                                                                                                                                                                  </td><td>NATCHEZ        </td><td>MS   </td><td>1876.461078</td><td>266.4311377</td><td>6.724550898</td><td>4.25748503 </td><td>45673                   </td></tr>\n",
       "\t<tr><td>ADELANTO ICE PROCESSING CENTER                                                                                                                                                                           </td><td>ADELANTO       </td><td>CA   </td><td>6.401197605</td><td>4.323353293</td><td>22.60479042</td><td>32.63473054</td><td>45491                   </td></tr>\n",
       "\t<tr><td>ALAMANCE COUNTY DETENTION FACILITY                                                                                                                                                                       </td><td>GRAHAM         </td><td>NC   </td><td>4.329341317</td><td>3.461077844</td><td>6.083832335</td><td>6.185628743</td><td>45554                   </td></tr>\n",
       "\t<tr><td>ALEXA$NDRIA STAGING FACILITY                                                                                                                                                                             </td><td>ALEXANDRIA     </td><td>LA   </td><td>137.5209581</td><td>47.41317365</td><td>76.00598802</td><td>52.48502994</td><td>45533                   </td></tr>\n",
       "\t<tr><td>ALLEGANY COUNTY JAIL                                                                                                                                                                                     </td><td>BELMONT        </td><td>NY   </td><td>1.221556886</td><td>1.80E-02   </td><td>0          </td><td>0          </td><td>NA                      </td></tr>\n",
       "\t<tr><td>ALL%EN PARISH PUBLIC SAFETY +COMPLEX                                                                                                                                                                     </td><td>OBERLIN        </td><td>LA   </td><td>101.3113772</td><td>30.25149701</td><td>33.76646707</td><td>10.66467066</td><td>45638                   </td></tr>\n",
       "\t<tr><td>ATLANTA US PEN                                                                                                                                                                                           </td><td>ATLANTA        </td><td>     </td><td>17.34131737</td><td>3.610778443</td><td>3.053892216</td><td>2.724550898</td><td>N/A                     </td></tr>\n",
       "\t<tr><td>B^AKER COUNTY SHERIFF DEPT.                                                                                                                                                                              </td><td>MACCLENNY      </td><td>FL   </td><td>26.22155689</td><td>38.64071856</td><td>88.65269461</td><td>88.73053892</td><td>45589                   </td></tr>\n",
       "\t<tr><td>BERLIN FED. CORR. INST.                                                                                                                                                                                  </td><td>BERLIN         </td><td>NH   </td><td>1.748502994</td><td>8.98E-02   </td><td>0.97005988 </td><td>0.71257485 </td><td>N/A                     </td></tr>\n",
       "\t<tr><td>BLUEBONNET DETENTION FACILITY                                                                                                                                                                            </td><td>ANSON          </td><td>TX   </td><td>311.3053892</td><td>164.5508982</td><td>241.6167665</td><td>104.5149701</td><td>45638                   </td></tr>\n",
       "\t<tr><td>BOONE COUNTY JAIL                                                                                                                                                                                        </td><td>BURLINGTON     </td><td>KY   </td><td>28.32335329</td><td>22.92215569</td><td>33.32934132</td><td>56.43113772</td><td>45617                   </td></tr>\n",
       "\t<tr><td>BROWARD COUNTY JAIL                                                                                                                                                                                      </td><td>FT.LAUDERDALE  </td><td>FL   </td><td>0.335329341</td><td>0.209580838</td><td>1.053892216</td><td>0.233532934</td><td>N/A                     </td></tr>\n",
       "\t<tr><td>BROWARD TRANSITIONAL CENTER                                                                                                                                                                              </td><td>POMPANO BEACH  </td><td>FL   </td><td>495.4670659</td><td>158.3532934</td><td>3.844311377</td><td>0.718562874</td><td>45645                   </td></tr>\n",
       "\t<tr><td>BUFFALO SERVICE PROCESSING CENTER                                                                                                                                                                        </td><td>BATAVIA        </td><td>NY   </td><td>235.6886228</td><td>46.08383234</td><td>133.5868263</td><td>151.2754491</td><td>45596                   </td></tr>\n",
       "\t<tr><td>BUTLER COUNTY JAIL                                                                                                                                                                                       </td><td>HAMILTON       </td><td>OH   </td><td>1.51497006 </td><td>0.598802395</td><td>0.838323353</td><td>0.107784431</td><td>44288                   </td></tr>\n",
       "\t<tr><td>CALHOUN C(OUNTY CORRECTIONAL CENTER                                                                                                                                                                      </td><td>BATTLE CREEK   </td><td>MI   </td><td>56.78443114</td><td>35.29341317</td><td>30.98203593</td><td>15.95209581</td><td>45526                   </td></tr>\n",
       "\t<tr><td>CAROLINE DETENTION FACILITY                                                                                                                                                                              </td><td>BOWLING GREEN  </td><td>VA   </td><td>111.1077844</td><td>33.88023952</td><td>62.51497006</td><td>76.92215569</td><td>45484                   </td></tr>\n",
       "\t<tr><td>CCA, FLORENCE CORRECTIONAL CENTER                                                                                                                                                                        </td><td>FLORENCE       </td><td>AZ   </td><td>50.4491018 </td><td>40.62275449</td><td>145.2215569</td><td>141.742515 </td><td>45638                   </td></tr>\n",
       "\t<tr><td>CENTRAL LOUISIANA ICE PROCESSING CENTER (CLIPC)                                                                                                                                                          </td><td>JENA           </td><td>LA   </td><td>410.9700599</td><td>221.2095808</td><td>344.7904192</td><td>207.1616766</td><td>45666                   </td></tr>\n",
       "\t<tr><td>CHASE COUNTY JAIL                                                                                                                                                                                        </td><td>COTTONWOOD FALL</td><td>KS   </td><td>19.11377246</td><td>17.9760479 </td><td>33.77245509</td><td>17.76646707</td><td>45526                   </td></tr>\n",
       "\t<tr><td>CHIPPEWA COUNTY SSM                                                                                                                                                                                      </td><td>SAULT STE MARIE</td><td>MI   </td><td>9.065868263</td><td>4.023952096</td><td>6.880239521</td><td>6.125748503</td><td>45407                   </td></tr>\n",
       "\t<tr><td>CIBOLA COUNTY CORRECTIONAL CENTER                                                                                                                                                                        </td><td>MILAN          </td><td>NM   </td><td>148.1676647</td><td>21.33532934</td><td>0.760479042</td><td>0.658682635</td><td>45715                   </td></tr>\n",
       "\t<tr><td>CIMMARR.ON CORR FACILITY                                                                                                                                                                                 </td><td>CUSHING        </td><td>OK   </td><td>17.05988024</td><td>3.670658683</td><td>0.311377246</td><td>0          </td><td>NA                      </td></tr>\n",
       "\t<tr><td>CLAY COUNTY JUSTICE CENTER                                                                                                                                                                               </td><td>BRAZIL         </td><td>IN   </td><td>53.4011976 </td><td>29.56886228</td><td>91.20958084</td><td>63.61676647</td><td>45470                   </td></tr>\n",
       "\t<tr><td>⋮</td><td>⋮</td><td>⋮</td><td>⋮</td><td>⋮</td><td>⋮</td><td>⋮</td><td>⋮</td></tr>\n",
       "\t<tr><td>POTTAWATTAMIE COUNTY JAIL                    </td><td>COUNCIL BLUFFS</td><td>IA</td><td>2.071856287</td><td>4.51497006 </td><td>10.08383234</td><td>17.5988024 </td><td>45589</td></tr>\n",
       "\t<tr><td>PRAIRIELA)ND DETENTION CENTER                </td><td>ALVARADO      </td><td>TX</td><td>251.0538922</td><td>83.89820359</td><td>202.988024 </td><td>122.5329341</td><td>45645</td></tr>\n",
       "\t<tr><td>PRINCE EDWARD COUNTY (FARMVILLE)             </td><td>FARMVILLE     </td><td>VA</td><td>149.4850299</td><td>68.16766467</td><td>128.2095808</td><td>141.8502994</td><td>45645</td></tr>\n",
       "\t<tr><td>RICHWOOD CORRECTIONAL CENTER                 </td><td>MONROE        </td><td>LA</td><td>767.4431138</td><td>27.83832335</td><td>5.760479042</td><td>4.341317365</td><td>45603</td></tr>\n",
       "\t<tr><td>RIO GRANDE DET)ENTION CENTER                 </td><td>LAREDO        </td><td>TX</td><td>616.6107784</td><td>6.610778443</td><td>1.449101796</td><td>1.245508982</td><td>45666</td></tr>\n",
       "\t<tr><td>RIVER CORRECTIONAL CENTER                    </td><td>FERRIDAY      </td><td>LA</td><td>488.9580838</td><td>61.82035928</td><td>1.317365269</td><td>0.754491018</td><td>45617</td></tr>\n",
       "\t<tr><td>ROBERT A DEYTON DETENT*ION FACILITY          </td><td>LOVEJOY       </td><td>GA</td><td>1.664670659</td><td>1.808383234</td><td>2.586826347</td><td>0.814371257</td><td>45246</td></tr>\n",
       "\t<tr><td>SAIPAN DEPARTMENT OF CORRECTIONS (SUSUPE)    </td><td>SAIPAN        </td><td>MP</td><td>2.179640719</td><td>1.934131737</td><td>0.562874251</td><td>0          </td><td>45359</td></tr>\n",
       "\t<tr><td>SALT LAKE COUNTY METRO JAIL                  </td><td>SALT LAKE CITY</td><td>UT</td><td>1          </td><td>4.335329341</td><td>0.473053892</td><td>0.113772455</td><td>45562</td></tr>\n",
       "\t<tr><td>SAN JUAN STAGING                             </td><td>GUAYNABO      </td><td>PR</td><td>4.281437126</td><td>0.251497006</td><td>0.592814371</td><td>0.179640719</td><td>N/A  </td></tr>\n",
       "\t<tr><td>SAN LUIS REGIONAL DETENTION CENTER           </td><td>SAN LUIS      </td><td>AZ</td><td>38.61077844</td><td>7.203592814</td><td>0.479041916</td><td>1.077844311</td><td>45561</td></tr>\n",
       "\t<tr><td>SENECA COUNTY JAIL                           </td><td>TIFFIN        </td><td>OH</td><td>17.01796407</td><td>11.77245509</td><td>15.52095808</td><td>18.16766467</td><td>45596</td></tr>\n",
       "\t<tr><td>                                             </td><td>ELK RIVER     </td><td>MN</td><td>4.592814371</td><td>5.598802395</td><td>9.281437126</td><td>2.760479042</td><td>45414</td></tr>\n",
       "\t<tr><td>SOUTH CENTRAL REGIONAL JAIL                  </td><td>CHARLESTON    </td><td>WV</td><td>2.22754491 </td><td>1.766467066</td><td>1.880239521</td><td>1.167664671</td><td>45561</td></tr>\n",
       "\t<tr><td>SOUTH LOUISIAN%A ICE PROCESSING CENTER       </td><td>BASILE        </td><td>LA</td><td>603.8263473</td><td>100.8862275</td><td>92.66467066</td><td>35.25149701</td><td>45533</td></tr>\n",
       "\t<tr><td>SOUTH TEXAS ICE PROCESSING CENTER            </td><td>PEARSALL      </td><td>TX</td><td>1299.083832</td><td>106.1257485</td><td>188.7245509</td><td>68.19760479</td><td>45694</td></tr>\n",
       "\t<tr><td>ST. CLAIR COUNTY JAIL                        </td><td>PORT HURON    </td><td>MI</td><td>46.28742515</td><td>10.89221557</td><td>10.2754491 </td><td>5.281437126</td><td>45554</td></tr>\n",
       "\t<tr><td>STE. GENEVIEVE COUNTY SHERIFF/JAIL           </td><td>STE. GENEVIEVE</td><td>MO</td><td>7.19E-02   </td><td>1.113772455</td><td>0.74251497 </td><td>0.215568862</td><td>NA   </td></tr>\n",
       "\t<tr><td>STEWART DETENTION CENTER                     </td><td>LUMPKIN       </td><td>GA</td><td>743.3113772</td><td>194.9281437</td><td>371.5628743</td><td>328.0419162</td><td>45505</td></tr>\n",
       "\t<tr><td>                                             </td><td>DOVER         </td><td>NH</td><td>0          </td><td>0          </td><td>49.16167665</td><td>41.33532934</td><td>45547</td></tr>\n",
       "\t<tr><td>SWEETWATER COUNTY JAIL                       </td><td>ROCK SPRINGS  </td><td>WY</td><td>0.233532934</td><td>0.520958084</td><td>0.610778443</td><td>6.59E-02   </td><td>45377</td></tr>\n",
       "\t<tr><td>T DON HUTTO DETENTION CENT@ER                </td><td>TAYLOR        </td><td>TX</td><td>199.9820359</td><td>40.63473054</td><td>114.0658683</td><td>69.14371257</td><td>45645</td></tr>\n",
       "\t<tr><td>TORRANCE/ESTANCIA, NM                        </td><td>ESTANCIA      </td><td>NM</td><td>323.502994 </td><td>52         </td><td>7.634730539</td><td>4.143712575</td><td>45589</td></tr>\n",
       "\t<tr><td>TULSA COUNTY JAIL (DAVID L. MOSS JUSTICE CTR)</td><td>TULSA         </td><td>OK</td><td>5.868263473</td><td>3.760479042</td><td>2.508982036</td><td>1.28742515 </td><td>45554</td></tr>\n",
       "\t<tr><td>TWO BRIDGES REGIONAL JAI(L                   </td><td>WISCASSET     </td><td>ME</td><td>0          </td><td>0          </td><td>1.095808383</td><td>0.844311377</td><td>NA   </td></tr>\n",
       "\t<tr><td>WASHINGTON COUNTY DETENTION CENTER           </td><td>FAYETTEVILLE  </td><td>AR</td><td>0.922155689</td><td>1.119760479</td><td>1.203592814</td><td>0.401197605</td><td>45232</td></tr>\n",
       "\t<tr><td>WASH(OE COUNTY JAIL                          </td><td>RENO          </td><td>NV</td><td>0.814371257</td><td>2.023952096</td><td>3.443113772</td><td>3.700598802</td><td>45603</td></tr>\n",
       "\t<tr><td>WEBB COUNTY DETENTION CENTER (CCA)           </td><td>LAREDO        </td><td>TX</td><td>234.4550898</td><td>4.335329341</td><td>27.7245509 </td><td>52.93413174</td><td>45694</td></tr>\n",
       "\t<tr><td>WINN CORRECTIONAL CENTER                     </td><td>WINNFIELD     </td><td>LA</td><td>1013.023952</td><td>214.7724551</td><td>187.005988 </td><td>94.58083832</td><td>45673</td></tr>\n",
       "\t<tr><td>WYATT DETENTION CENTER                       </td><td>CENTRAL FALLS </td><td>RI</td><td>16.22155689</td><td>4.077844311</td><td>42.32934132</td><td>49.19760479</td><td>45554</td></tr>\n",
       "</tbody>\n",
       "</table>\n"
      ],
      "text/latex": [
       "A data.frame: 140 × 8\n",
       "\\begin{tabular}{llllllll}\n",
       " X & X.1 & X.2 & X.3 & X.4 & X.5 & X.6 & X.7\\\\\n",
       " <chr> & <chr> & <chr> & <chr> & <chr> & <chr> & <chr> & <chr>\\\\\n",
       "\\hline\n",
       "\t These statistics are made available to the public pursuant to H.R. 1158 Sec. 218 - Department of Homeland Security Appropriations Act, 2020. ) *The information in this report is subject to change.      &                 &       &             &             &             &             &                         \\\\\n",
       "\t ICE FACILITIES DATA, FY25                                                                                                                                                                                 &                 &       &             &             &             &             &                         \\\\\n",
       "\t ICE Enforcement and Removal Operations Data, FY2025                                                                                                                                                       &                 &       &             &             &             &             &                         \\\\\n",
       "\t This list is limited to facilities that have a population count of greater than or equal to 1 as the time of the data pull.  This list does not include HOLD, HOSPITAL, HOTEL, ORR, or MIRP facilities.   &                 &       &             &             &             &             &                         \\\\\n",
       "\t Data Source: ICE Integrated Decision Support (IIDS), 03/17/2025                                                                                                                                           &                 &       &             &             &             &             &                         \\\\\n",
       "\t Name                                                                                                                                                                                                      & City            & State & Level A     & Level B     & Level C     & Level D     & Last Inspection End Date\\\\\n",
       "\t ADAMS COUNTY DET CENTER                                                                                                                                                                                   & NATCHEZ         & MS    & 1876.461078 & 266.4311377 & 6.724550898 & 4.25748503  & 45673                   \\\\\n",
       "\t ADELANTO ICE PROCESSING CENTER                                                                                                                                                                            & ADELANTO        & CA    & 6.401197605 & 4.323353293 & 22.60479042 & 32.63473054 & 45491                   \\\\\n",
       "\t ALAMANCE COUNTY DETENTION FACILITY                                                                                                                                                                        & GRAHAM          & NC    & 4.329341317 & 3.461077844 & 6.083832335 & 6.185628743 & 45554                   \\\\\n",
       "\t ALEXA\\$NDRIA STAGING FACILITY                                                                                                                                                                              & ALEXANDRIA      & LA    & 137.5209581 & 47.41317365 & 76.00598802 & 52.48502994 & 45533                   \\\\\n",
       "\t ALLEGANY COUNTY JAIL                                                                                                                                                                                      & BELMONT         & NY    & 1.221556886 & 1.80E-02    & 0           & 0           & NA                      \\\\\n",
       "\t ALL\\%EN PARISH PUBLIC SAFETY +COMPLEX                                                                                                                                                                      & OBERLIN         & LA    & 101.3113772 & 30.25149701 & 33.76646707 & 10.66467066 & 45638                   \\\\\n",
       "\t ATLANTA US PEN                                                                                                                                                                                            & ATLANTA         &       & 17.34131737 & 3.610778443 & 3.053892216 & 2.724550898 & N/A                     \\\\\n",
       "\t B\\textasciicircum{}AKER COUNTY SHERIFF DEPT.                                                                                                                                                                               & MACCLENNY       & FL    & 26.22155689 & 38.64071856 & 88.65269461 & 88.73053892 & 45589                   \\\\\n",
       "\t BERLIN FED. CORR. INST.                                                                                                                                                                                   & BERLIN          & NH    & 1.748502994 & 8.98E-02    & 0.97005988  & 0.71257485  & N/A                     \\\\\n",
       "\t BLUEBONNET DETENTION FACILITY                                                                                                                                                                             & ANSON           & TX    & 311.3053892 & 164.5508982 & 241.6167665 & 104.5149701 & 45638                   \\\\\n",
       "\t BOONE COUNTY JAIL                                                                                                                                                                                         & BURLINGTON      & KY    & 28.32335329 & 22.92215569 & 33.32934132 & 56.43113772 & 45617                   \\\\\n",
       "\t BROWARD COUNTY JAIL                                                                                                                                                                                       & FT.LAUDERDALE   & FL    & 0.335329341 & 0.209580838 & 1.053892216 & 0.233532934 & N/A                     \\\\\n",
       "\t BROWARD TRANSITIONAL CENTER                                                                                                                                                                               & POMPANO BEACH   & FL    & 495.4670659 & 158.3532934 & 3.844311377 & 0.718562874 & 45645                   \\\\\n",
       "\t BUFFALO SERVICE PROCESSING CENTER                                                                                                                                                                         & BATAVIA         & NY    & 235.6886228 & 46.08383234 & 133.5868263 & 151.2754491 & 45596                   \\\\\n",
       "\t BUTLER COUNTY JAIL                                                                                                                                                                                        & HAMILTON        & OH    & 1.51497006  & 0.598802395 & 0.838323353 & 0.107784431 & 44288                   \\\\\n",
       "\t CALHOUN C(OUNTY CORRECTIONAL CENTER                                                                                                                                                                       & BATTLE CREEK    & MI    & 56.78443114 & 35.29341317 & 30.98203593 & 15.95209581 & 45526                   \\\\\n",
       "\t CAROLINE DETENTION FACILITY                                                                                                                                                                               & BOWLING GREEN   & VA    & 111.1077844 & 33.88023952 & 62.51497006 & 76.92215569 & 45484                   \\\\\n",
       "\t CCA, FLORENCE CORRECTIONAL CENTER                                                                                                                                                                         & FLORENCE        & AZ    & 50.4491018  & 40.62275449 & 145.2215569 & 141.742515  & 45638                   \\\\\n",
       "\t CENTRAL LOUISIANA ICE PROCESSING CENTER (CLIPC)                                                                                                                                                           & JENA            & LA    & 410.9700599 & 221.2095808 & 344.7904192 & 207.1616766 & 45666                   \\\\\n",
       "\t CHASE COUNTY JAIL                                                                                                                                                                                         & COTTONWOOD FALL & KS    & 19.11377246 & 17.9760479  & 33.77245509 & 17.76646707 & 45526                   \\\\\n",
       "\t CHIPPEWA COUNTY SSM                                                                                                                                                                                       & SAULT STE MARIE & MI    & 9.065868263 & 4.023952096 & 6.880239521 & 6.125748503 & 45407                   \\\\\n",
       "\t CIBOLA COUNTY CORRECTIONAL CENTER                                                                                                                                                                         & MILAN           & NM    & 148.1676647 & 21.33532934 & 0.760479042 & 0.658682635 & 45715                   \\\\\n",
       "\t CIMMARR.ON CORR FACILITY                                                                                                                                                                                  & CUSHING         & OK    & 17.05988024 & 3.670658683 & 0.311377246 & 0           & NA                      \\\\\n",
       "\t CLAY COUNTY JUSTICE CENTER                                                                                                                                                                                & BRAZIL          & IN    & 53.4011976  & 29.56886228 & 91.20958084 & 63.61676647 & 45470                   \\\\\n",
       "\t ⋮ & ⋮ & ⋮ & ⋮ & ⋮ & ⋮ & ⋮ & ⋮\\\\\n",
       "\t POTTAWATTAMIE COUNTY JAIL                     & COUNCIL BLUFFS & IA & 2.071856287 & 4.51497006  & 10.08383234 & 17.5988024  & 45589\\\\\n",
       "\t PRAIRIELA)ND DETENTION CENTER                 & ALVARADO       & TX & 251.0538922 & 83.89820359 & 202.988024  & 122.5329341 & 45645\\\\\n",
       "\t PRINCE EDWARD COUNTY (FARMVILLE)              & FARMVILLE      & VA & 149.4850299 & 68.16766467 & 128.2095808 & 141.8502994 & 45645\\\\\n",
       "\t RICHWOOD CORRECTIONAL CENTER                  & MONROE         & LA & 767.4431138 & 27.83832335 & 5.760479042 & 4.341317365 & 45603\\\\\n",
       "\t RIO GRANDE DET)ENTION CENTER                  & LAREDO         & TX & 616.6107784 & 6.610778443 & 1.449101796 & 1.245508982 & 45666\\\\\n",
       "\t RIVER CORRECTIONAL CENTER                     & FERRIDAY       & LA & 488.9580838 & 61.82035928 & 1.317365269 & 0.754491018 & 45617\\\\\n",
       "\t ROBERT A DEYTON DETENT*ION FACILITY           & LOVEJOY        & GA & 1.664670659 & 1.808383234 & 2.586826347 & 0.814371257 & 45246\\\\\n",
       "\t SAIPAN DEPARTMENT OF CORRECTIONS (SUSUPE)     & SAIPAN         & MP & 2.179640719 & 1.934131737 & 0.562874251 & 0           & 45359\\\\\n",
       "\t SALT LAKE COUNTY METRO JAIL                   & SALT LAKE CITY & UT & 1           & 4.335329341 & 0.473053892 & 0.113772455 & 45562\\\\\n",
       "\t SAN JUAN STAGING                              & GUAYNABO       & PR & 4.281437126 & 0.251497006 & 0.592814371 & 0.179640719 & N/A  \\\\\n",
       "\t SAN LUIS REGIONAL DETENTION CENTER            & SAN LUIS       & AZ & 38.61077844 & 7.203592814 & 0.479041916 & 1.077844311 & 45561\\\\\n",
       "\t SENECA COUNTY JAIL                            & TIFFIN         & OH & 17.01796407 & 11.77245509 & 15.52095808 & 18.16766467 & 45596\\\\\n",
       "\t                                               & ELK RIVER      & MN & 4.592814371 & 5.598802395 & 9.281437126 & 2.760479042 & 45414\\\\\n",
       "\t SOUTH CENTRAL REGIONAL JAIL                   & CHARLESTON     & WV & 2.22754491  & 1.766467066 & 1.880239521 & 1.167664671 & 45561\\\\\n",
       "\t SOUTH LOUISIAN\\%A ICE PROCESSING CENTER        & BASILE         & LA & 603.8263473 & 100.8862275 & 92.66467066 & 35.25149701 & 45533\\\\\n",
       "\t SOUTH TEXAS ICE PROCESSING CENTER             & PEARSALL       & TX & 1299.083832 & 106.1257485 & 188.7245509 & 68.19760479 & 45694\\\\\n",
       "\t ST. CLAIR COUNTY JAIL                         & PORT HURON     & MI & 46.28742515 & 10.89221557 & 10.2754491  & 5.281437126 & 45554\\\\\n",
       "\t STE. GENEVIEVE COUNTY SHERIFF/JAIL            & STE. GENEVIEVE & MO & 7.19E-02    & 1.113772455 & 0.74251497  & 0.215568862 & NA   \\\\\n",
       "\t STEWART DETENTION CENTER                      & LUMPKIN        & GA & 743.3113772 & 194.9281437 & 371.5628743 & 328.0419162 & 45505\\\\\n",
       "\t                                               & DOVER          & NH & 0           & 0           & 49.16167665 & 41.33532934 & 45547\\\\\n",
       "\t SWEETWATER COUNTY JAIL                        & ROCK SPRINGS   & WY & 0.233532934 & 0.520958084 & 0.610778443 & 6.59E-02    & 45377\\\\\n",
       "\t T DON HUTTO DETENTION CENT@ER                 & TAYLOR         & TX & 199.9820359 & 40.63473054 & 114.0658683 & 69.14371257 & 45645\\\\\n",
       "\t TORRANCE/ESTANCIA, NM                         & ESTANCIA       & NM & 323.502994  & 52          & 7.634730539 & 4.143712575 & 45589\\\\\n",
       "\t TULSA COUNTY JAIL (DAVID L. MOSS JUSTICE CTR) & TULSA          & OK & 5.868263473 & 3.760479042 & 2.508982036 & 1.28742515  & 45554\\\\\n",
       "\t TWO BRIDGES REGIONAL JAI(L                    & WISCASSET      & ME & 0           & 0           & 1.095808383 & 0.844311377 & NA   \\\\\n",
       "\t WASHINGTON COUNTY DETENTION CENTER            & FAYETTEVILLE   & AR & 0.922155689 & 1.119760479 & 1.203592814 & 0.401197605 & 45232\\\\\n",
       "\t WASH(OE COUNTY JAIL                           & RENO           & NV & 0.814371257 & 2.023952096 & 3.443113772 & 3.700598802 & 45603\\\\\n",
       "\t WEBB COUNTY DETENTION CENTER (CCA)            & LAREDO         & TX & 234.4550898 & 4.335329341 & 27.7245509  & 52.93413174 & 45694\\\\\n",
       "\t WINN CORRECTIONAL CENTER                      & WINNFIELD      & LA & 1013.023952 & 214.7724551 & 187.005988  & 94.58083832 & 45673\\\\\n",
       "\t WYATT DETENTION CENTER                        & CENTRAL FALLS  & RI & 16.22155689 & 4.077844311 & 42.32934132 & 49.19760479 & 45554\\\\\n",
       "\\end{tabular}\n"
      ],
      "text/markdown": [
       "\n",
       "A data.frame: 140 × 8\n",
       "\n",
       "| X &lt;chr&gt; | X.1 &lt;chr&gt; | X.2 &lt;chr&gt; | X.3 &lt;chr&gt; | X.4 &lt;chr&gt; | X.5 &lt;chr&gt; | X.6 &lt;chr&gt; | X.7 &lt;chr&gt; |\n",
       "|---|---|---|---|---|---|---|---|\n",
       "| These statistics are made available to the public pursuant to H.R. 1158 Sec. 218 - Department of Homeland Security Appropriations Act, 2020. ) *The information in this report is subject to change.      | <!----> | <!----> | <!----> | <!----> | <!----> | <!----> | <!----> |\n",
       "| ICE FACILITIES DATA, FY25                                                                                                                                                                                 | <!----> | <!----> | <!----> | <!----> | <!----> | <!----> | <!----> |\n",
       "| ICE Enforcement and Removal Operations Data, FY2025                                                                                                                                                       | <!----> | <!----> | <!----> | <!----> | <!----> | <!----> | <!----> |\n",
       "| This list is limited to facilities that have a population count of greater than or equal to 1 as the time of the data pull.  This list does not include HOLD, HOSPITAL, HOTEL, ORR, or MIRP facilities.   | <!----> | <!----> | <!----> | <!----> | <!----> | <!----> | <!----> |\n",
       "| Data Source: ICE Integrated Decision Support (IIDS), 03/17/2025                                                                                                                                           | <!----> | <!----> | <!----> | <!----> | <!----> | <!----> | <!----> |\n",
       "| Name                                                                                                                                                                                                      | City            | State | Level A     | Level B     | Level C     | Level D     | Last Inspection End Date |\n",
       "| ADAMS COUNTY DET CENTER                                                                                                                                                                                   | NATCHEZ         | MS    | 1876.461078 | 266.4311377 | 6.724550898 | 4.25748503  | 45673                    |\n",
       "| ADELANTO ICE PROCESSING CENTER                                                                                                                                                                            | ADELANTO        | CA    | 6.401197605 | 4.323353293 | 22.60479042 | 32.63473054 | 45491                    |\n",
       "| ALAMANCE COUNTY DETENTION FACILITY                                                                                                                                                                        | GRAHAM          | NC    | 4.329341317 | 3.461077844 | 6.083832335 | 6.185628743 | 45554                    |\n",
       "| ALEXA$NDRIA STAGING FACILITY                                                                                                                                                                              | ALEXANDRIA      | LA    | 137.5209581 | 47.41317365 | 76.00598802 | 52.48502994 | 45533                    |\n",
       "| ALLEGANY COUNTY JAIL                                                                                                                                                                                      | BELMONT         | NY    | 1.221556886 | 1.80E-02    | 0           | 0           | NA                       |\n",
       "| ALL%EN PARISH PUBLIC SAFETY +COMPLEX                                                                                                                                                                      | OBERLIN         | LA    | 101.3113772 | 30.25149701 | 33.76646707 | 10.66467066 | 45638                    |\n",
       "| ATLANTA US PEN                                                                                                                                                                                            | ATLANTA         | <!----> | 17.34131737 | 3.610778443 | 3.053892216 | 2.724550898 | N/A                      |\n",
       "| B^AKER COUNTY SHERIFF DEPT.                                                                                                                                                                               | MACCLENNY       | FL    | 26.22155689 | 38.64071856 | 88.65269461 | 88.73053892 | 45589                    |\n",
       "| BERLIN FED. CORR. INST.                                                                                                                                                                                   | BERLIN          | NH    | 1.748502994 | 8.98E-02    | 0.97005988  | 0.71257485  | N/A                      |\n",
       "| BLUEBONNET DETENTION FACILITY                                                                                                                                                                             | ANSON           | TX    | 311.3053892 | 164.5508982 | 241.6167665 | 104.5149701 | 45638                    |\n",
       "| BOONE COUNTY JAIL                                                                                                                                                                                         | BURLINGTON      | KY    | 28.32335329 | 22.92215569 | 33.32934132 | 56.43113772 | 45617                    |\n",
       "| BROWARD COUNTY JAIL                                                                                                                                                                                       | FT.LAUDERDALE   | FL    | 0.335329341 | 0.209580838 | 1.053892216 | 0.233532934 | N/A                      |\n",
       "| BROWARD TRANSITIONAL CENTER                                                                                                                                                                               | POMPANO BEACH   | FL    | 495.4670659 | 158.3532934 | 3.844311377 | 0.718562874 | 45645                    |\n",
       "| BUFFALO SERVICE PROCESSING CENTER                                                                                                                                                                         | BATAVIA         | NY    | 235.6886228 | 46.08383234 | 133.5868263 | 151.2754491 | 45596                    |\n",
       "| BUTLER COUNTY JAIL                                                                                                                                                                                        | HAMILTON        | OH    | 1.51497006  | 0.598802395 | 0.838323353 | 0.107784431 | 44288                    |\n",
       "| CALHOUN C(OUNTY CORRECTIONAL CENTER                                                                                                                                                                       | BATTLE CREEK    | MI    | 56.78443114 | 35.29341317 | 30.98203593 | 15.95209581 | 45526                    |\n",
       "| CAROLINE DETENTION FACILITY                                                                                                                                                                               | BOWLING GREEN   | VA    | 111.1077844 | 33.88023952 | 62.51497006 | 76.92215569 | 45484                    |\n",
       "| CCA, FLORENCE CORRECTIONAL CENTER                                                                                                                                                                         | FLORENCE        | AZ    | 50.4491018  | 40.62275449 | 145.2215569 | 141.742515  | 45638                    |\n",
       "| CENTRAL LOUISIANA ICE PROCESSING CENTER (CLIPC)                                                                                                                                                           | JENA            | LA    | 410.9700599 | 221.2095808 | 344.7904192 | 207.1616766 | 45666                    |\n",
       "| CHASE COUNTY JAIL                                                                                                                                                                                         | COTTONWOOD FALL | KS    | 19.11377246 | 17.9760479  | 33.77245509 | 17.76646707 | 45526                    |\n",
       "| CHIPPEWA COUNTY SSM                                                                                                                                                                                       | SAULT STE MARIE | MI    | 9.065868263 | 4.023952096 | 6.880239521 | 6.125748503 | 45407                    |\n",
       "| CIBOLA COUNTY CORRECTIONAL CENTER                                                                                                                                                                         | MILAN           | NM    | 148.1676647 | 21.33532934 | 0.760479042 | 0.658682635 | 45715                    |\n",
       "| CIMMARR.ON CORR FACILITY                                                                                                                                                                                  | CUSHING         | OK    | 17.05988024 | 3.670658683 | 0.311377246 | 0           | NA                       |\n",
       "| CLAY COUNTY JUSTICE CENTER                                                                                                                                                                                | BRAZIL          | IN    | 53.4011976  | 29.56886228 | 91.20958084 | 63.61676647 | 45470                    |\n",
       "| ⋮ | ⋮ | ⋮ | ⋮ | ⋮ | ⋮ | ⋮ | ⋮ |\n",
       "| POTTAWATTAMIE COUNTY JAIL                     | COUNCIL BLUFFS | IA | 2.071856287 | 4.51497006  | 10.08383234 | 17.5988024  | 45589 |\n",
       "| PRAIRIELA)ND DETENTION CENTER                 | ALVARADO       | TX | 251.0538922 | 83.89820359 | 202.988024  | 122.5329341 | 45645 |\n",
       "| PRINCE EDWARD COUNTY (FARMVILLE)              | FARMVILLE      | VA | 149.4850299 | 68.16766467 | 128.2095808 | 141.8502994 | 45645 |\n",
       "| RICHWOOD CORRECTIONAL CENTER                  | MONROE         | LA | 767.4431138 | 27.83832335 | 5.760479042 | 4.341317365 | 45603 |\n",
       "| RIO GRANDE DET)ENTION CENTER                  | LAREDO         | TX | 616.6107784 | 6.610778443 | 1.449101796 | 1.245508982 | 45666 |\n",
       "| RIVER CORRECTIONAL CENTER                     | FERRIDAY       | LA | 488.9580838 | 61.82035928 | 1.317365269 | 0.754491018 | 45617 |\n",
       "| ROBERT A DEYTON DETENT*ION FACILITY           | LOVEJOY        | GA | 1.664670659 | 1.808383234 | 2.586826347 | 0.814371257 | 45246 |\n",
       "| SAIPAN DEPARTMENT OF CORRECTIONS (SUSUPE)     | SAIPAN         | MP | 2.179640719 | 1.934131737 | 0.562874251 | 0           | 45359 |\n",
       "| SALT LAKE COUNTY METRO JAIL                   | SALT LAKE CITY | UT | 1           | 4.335329341 | 0.473053892 | 0.113772455 | 45562 |\n",
       "| SAN JUAN STAGING                              | GUAYNABO       | PR | 4.281437126 | 0.251497006 | 0.592814371 | 0.179640719 | N/A   |\n",
       "| SAN LUIS REGIONAL DETENTION CENTER            | SAN LUIS       | AZ | 38.61077844 | 7.203592814 | 0.479041916 | 1.077844311 | 45561 |\n",
       "| SENECA COUNTY JAIL                            | TIFFIN         | OH | 17.01796407 | 11.77245509 | 15.52095808 | 18.16766467 | 45596 |\n",
       "| <!----> | ELK RIVER      | MN | 4.592814371 | 5.598802395 | 9.281437126 | 2.760479042 | 45414 |\n",
       "| SOUTH CENTRAL REGIONAL JAIL                   | CHARLESTON     | WV | 2.22754491  | 1.766467066 | 1.880239521 | 1.167664671 | 45561 |\n",
       "| SOUTH LOUISIAN%A ICE PROCESSING CENTER        | BASILE         | LA | 603.8263473 | 100.8862275 | 92.66467066 | 35.25149701 | 45533 |\n",
       "| SOUTH TEXAS ICE PROCESSING CENTER             | PEARSALL       | TX | 1299.083832 | 106.1257485 | 188.7245509 | 68.19760479 | 45694 |\n",
       "| ST. CLAIR COUNTY JAIL                         | PORT HURON     | MI | 46.28742515 | 10.89221557 | 10.2754491  | 5.281437126 | 45554 |\n",
       "| STE. GENEVIEVE COUNTY SHERIFF/JAIL            | STE. GENEVIEVE | MO | 7.19E-02    | 1.113772455 | 0.74251497  | 0.215568862 | NA    |\n",
       "| STEWART DETENTION CENTER                      | LUMPKIN        | GA | 743.3113772 | 194.9281437 | 371.5628743 | 328.0419162 | 45505 |\n",
       "| <!----> | DOVER          | NH | 0           | 0           | 49.16167665 | 41.33532934 | 45547 |\n",
       "| SWEETWATER COUNTY JAIL                        | ROCK SPRINGS   | WY | 0.233532934 | 0.520958084 | 0.610778443 | 6.59E-02    | 45377 |\n",
       "| T DON HUTTO DETENTION CENT@ER                 | TAYLOR         | TX | 199.9820359 | 40.63473054 | 114.0658683 | 69.14371257 | 45645 |\n",
       "| TORRANCE/ESTANCIA, NM                         | ESTANCIA       | NM | 323.502994  | 52          | 7.634730539 | 4.143712575 | 45589 |\n",
       "| TULSA COUNTY JAIL (DAVID L. MOSS JUSTICE CTR) | TULSA          | OK | 5.868263473 | 3.760479042 | 2.508982036 | 1.28742515  | 45554 |\n",
       "| TWO BRIDGES REGIONAL JAI(L                    | WISCASSET      | ME | 0           | 0           | 1.095808383 | 0.844311377 | NA    |\n",
       "| WASHINGTON COUNTY DETENTION CENTER            | FAYETTEVILLE   | AR | 0.922155689 | 1.119760479 | 1.203592814 | 0.401197605 | 45232 |\n",
       "| WASH(OE COUNTY JAIL                           | RENO           | NV | 0.814371257 | 2.023952096 | 3.443113772 | 3.700598802 | 45603 |\n",
       "| WEBB COUNTY DETENTION CENTER (CCA)            | LAREDO         | TX | 234.4550898 | 4.335329341 | 27.7245509  | 52.93413174 | 45694 |\n",
       "| WINN CORRECTIONAL CENTER                      | WINNFIELD      | LA | 1013.023952 | 214.7724551 | 187.005988  | 94.58083832 | 45673 |\n",
       "| WYATT DETENTION CENTER                        | CENTRAL FALLS  | RI | 16.22155689 | 4.077844311 | 42.32934132 | 49.19760479 | 45554 |\n",
       "\n"
      ],
      "text/plain": [
       "    X                                                                                                                                                                                                        \n",
       "1   These statistics are made available to the public pursuant to H.R. 1158 Sec. 218 - Department of Homeland Security Appropriations Act, 2020. ) *The information in this report is subject to change.     \n",
       "2   ICE FACILITIES DATA, FY25                                                                                                                                                                                \n",
       "3   ICE Enforcement and Removal Operations Data, FY2025                                                                                                                                                      \n",
       "4   This list is limited to facilities that have a population count of greater than or equal to 1 as the time of the data pull.  This list does not include HOLD, HOSPITAL, HOTEL, ORR, or MIRP facilities.  \n",
       "5   Data Source: ICE Integrated Decision Support (IIDS), 03/17/2025                                                                                                                                          \n",
       "6   Name                                                                                                                                                                                                     \n",
       "7   ADAMS COUNTY DET CENTER                                                                                                                                                                                  \n",
       "8   ADELANTO ICE PROCESSING CENTER                                                                                                                                                                           \n",
       "9   ALAMANCE COUNTY DETENTION FACILITY                                                                                                                                                                       \n",
       "10  ALEXA$NDRIA STAGING FACILITY                                                                                                                                                                             \n",
       "11  ALLEGANY COUNTY JAIL                                                                                                                                                                                     \n",
       "12  ALL%EN PARISH PUBLIC SAFETY +COMPLEX                                                                                                                                                                     \n",
       "13  ATLANTA US PEN                                                                                                                                                                                           \n",
       "14  B^AKER COUNTY SHERIFF DEPT.                                                                                                                                                                              \n",
       "15  BERLIN FED. CORR. INST.                                                                                                                                                                                  \n",
       "16  BLUEBONNET DETENTION FACILITY                                                                                                                                                                            \n",
       "17  BOONE COUNTY JAIL                                                                                                                                                                                        \n",
       "18  BROWARD COUNTY JAIL                                                                                                                                                                                      \n",
       "19  BROWARD TRANSITIONAL CENTER                                                                                                                                                                              \n",
       "20  BUFFALO SERVICE PROCESSING CENTER                                                                                                                                                                        \n",
       "21  BUTLER COUNTY JAIL                                                                                                                                                                                       \n",
       "22  CALHOUN C(OUNTY CORRECTIONAL CENTER                                                                                                                                                                      \n",
       "23  CAROLINE DETENTION FACILITY                                                                                                                                                                              \n",
       "24  CCA, FLORENCE CORRECTIONAL CENTER                                                                                                                                                                        \n",
       "25  CENTRAL LOUISIANA ICE PROCESSING CENTER (CLIPC)                                                                                                                                                          \n",
       "26  CHASE COUNTY JAIL                                                                                                                                                                                        \n",
       "27  CHIPPEWA COUNTY SSM                                                                                                                                                                                      \n",
       "28  CIBOLA COUNTY CORRECTIONAL CENTER                                                                                                                                                                        \n",
       "29  CIMMARR.ON CORR FACILITY                                                                                                                                                                                 \n",
       "30  CLAY COUNTY JUSTICE CENTER                                                                                                                                                                               \n",
       "⋮   ⋮                                                                                                                                                                                                        \n",
       "111 POTTAWATTAMIE COUNTY JAIL                                                                                                                                                                                \n",
       "112 PRAIRIELA)ND DETENTION CENTER                                                                                                                                                                            \n",
       "113 PRINCE EDWARD COUNTY (FARMVILLE)                                                                                                                                                                         \n",
       "114 RICHWOOD CORRECTIONAL CENTER                                                                                                                                                                             \n",
       "115 RIO GRANDE DET)ENTION CENTER                                                                                                                                                                             \n",
       "116 RIVER CORRECTIONAL CENTER                                                                                                                                                                                \n",
       "117 ROBERT A DEYTON DETENT*ION FACILITY                                                                                                                                                                      \n",
       "118 SAIPAN DEPARTMENT OF CORRECTIONS (SUSUPE)                                                                                                                                                                \n",
       "119 SALT LAKE COUNTY METRO JAIL                                                                                                                                                                              \n",
       "120 SAN JUAN STAGING                                                                                                                                                                                         \n",
       "121 SAN LUIS REGIONAL DETENTION CENTER                                                                                                                                                                       \n",
       "122 SENECA COUNTY JAIL                                                                                                                                                                                       \n",
       "123                                                                                                                                                                                                          \n",
       "124 SOUTH CENTRAL REGIONAL JAIL                                                                                                                                                                              \n",
       "125 SOUTH LOUISIAN%A ICE PROCESSING CENTER                                                                                                                                                                   \n",
       "126 SOUTH TEXAS ICE PROCESSING CENTER                                                                                                                                                                        \n",
       "127 ST. CLAIR COUNTY JAIL                                                                                                                                                                                    \n",
       "128 STE. GENEVIEVE COUNTY SHERIFF/JAIL                                                                                                                                                                       \n",
       "129 STEWART DETENTION CENTER                                                                                                                                                                                 \n",
       "130                                                                                                                                                                                                          \n",
       "131 SWEETWATER COUNTY JAIL                                                                                                                                                                                   \n",
       "132 T DON HUTTO DETENTION CENT@ER                                                                                                                                                                            \n",
       "133 TORRANCE/ESTANCIA, NM                                                                                                                                                                                    \n",
       "134 TULSA COUNTY JAIL (DAVID L. MOSS JUSTICE CTR)                                                                                                                                                            \n",
       "135 TWO BRIDGES REGIONAL JAI(L                                                                                                                                                                               \n",
       "136 WASHINGTON COUNTY DETENTION CENTER                                                                                                                                                                       \n",
       "137 WASH(OE COUNTY JAIL                                                                                                                                                                                      \n",
       "138 WEBB COUNTY DETENTION CENTER (CCA)                                                                                                                                                                       \n",
       "139 WINN CORRECTIONAL CENTER                                                                                                                                                                                 \n",
       "140 WYATT DETENTION CENTER                                                                                                                                                                                   \n",
       "    X.1             X.2   X.3         X.4         X.5         X.6        \n",
       "1                                                                        \n",
       "2                                                                        \n",
       "3                                                                        \n",
       "4                                                                        \n",
       "5                                                                        \n",
       "6   City            State Level A     Level B     Level C     Level D    \n",
       "7   NATCHEZ         MS    1876.461078 266.4311377 6.724550898 4.25748503 \n",
       "8   ADELANTO        CA    6.401197605 4.323353293 22.60479042 32.63473054\n",
       "9   GRAHAM          NC    4.329341317 3.461077844 6.083832335 6.185628743\n",
       "10  ALEXANDRIA      LA    137.5209581 47.41317365 76.00598802 52.48502994\n",
       "11  BELMONT         NY    1.221556886 1.80E-02    0           0          \n",
       "12  OBERLIN         LA    101.3113772 30.25149701 33.76646707 10.66467066\n",
       "13  ATLANTA               17.34131737 3.610778443 3.053892216 2.724550898\n",
       "14  MACCLENNY       FL    26.22155689 38.64071856 88.65269461 88.73053892\n",
       "15  BERLIN          NH    1.748502994 8.98E-02    0.97005988  0.71257485 \n",
       "16  ANSON           TX    311.3053892 164.5508982 241.6167665 104.5149701\n",
       "17  BURLINGTON      KY    28.32335329 22.92215569 33.32934132 56.43113772\n",
       "18  FT.LAUDERDALE   FL    0.335329341 0.209580838 1.053892216 0.233532934\n",
       "19  POMPANO BEACH   FL    495.4670659 158.3532934 3.844311377 0.718562874\n",
       "20  BATAVIA         NY    235.6886228 46.08383234 133.5868263 151.2754491\n",
       "21  HAMILTON        OH    1.51497006  0.598802395 0.838323353 0.107784431\n",
       "22  BATTLE CREEK    MI    56.78443114 35.29341317 30.98203593 15.95209581\n",
       "23  BOWLING GREEN   VA    111.1077844 33.88023952 62.51497006 76.92215569\n",
       "24  FLORENCE        AZ    50.4491018  40.62275449 145.2215569 141.742515 \n",
       "25  JENA            LA    410.9700599 221.2095808 344.7904192 207.1616766\n",
       "26  COTTONWOOD FALL KS    19.11377246 17.9760479  33.77245509 17.76646707\n",
       "27  SAULT STE MARIE MI    9.065868263 4.023952096 6.880239521 6.125748503\n",
       "28  MILAN           NM    148.1676647 21.33532934 0.760479042 0.658682635\n",
       "29  CUSHING         OK    17.05988024 3.670658683 0.311377246 0          \n",
       "30  BRAZIL          IN    53.4011976  29.56886228 91.20958084 63.61676647\n",
       "⋮   ⋮               ⋮     ⋮           ⋮           ⋮           ⋮          \n",
       "111 COUNCIL BLUFFS  IA    2.071856287 4.51497006  10.08383234 17.5988024 \n",
       "112 ALVARADO        TX    251.0538922 83.89820359 202.988024  122.5329341\n",
       "113 FARMVILLE       VA    149.4850299 68.16766467 128.2095808 141.8502994\n",
       "114 MONROE          LA    767.4431138 27.83832335 5.760479042 4.341317365\n",
       "115 LAREDO          TX    616.6107784 6.610778443 1.449101796 1.245508982\n",
       "116 FERRIDAY        LA    488.9580838 61.82035928 1.317365269 0.754491018\n",
       "117 LOVEJOY         GA    1.664670659 1.808383234 2.586826347 0.814371257\n",
       "118 SAIPAN          MP    2.179640719 1.934131737 0.562874251 0          \n",
       "119 SALT LAKE CITY  UT    1           4.335329341 0.473053892 0.113772455\n",
       "120 GUAYNABO        PR    4.281437126 0.251497006 0.592814371 0.179640719\n",
       "121 SAN LUIS        AZ    38.61077844 7.203592814 0.479041916 1.077844311\n",
       "122 TIFFIN          OH    17.01796407 11.77245509 15.52095808 18.16766467\n",
       "123 ELK RIVER       MN    4.592814371 5.598802395 9.281437126 2.760479042\n",
       "124 CHARLESTON      WV    2.22754491  1.766467066 1.880239521 1.167664671\n",
       "125 BASILE          LA    603.8263473 100.8862275 92.66467066 35.25149701\n",
       "126 PEARSALL        TX    1299.083832 106.1257485 188.7245509 68.19760479\n",
       "127 PORT HURON      MI    46.28742515 10.89221557 10.2754491  5.281437126\n",
       "128 STE. GENEVIEVE  MO    7.19E-02    1.113772455 0.74251497  0.215568862\n",
       "129 LUMPKIN         GA    743.3113772 194.9281437 371.5628743 328.0419162\n",
       "130 DOVER           NH    0           0           49.16167665 41.33532934\n",
       "131 ROCK SPRINGS    WY    0.233532934 0.520958084 0.610778443 6.59E-02   \n",
       "132 TAYLOR          TX    199.9820359 40.63473054 114.0658683 69.14371257\n",
       "133 ESTANCIA        NM    323.502994  52          7.634730539 4.143712575\n",
       "134 TULSA           OK    5.868263473 3.760479042 2.508982036 1.28742515 \n",
       "135 WISCASSET       ME    0           0           1.095808383 0.844311377\n",
       "136 FAYETTEVILLE    AR    0.922155689 1.119760479 1.203592814 0.401197605\n",
       "137 RENO            NV    0.814371257 2.023952096 3.443113772 3.700598802\n",
       "138 LAREDO          TX    234.4550898 4.335329341 27.7245509  52.93413174\n",
       "139 WINNFIELD       LA    1013.023952 214.7724551 187.005988  94.58083832\n",
       "140 CENTRAL FALLS   RI    16.22155689 4.077844311 42.32934132 49.19760479\n",
       "    X.7                     \n",
       "1                           \n",
       "2                           \n",
       "3                           \n",
       "4                           \n",
       "5                           \n",
       "6   Last Inspection End Date\n",
       "7   45673                   \n",
       "8   45491                   \n",
       "9   45554                   \n",
       "10  45533                   \n",
       "11  NA                      \n",
       "12  45638                   \n",
       "13  N/A                     \n",
       "14  45589                   \n",
       "15  N/A                     \n",
       "16  45638                   \n",
       "17  45617                   \n",
       "18  N/A                     \n",
       "19  45645                   \n",
       "20  45596                   \n",
       "21  44288                   \n",
       "22  45526                   \n",
       "23  45484                   \n",
       "24  45638                   \n",
       "25  45666                   \n",
       "26  45526                   \n",
       "27  45407                   \n",
       "28  45715                   \n",
       "29  NA                      \n",
       "30  45470                   \n",
       "⋮   ⋮                       \n",
       "111 45589                   \n",
       "112 45645                   \n",
       "113 45645                   \n",
       "114 45603                   \n",
       "115 45666                   \n",
       "116 45617                   \n",
       "117 45246                   \n",
       "118 45359                   \n",
       "119 45562                   \n",
       "120 N/A                     \n",
       "121 45561                   \n",
       "122 45596                   \n",
       "123 45414                   \n",
       "124 45561                   \n",
       "125 45533                   \n",
       "126 45694                   \n",
       "127 45554                   \n",
       "128 NA                      \n",
       "129 45505                   \n",
       "130 45547                   \n",
       "131 45377                   \n",
       "132 45645                   \n",
       "133 45589                   \n",
       "134 45554                   \n",
       "135 NA                      \n",
       "136 45232                   \n",
       "137 45603                   \n",
       "138 45694                   \n",
       "139 45673                   \n",
       "140 45554                   "
      ]
     },
     "metadata": {},
     "output_type": "display_data"
    }
   ],
   "source": [
    "df <- read.csv(\"messy_ice_detention.csv\", encoding = \"latin1\")\n",
    "df"
   ]
  },
  {
   "cell_type": "raw",
   "id": "a78315b4-c982-4a4a-b8bc-1e81cdf2a264",
   "metadata": {},
   "source": [
    "As we can see in above case we have unmanaged rows and column that's why we have to get rid of the first few rows in csv file."
   ]
  },
  {
   "cell_type": "code",
   "execution_count": 22,
   "id": "1236b536-2dd2-46ce-adca-6b8e7f252cb6",
   "metadata": {},
   "outputs": [],
   "source": [
    "df <- read.csv(\"messy_ice_detention.csv\",skip = 6, encoding = \"latin1\")"
   ]
  },
  {
   "cell_type": "raw",
   "id": "e94194fd-d6df-4dfd-a2f5-98cf8a151f89",
   "metadata": {},
   "source": [
    "After going through the data looking at it, it seems there are few unwanted characters in the file. Before we deal with them let's confirm."
   ]
  },
  {
   "cell_type": "code",
   "execution_count": 23,
   "id": "c00adb0d-cab6-4169-995f-623c08555464",
   "metadata": {},
   "outputs": [
    {
     "data": {
      "text/html": [
       "TRUE"
      ],
      "text/latex": [
       "TRUE"
      ],
      "text/markdown": [
       "TRUE"
      ],
      "text/plain": [
       "[1] TRUE"
      ]
     },
     "metadata": {},
     "output_type": "display_data"
    },
    {
     "data": {
      "text/html": [
       "FALSE"
      ],
      "text/latex": [
       "FALSE"
      ],
      "text/markdown": [
       "FALSE"
      ],
      "text/plain": [
       "[1] FALSE"
      ]
     },
     "metadata": {},
     "output_type": "display_data"
    }
   ],
   "source": [
    "characters_to_check <- \"[@+\\\\^()]\"\n",
    "has_special_chars_name <- grepl(characters_to_check, df$Name)\n",
    "any(has_special_chars_name)\n",
    "\n",
    "has_special_chars_city <- grepl(characters_to_check, df$City)\n",
    "any(has_special_chars_city)"
   ]
  },
  {
   "cell_type": "raw",
   "id": "03caad32-2779-406d-af64-3dd961e28c8d",
   "metadata": {},
   "source": [
    "So we can see there are few unwanted characters in Name columns which has to be dealt with."
   ]
  },
  {
   "cell_type": "code",
   "execution_count": 24,
   "id": "6ab61c5b-fcd5-4fb6-a318-6ca840ae0540",
   "metadata": {},
   "outputs": [],
   "source": [
    "library(\"dplyr\")\n",
    "df <- df %>%\n",
    "  mutate(\n",
    "    Name = gsub(\"[@+\\\\?/$*^%()]\", \"\", Name),\n",
    "    )"
   ]
  },
  {
   "cell_type": "code",
   "execution_count": 25,
   "id": "6feacd93-cbbf-4e0e-be42-6a94cb9f8d43",
   "metadata": {},
   "outputs": [
    {
     "data": {
      "text/html": [
       "0"
      ],
      "text/latex": [
       "0"
      ],
      "text/markdown": [
       "0"
      ],
      "text/plain": [
       "[1] 0"
      ]
     },
     "metadata": {},
     "output_type": "display_data"
    }
   ],
   "source": [
    "characters_to_check <- \"[@+\\\\$*/^%()]\"\n",
    "has_special_chars_name <- grepl(characters_to_check, df$Name)\n",
    "sum(has_special_chars_name)"
   ]
  },
  {
   "cell_type": "raw",
   "id": "443701a5-576a-485e-9f2d-12c1398b89fb",
   "metadata": {},
   "source": [
    "So now we have dealt with the unwanted characters in the Name Columns"
   ]
  },
  {
   "cell_type": "code",
   "execution_count": 26,
   "id": "b31bac6c-4139-4209-945a-e18edffb70eb",
   "metadata": {},
   "outputs": [
    {
     "data": {
      "text/html": [
       "<table class=\"dataframe\">\n",
       "<caption>A data.frame: 6 × 8</caption>\n",
       "<thead>\n",
       "\t<tr><th></th><th scope=col>Name</th><th scope=col>City</th><th scope=col>State</th><th scope=col>Level.A</th><th scope=col>Level.B</th><th scope=col>Level.C</th><th scope=col>Level.D</th><th scope=col>Last.Inspection.End.Date</th></tr>\n",
       "\t<tr><th></th><th scope=col>&lt;chr&gt;</th><th scope=col>&lt;chr&gt;</th><th scope=col>&lt;chr&gt;</th><th scope=col>&lt;dbl&gt;</th><th scope=col>&lt;dbl&gt;</th><th scope=col>&lt;dbl&gt;</th><th scope=col>&lt;dbl&gt;</th><th scope=col>&lt;chr&gt;</th></tr>\n",
       "</thead>\n",
       "<tbody>\n",
       "\t<tr><th scope=row>1</th><td>ADAMS COUNTY DET CENTER           </td><td>NATCHEZ   </td><td>MS</td><td>1876.461078</td><td>266.431138</td><td> 6.724551</td><td> 4.257485</td><td>45673</td></tr>\n",
       "\t<tr><th scope=row>2</th><td>ADELANTO ICE PROCESSING CENTER    </td><td>ADELANTO  </td><td>CA</td><td>   6.401198</td><td>  4.323353</td><td>22.604790</td><td>32.634731</td><td>45491</td></tr>\n",
       "\t<tr><th scope=row>3</th><td>ALAMANCE COUNTY DETENTION FACILITY</td><td>GRAHAM    </td><td>NC</td><td>   4.329341</td><td>  3.461078</td><td> 6.083832</td><td> 6.185629</td><td>45554</td></tr>\n",
       "\t<tr><th scope=row>4</th><td>ALEXANDRIA STAGING FACILITY       </td><td>ALEXANDRIA</td><td>LA</td><td> 137.520958</td><td> 47.413174</td><td>76.005988</td><td>52.485030</td><td>45533</td></tr>\n",
       "\t<tr><th scope=row>5</th><td>ALLEGANY COUNTY JAIL              </td><td>BELMONT   </td><td>NY</td><td>   1.221557</td><td>  0.018000</td><td> 0.000000</td><td> 0.000000</td><td>NA   </td></tr>\n",
       "\t<tr><th scope=row>6</th><td>ALLEN PARISH PUBLIC SAFETY COMPLEX</td><td>OBERLIN   </td><td>LA</td><td> 101.311377</td><td> 30.251497</td><td>33.766467</td><td>10.664671</td><td>45638</td></tr>\n",
       "</tbody>\n",
       "</table>\n"
      ],
      "text/latex": [
       "A data.frame: 6 × 8\n",
       "\\begin{tabular}{r|llllllll}\n",
       "  & Name & City & State & Level.A & Level.B & Level.C & Level.D & Last.Inspection.End.Date\\\\\n",
       "  & <chr> & <chr> & <chr> & <dbl> & <dbl> & <dbl> & <dbl> & <chr>\\\\\n",
       "\\hline\n",
       "\t1 & ADAMS COUNTY DET CENTER            & NATCHEZ    & MS & 1876.461078 & 266.431138 &  6.724551 &  4.257485 & 45673\\\\\n",
       "\t2 & ADELANTO ICE PROCESSING CENTER     & ADELANTO   & CA &    6.401198 &   4.323353 & 22.604790 & 32.634731 & 45491\\\\\n",
       "\t3 & ALAMANCE COUNTY DETENTION FACILITY & GRAHAM     & NC &    4.329341 &   3.461078 &  6.083832 &  6.185629 & 45554\\\\\n",
       "\t4 & ALEXANDRIA STAGING FACILITY        & ALEXANDRIA & LA &  137.520958 &  47.413174 & 76.005988 & 52.485030 & 45533\\\\\n",
       "\t5 & ALLEGANY COUNTY JAIL               & BELMONT    & NY &    1.221557 &   0.018000 &  0.000000 &  0.000000 & NA   \\\\\n",
       "\t6 & ALLEN PARISH PUBLIC SAFETY COMPLEX & OBERLIN    & LA &  101.311377 &  30.251497 & 33.766467 & 10.664671 & 45638\\\\\n",
       "\\end{tabular}\n"
      ],
      "text/markdown": [
       "\n",
       "A data.frame: 6 × 8\n",
       "\n",
       "| <!--/--> | Name &lt;chr&gt; | City &lt;chr&gt; | State &lt;chr&gt; | Level.A &lt;dbl&gt; | Level.B &lt;dbl&gt; | Level.C &lt;dbl&gt; | Level.D &lt;dbl&gt; | Last.Inspection.End.Date &lt;chr&gt; |\n",
       "|---|---|---|---|---|---|---|---|---|\n",
       "| 1 | ADAMS COUNTY DET CENTER            | NATCHEZ    | MS | 1876.461078 | 266.431138 |  6.724551 |  4.257485 | 45673 |\n",
       "| 2 | ADELANTO ICE PROCESSING CENTER     | ADELANTO   | CA |    6.401198 |   4.323353 | 22.604790 | 32.634731 | 45491 |\n",
       "| 3 | ALAMANCE COUNTY DETENTION FACILITY | GRAHAM     | NC |    4.329341 |   3.461078 |  6.083832 |  6.185629 | 45554 |\n",
       "| 4 | ALEXANDRIA STAGING FACILITY        | ALEXANDRIA | LA |  137.520958 |  47.413174 | 76.005988 | 52.485030 | 45533 |\n",
       "| 5 | ALLEGANY COUNTY JAIL               | BELMONT    | NY |    1.221557 |   0.018000 |  0.000000 |  0.000000 | NA    |\n",
       "| 6 | ALLEN PARISH PUBLIC SAFETY COMPLEX | OBERLIN    | LA |  101.311377 |  30.251497 | 33.766467 | 10.664671 | 45638 |\n",
       "\n"
      ],
      "text/plain": [
       "  Name                               City       State Level.A     Level.B   \n",
       "1 ADAMS COUNTY DET CENTER            NATCHEZ    MS    1876.461078 266.431138\n",
       "2 ADELANTO ICE PROCESSING CENTER     ADELANTO   CA       6.401198   4.323353\n",
       "3 ALAMANCE COUNTY DETENTION FACILITY GRAHAM     NC       4.329341   3.461078\n",
       "4 ALEXANDRIA STAGING FACILITY        ALEXANDRIA LA     137.520958  47.413174\n",
       "5 ALLEGANY COUNTY JAIL               BELMONT    NY       1.221557   0.018000\n",
       "6 ALLEN PARISH PUBLIC SAFETY COMPLEX OBERLIN    LA     101.311377  30.251497\n",
       "  Level.C   Level.D   Last.Inspection.End.Date\n",
       "1  6.724551  4.257485 45673                   \n",
       "2 22.604790 32.634731 45491                   \n",
       "3  6.083832  6.185629 45554                   \n",
       "4 76.005988 52.485030 45533                   \n",
       "5  0.000000  0.000000 NA                      \n",
       "6 33.766467 10.664671 45638                   "
      ]
     },
     "metadata": {},
     "output_type": "display_data"
    }
   ],
   "source": [
    "head(df)"
   ]
  },
  {
   "cell_type": "raw",
   "id": "88e66e8d-2d4b-4413-a7f8-508510a7c08e",
   "metadata": {},
   "source": [
    "AS we can see in Last.Inspection.End.Date column there are values in N/A as well which are not read by the is.na() function so we convert \"N/A\" into \"NA\""
   ]
  },
  {
   "cell_type": "code",
   "execution_count": 27,
   "id": "57659a53-f279-4389-900a-8dcba7de9874",
   "metadata": {},
   "outputs": [],
   "source": [
    "library(dplyr)\n",
    "\n",
    "df <- df %>%\n",
    "  mutate(across(where(is.character), na_if, \" \")) %>%\n",
    "  mutate(across(where(is.character),na_if, \"N/A\"))"
   ]
  },
  {
   "cell_type": "code",
   "execution_count": 28,
   "id": "8c873062-c8a1-4766-bf74-755b25a3b87e",
   "metadata": {},
   "outputs": [
    {
     "data": {
      "text/html": [
       "<table class=\"dataframe\">\n",
       "<caption>A data.frame: 2 × 8</caption>\n",
       "<thead>\n",
       "\t<tr><th></th><th scope=col>Name</th><th scope=col>City</th><th scope=col>State</th><th scope=col>Level.A</th><th scope=col>Level.B</th><th scope=col>Level.C</th><th scope=col>Level.D</th><th scope=col>Last.Inspection.End.Date</th></tr>\n",
       "\t<tr><th></th><th scope=col>&lt;chr&gt;</th><th scope=col>&lt;chr&gt;</th><th scope=col>&lt;chr&gt;</th><th scope=col>&lt;dbl&gt;</th><th scope=col>&lt;dbl&gt;</th><th scope=col>&lt;dbl&gt;</th><th scope=col>&lt;dbl&gt;</th><th scope=col>&lt;chr&gt;</th></tr>\n",
       "</thead>\n",
       "<tbody>\n",
       "\t<tr><th scope=row>117</th><td>NA</td><td>ELK RIVER</td><td>MN</td><td>4.592814</td><td>5.598802</td><td> 9.281437</td><td> 2.760479</td><td>45414</td></tr>\n",
       "\t<tr><th scope=row>124</th><td>NA</td><td>DOVER    </td><td>NH</td><td>0.000000</td><td>0.000000</td><td>49.161677</td><td>41.335329</td><td>45547</td></tr>\n",
       "</tbody>\n",
       "</table>\n"
      ],
      "text/latex": [
       "A data.frame: 2 × 8\n",
       "\\begin{tabular}{r|llllllll}\n",
       "  & Name & City & State & Level.A & Level.B & Level.C & Level.D & Last.Inspection.End.Date\\\\\n",
       "  & <chr> & <chr> & <chr> & <dbl> & <dbl> & <dbl> & <dbl> & <chr>\\\\\n",
       "\\hline\n",
       "\t117 & NA & ELK RIVER & MN & 4.592814 & 5.598802 &  9.281437 &  2.760479 & 45414\\\\\n",
       "\t124 & NA & DOVER     & NH & 0.000000 & 0.000000 & 49.161677 & 41.335329 & 45547\\\\\n",
       "\\end{tabular}\n"
      ],
      "text/markdown": [
       "\n",
       "A data.frame: 2 × 8\n",
       "\n",
       "| <!--/--> | Name &lt;chr&gt; | City &lt;chr&gt; | State &lt;chr&gt; | Level.A &lt;dbl&gt; | Level.B &lt;dbl&gt; | Level.C &lt;dbl&gt; | Level.D &lt;dbl&gt; | Last.Inspection.End.Date &lt;chr&gt; |\n",
       "|---|---|---|---|---|---|---|---|---|\n",
       "| 117 | NA | ELK RIVER | MN | 4.592814 | 5.598802 |  9.281437 |  2.760479 | 45414 |\n",
       "| 124 | NA | DOVER     | NH | 0.000000 | 0.000000 | 49.161677 | 41.335329 | 45547 |\n",
       "\n"
      ],
      "text/plain": [
       "    Name City      State Level.A  Level.B  Level.C   Level.D  \n",
       "117 NA   ELK RIVER MN    4.592814 5.598802  9.281437  2.760479\n",
       "124 NA   DOVER     NH    0.000000 0.000000 49.161677 41.335329\n",
       "    Last.Inspection.End.Date\n",
       "117 45414                   \n",
       "124 45547                   "
      ]
     },
     "metadata": {},
     "output_type": "display_data"
    },
    {
     "data": {
      "text/html": [
       "<table class=\"dataframe\">\n",
       "<caption>A data.frame: 2 × 8</caption>\n",
       "<thead>\n",
       "\t<tr><th></th><th scope=col>Name</th><th scope=col>City</th><th scope=col>State</th><th scope=col>Level.A</th><th scope=col>Level.B</th><th scope=col>Level.C</th><th scope=col>Level.D</th><th scope=col>Last.Inspection.End.Date</th></tr>\n",
       "\t<tr><th></th><th scope=col>&lt;chr&gt;</th><th scope=col>&lt;chr&gt;</th><th scope=col>&lt;chr&gt;</th><th scope=col>&lt;dbl&gt;</th><th scope=col>&lt;dbl&gt;</th><th scope=col>&lt;dbl&gt;</th><th scope=col>&lt;dbl&gt;</th><th scope=col>&lt;chr&gt;</th></tr>\n",
       "</thead>\n",
       "<tbody>\n",
       "\t<tr><th scope=row>7</th><td>ATLANTA US PEN                           </td><td>ATLANTA</td><td>NA</td><td>17.34132</td><td>3.6107784</td><td>3.053892</td><td>2.724551</td><td>NA   </td></tr>\n",
       "\t<tr><th scope=row>72</th><td>LA SALLE COUNTY REGIONAL DETENTION CENTER</td><td>ENCINAL</td><td>NA</td><td> 8.91018</td><td>0.7065868</td><td>0.000000</td><td>0.071900</td><td>45695</td></tr>\n",
       "</tbody>\n",
       "</table>\n"
      ],
      "text/latex": [
       "A data.frame: 2 × 8\n",
       "\\begin{tabular}{r|llllllll}\n",
       "  & Name & City & State & Level.A & Level.B & Level.C & Level.D & Last.Inspection.End.Date\\\\\n",
       "  & <chr> & <chr> & <chr> & <dbl> & <dbl> & <dbl> & <dbl> & <chr>\\\\\n",
       "\\hline\n",
       "\t7 & ATLANTA US PEN                            & ATLANTA & NA & 17.34132 & 3.6107784 & 3.053892 & 2.724551 & NA   \\\\\n",
       "\t72 & LA SALLE COUNTY REGIONAL DETENTION CENTER & ENCINAL & NA &  8.91018 & 0.7065868 & 0.000000 & 0.071900 & 45695\\\\\n",
       "\\end{tabular}\n"
      ],
      "text/markdown": [
       "\n",
       "A data.frame: 2 × 8\n",
       "\n",
       "| <!--/--> | Name &lt;chr&gt; | City &lt;chr&gt; | State &lt;chr&gt; | Level.A &lt;dbl&gt; | Level.B &lt;dbl&gt; | Level.C &lt;dbl&gt; | Level.D &lt;dbl&gt; | Last.Inspection.End.Date &lt;chr&gt; |\n",
       "|---|---|---|---|---|---|---|---|---|\n",
       "| 7 | ATLANTA US PEN                            | ATLANTA | NA | 17.34132 | 3.6107784 | 3.053892 | 2.724551 | NA    |\n",
       "| 72 | LA SALLE COUNTY REGIONAL DETENTION CENTER | ENCINAL | NA |  8.91018 | 0.7065868 | 0.000000 | 0.071900 | 45695 |\n",
       "\n"
      ],
      "text/plain": [
       "   Name                                      City    State Level.A  Level.B  \n",
       "7  ATLANTA US PEN                            ATLANTA NA    17.34132 3.6107784\n",
       "72 LA SALLE COUNTY REGIONAL DETENTION CENTER ENCINAL NA     8.91018 0.7065868\n",
       "   Level.C  Level.D  Last.Inspection.End.Date\n",
       "7  3.053892 2.724551 NA                      \n",
       "72 0.000000 0.071900 45695                   "
      ]
     },
     "metadata": {},
     "output_type": "display_data"
    },
    {
     "data": {
      "text/html": [
       "<table class=\"dataframe\">\n",
       "<caption>A data.frame: 1 × 8</caption>\n",
       "<thead>\n",
       "\t<tr><th></th><th scope=col>Name</th><th scope=col>City</th><th scope=col>State</th><th scope=col>Level.A</th><th scope=col>Level.B</th><th scope=col>Level.C</th><th scope=col>Level.D</th><th scope=col>Last.Inspection.End.Date</th></tr>\n",
       "\t<tr><th></th><th scope=col>&lt;chr&gt;</th><th scope=col>&lt;chr&gt;</th><th scope=col>&lt;chr&gt;</th><th scope=col>&lt;dbl&gt;</th><th scope=col>&lt;dbl&gt;</th><th scope=col>&lt;dbl&gt;</th><th scope=col>&lt;dbl&gt;</th><th scope=col>&lt;chr&gt;</th></tr>\n",
       "</thead>\n",
       "<tbody>\n",
       "\t<tr><th scope=row>52</th><td>GEAUGA COUNTY JAIL</td><td>NA</td><td>OH</td><td>24.67665</td><td>13.05988</td><td>7.580838</td><td>2.694611</td><td>45687</td></tr>\n",
       "</tbody>\n",
       "</table>\n"
      ],
      "text/latex": [
       "A data.frame: 1 × 8\n",
       "\\begin{tabular}{r|llllllll}\n",
       "  & Name & City & State & Level.A & Level.B & Level.C & Level.D & Last.Inspection.End.Date\\\\\n",
       "  & <chr> & <chr> & <chr> & <dbl> & <dbl> & <dbl> & <dbl> & <chr>\\\\\n",
       "\\hline\n",
       "\t52 & GEAUGA COUNTY JAIL & NA & OH & 24.67665 & 13.05988 & 7.580838 & 2.694611 & 45687\\\\\n",
       "\\end{tabular}\n"
      ],
      "text/markdown": [
       "\n",
       "A data.frame: 1 × 8\n",
       "\n",
       "| <!--/--> | Name &lt;chr&gt; | City &lt;chr&gt; | State &lt;chr&gt; | Level.A &lt;dbl&gt; | Level.B &lt;dbl&gt; | Level.C &lt;dbl&gt; | Level.D &lt;dbl&gt; | Last.Inspection.End.Date &lt;chr&gt; |\n",
       "|---|---|---|---|---|---|---|---|---|\n",
       "| 52 | GEAUGA COUNTY JAIL | NA | OH | 24.67665 | 13.05988 | 7.580838 | 2.694611 | 45687 |\n",
       "\n"
      ],
      "text/plain": [
       "   Name               City State Level.A  Level.B  Level.C  Level.D \n",
       "52 GEAUGA COUNTY JAIL NA   OH    24.67665 13.05988 7.580838 2.694611\n",
       "   Last.Inspection.End.Date\n",
       "52 45687                   "
      ]
     },
     "metadata": {},
     "output_type": "display_data"
    },
    {
     "data": {
      "text/html": [
       "<table class=\"dataframe\">\n",
       "<caption>A data.frame: 0 × 8</caption>\n",
       "<thead>\n",
       "\t<tr><th scope=col>Name</th><th scope=col>City</th><th scope=col>State</th><th scope=col>Level.A</th><th scope=col>Level.B</th><th scope=col>Level.C</th><th scope=col>Level.D</th><th scope=col>Last.Inspection.End.Date</th></tr>\n",
       "\t<tr><th scope=col>&lt;chr&gt;</th><th scope=col>&lt;chr&gt;</th><th scope=col>&lt;chr&gt;</th><th scope=col>&lt;dbl&gt;</th><th scope=col>&lt;dbl&gt;</th><th scope=col>&lt;dbl&gt;</th><th scope=col>&lt;dbl&gt;</th><th scope=col>&lt;chr&gt;</th></tr>\n",
       "</thead>\n",
       "<tbody>\n",
       "</tbody>\n",
       "</table>\n"
      ],
      "text/latex": [
       "A data.frame: 0 × 8\n",
       "\\begin{tabular}{llllllll}\n",
       " Name & City & State & Level.A & Level.B & Level.C & Level.D & Last.Inspection.End.Date\\\\\n",
       " <chr> & <chr> & <chr> & <dbl> & <dbl> & <dbl> & <dbl> & <chr>\\\\\n",
       "\\hline\n",
       "\\end{tabular}\n"
      ],
      "text/markdown": [
       "\n",
       "A data.frame: 0 × 8\n",
       "\n",
       "| Name &lt;chr&gt; | City &lt;chr&gt; | State &lt;chr&gt; | Level.A &lt;dbl&gt; | Level.B &lt;dbl&gt; | Level.C &lt;dbl&gt; | Level.D &lt;dbl&gt; | Last.Inspection.End.Date &lt;chr&gt; |\n",
       "|---|---|---|---|---|---|---|---|\n",
       "\n"
      ],
      "text/plain": [
       "     Name City State Level.A Level.B Level.C Level.D Last.Inspection.End.Date"
      ]
     },
     "metadata": {},
     "output_type": "display_data"
    },
    {
     "data": {
      "text/html": [
       "<table class=\"dataframe\">\n",
       "<caption>A data.frame: 0 × 8</caption>\n",
       "<thead>\n",
       "\t<tr><th scope=col>Name</th><th scope=col>City</th><th scope=col>State</th><th scope=col>Level.A</th><th scope=col>Level.B</th><th scope=col>Level.C</th><th scope=col>Level.D</th><th scope=col>Last.Inspection.End.Date</th></tr>\n",
       "\t<tr><th scope=col>&lt;chr&gt;</th><th scope=col>&lt;chr&gt;</th><th scope=col>&lt;chr&gt;</th><th scope=col>&lt;dbl&gt;</th><th scope=col>&lt;dbl&gt;</th><th scope=col>&lt;dbl&gt;</th><th scope=col>&lt;dbl&gt;</th><th scope=col>&lt;chr&gt;</th></tr>\n",
       "</thead>\n",
       "<tbody>\n",
       "</tbody>\n",
       "</table>\n"
      ],
      "text/latex": [
       "A data.frame: 0 × 8\n",
       "\\begin{tabular}{llllllll}\n",
       " Name & City & State & Level.A & Level.B & Level.C & Level.D & Last.Inspection.End.Date\\\\\n",
       " <chr> & <chr> & <chr> & <dbl> & <dbl> & <dbl> & <dbl> & <chr>\\\\\n",
       "\\hline\n",
       "\\end{tabular}\n"
      ],
      "text/markdown": [
       "\n",
       "A data.frame: 0 × 8\n",
       "\n",
       "| Name &lt;chr&gt; | City &lt;chr&gt; | State &lt;chr&gt; | Level.A &lt;dbl&gt; | Level.B &lt;dbl&gt; | Level.C &lt;dbl&gt; | Level.D &lt;dbl&gt; | Last.Inspection.End.Date &lt;chr&gt; |\n",
       "|---|---|---|---|---|---|---|---|\n",
       "\n"
      ],
      "text/plain": [
       "     Name City State Level.A Level.B Level.C Level.D Last.Inspection.End.Date"
      ]
     },
     "metadata": {},
     "output_type": "display_data"
    },
    {
     "data": {
      "text/html": [
       "<table class=\"dataframe\">\n",
       "<caption>A data.frame: 0 × 8</caption>\n",
       "<thead>\n",
       "\t<tr><th scope=col>Name</th><th scope=col>City</th><th scope=col>State</th><th scope=col>Level.A</th><th scope=col>Level.B</th><th scope=col>Level.C</th><th scope=col>Level.D</th><th scope=col>Last.Inspection.End.Date</th></tr>\n",
       "\t<tr><th scope=col>&lt;chr&gt;</th><th scope=col>&lt;chr&gt;</th><th scope=col>&lt;chr&gt;</th><th scope=col>&lt;dbl&gt;</th><th scope=col>&lt;dbl&gt;</th><th scope=col>&lt;dbl&gt;</th><th scope=col>&lt;dbl&gt;</th><th scope=col>&lt;chr&gt;</th></tr>\n",
       "</thead>\n",
       "<tbody>\n",
       "</tbody>\n",
       "</table>\n"
      ],
      "text/latex": [
       "A data.frame: 0 × 8\n",
       "\\begin{tabular}{llllllll}\n",
       " Name & City & State & Level.A & Level.B & Level.C & Level.D & Last.Inspection.End.Date\\\\\n",
       " <chr> & <chr> & <chr> & <dbl> & <dbl> & <dbl> & <dbl> & <chr>\\\\\n",
       "\\hline\n",
       "\\end{tabular}\n"
      ],
      "text/markdown": [
       "\n",
       "A data.frame: 0 × 8\n",
       "\n",
       "| Name &lt;chr&gt; | City &lt;chr&gt; | State &lt;chr&gt; | Level.A &lt;dbl&gt; | Level.B &lt;dbl&gt; | Level.C &lt;dbl&gt; | Level.D &lt;dbl&gt; | Last.Inspection.End.Date &lt;chr&gt; |\n",
       "|---|---|---|---|---|---|---|---|\n",
       "\n"
      ],
      "text/plain": [
       "     Name City State Level.A Level.B Level.C Level.D Last.Inspection.End.Date"
      ]
     },
     "metadata": {},
     "output_type": "display_data"
    },
    {
     "data": {
      "text/html": [
       "<table class=\"dataframe\">\n",
       "<caption>A data.frame: 0 × 8</caption>\n",
       "<thead>\n",
       "\t<tr><th scope=col>Name</th><th scope=col>City</th><th scope=col>State</th><th scope=col>Level.A</th><th scope=col>Level.B</th><th scope=col>Level.C</th><th scope=col>Level.D</th><th scope=col>Last.Inspection.End.Date</th></tr>\n",
       "\t<tr><th scope=col>&lt;chr&gt;</th><th scope=col>&lt;chr&gt;</th><th scope=col>&lt;chr&gt;</th><th scope=col>&lt;dbl&gt;</th><th scope=col>&lt;dbl&gt;</th><th scope=col>&lt;dbl&gt;</th><th scope=col>&lt;dbl&gt;</th><th scope=col>&lt;chr&gt;</th></tr>\n",
       "</thead>\n",
       "<tbody>\n",
       "</tbody>\n",
       "</table>\n"
      ],
      "text/latex": [
       "A data.frame: 0 × 8\n",
       "\\begin{tabular}{llllllll}\n",
       " Name & City & State & Level.A & Level.B & Level.C & Level.D & Last.Inspection.End.Date\\\\\n",
       " <chr> & <chr> & <chr> & <dbl> & <dbl> & <dbl> & <dbl> & <chr>\\\\\n",
       "\\hline\n",
       "\\end{tabular}\n"
      ],
      "text/markdown": [
       "\n",
       "A data.frame: 0 × 8\n",
       "\n",
       "| Name &lt;chr&gt; | City &lt;chr&gt; | State &lt;chr&gt; | Level.A &lt;dbl&gt; | Level.B &lt;dbl&gt; | Level.C &lt;dbl&gt; | Level.D &lt;dbl&gt; | Last.Inspection.End.Date &lt;chr&gt; |\n",
       "|---|---|---|---|---|---|---|---|\n",
       "\n"
      ],
      "text/plain": [
       "     Name City State Level.A Level.B Level.C Level.D Last.Inspection.End.Date"
      ]
     },
     "metadata": {},
     "output_type": "display_data"
    },
    {
     "data": {
      "text/html": [
       "<table class=\"dataframe\">\n",
       "<caption>A data.frame: 17 × 8</caption>\n",
       "<thead>\n",
       "\t<tr><th></th><th scope=col>Name</th><th scope=col>City</th><th scope=col>State</th><th scope=col>Level.A</th><th scope=col>Level.B</th><th scope=col>Level.C</th><th scope=col>Level.D</th><th scope=col>Last.Inspection.End.Date</th></tr>\n",
       "\t<tr><th></th><th scope=col>&lt;chr&gt;</th><th scope=col>&lt;chr&gt;</th><th scope=col>&lt;chr&gt;</th><th scope=col>&lt;dbl&gt;</th><th scope=col>&lt;dbl&gt;</th><th scope=col>&lt;dbl&gt;</th><th scope=col>&lt;dbl&gt;</th><th scope=col>&lt;chr&gt;</th></tr>\n",
       "</thead>\n",
       "<tbody>\n",
       "\t<tr><th scope=row>5</th><td>ALLEGANY COUNTY JAIL              </td><td>BELMONT       </td><td>NY</td><td> 1.2215569</td><td>0.0180000</td><td> 0.0000000</td><td> 0.0000000</td><td>NA</td></tr>\n",
       "\t<tr><th scope=row>7</th><td>ATLANTA US PEN                    </td><td>ATLANTA       </td><td>NA</td><td>17.3413174</td><td>3.6107784</td><td> 3.0538922</td><td> 2.7245509</td><td>NA</td></tr>\n",
       "\t<tr><th scope=row>9</th><td>BERLIN FED. CORR. INST.           </td><td>BERLIN        </td><td>NH</td><td> 1.7485030</td><td>0.0898000</td><td> 0.9700599</td><td> 0.7125748</td><td>NA</td></tr>\n",
       "\t<tr><th scope=row>12</th><td>BROWARD COUNTY JAIL               </td><td>FT.LAUDERDALE </td><td>FL</td><td> 0.3353293</td><td>0.2095808</td><td> 1.0538922</td><td> 0.2335329</td><td>NA</td></tr>\n",
       "\t<tr><th scope=row>23</th><td>CIMMARR.ON CORR FACILITY          </td><td>CUSHING       </td><td>OK</td><td>17.0598802</td><td>3.6706587</td><td> 0.3113772</td><td> 0.0000000</td><td>NA</td></tr>\n",
       "\t<tr><th scope=row>39</th><td>EL PASO SOFT SIDED FACILI         </td><td>EL PASO       </td><td>TX</td><td> 1.0598802</td><td>0.8023952</td><td> 0.4970060</td><td> 0.1556886</td><td>NA</td></tr>\n",
       "\t<tr><th scope=row>46</th><td>FDC PHILADELPHIA                  </td><td>PHILADELPHIA  </td><td>PA</td><td> 9.4251497</td><td>1.6766467</td><td> 3.3473054</td><td> 4.6167665</td><td>NA</td></tr>\n",
       "\t<tr><th scope=row>56</th><td>GREENE COUNTY JAIL                </td><td>SPRINGFIELD   </td><td>MO</td><td>14.5029940</td><td>3.0838323</td><td> 8.5988024</td><td> 5.8862275</td><td>NA</td></tr>\n",
       "\t<tr><th scope=row>59</th><td>HONOLULU FEDERAL DETENTION CENTER </td><td>HONOLULU      </td><td>HI</td><td> 3.8143713</td><td>6.9700599</td><td>10.5868264</td><td> 3.9880240</td><td>NA</td></tr>\n",
       "\t<tr><th scope=row>74</th><td>LEAVENWORTH US PENITENTIARY       </td><td>LEAVENWORTH   </td><td>KS</td><td> 5.6526946</td><td>1.4610778</td><td> 3.5748503</td><td> 4.3592814</td><td>NA</td></tr>\n",
       "\t<tr><th scope=row>80</th><td>MIAMI FEDERAL DETENTION           </td><td>MIAMI         </td><td>FL</td><td>10.4970060</td><td>8.3712575</td><td>38.4910180</td><td>21.0538922</td><td>NA</td></tr>\n",
       "\t<tr><th scope=row>81</th><td>MIAMI STAGING FACILITY            </td><td>MIAMI         </td><td>FL</td><td> 1.6047904</td><td>0.7425150</td><td> 0.5449102</td><td> 0.2814371</td><td>NA</td></tr>\n",
       "\t<tr><th scope=row>85</th><td>NASSAU COUNTY CORRECTIONAL CENTER </td><td>EAST MEADOW   </td><td>NY</td><td> 1.7125748</td><td>0.3173653</td><td> 0.3892216</td><td> 0.3832335</td><td>NA</td></tr>\n",
       "\t<tr><th scope=row>88</th><td>NORTHEAST OHIO CORRECTIONAL CENTER</td><td>YOUNGSTOWN    </td><td>OH</td><td> 8.6586826</td><td>4.0000000</td><td> 3.2455090</td><td> 3.0598802</td><td>NA</td></tr>\n",
       "\t<tr><th scope=row>114</th><td>SAN JUAN STAGING                  </td><td>GUAYNABO      </td><td>PR</td><td> 4.2814371</td><td>0.2514970</td><td> 0.5928144</td><td> 0.1796407</td><td>NA</td></tr>\n",
       "\t<tr><th scope=row>122</th><td>STE. GENEVIEVE COUNTY SHERIFFJAIL </td><td>STE. GENEVIEVE</td><td>MO</td><td> 0.0719000</td><td>1.1137725</td><td> 0.7425150</td><td> 0.2155689</td><td>NA</td></tr>\n",
       "\t<tr><th scope=row>129</th><td>TWO BRIDGES REGIONAL JAIL         </td><td>WISCASSET     </td><td>ME</td><td> 0.0000000</td><td>0.0000000</td><td> 1.0958084</td><td> 0.8443114</td><td>NA</td></tr>\n",
       "</tbody>\n",
       "</table>\n"
      ],
      "text/latex": [
       "A data.frame: 17 × 8\n",
       "\\begin{tabular}{r|llllllll}\n",
       "  & Name & City & State & Level.A & Level.B & Level.C & Level.D & Last.Inspection.End.Date\\\\\n",
       "  & <chr> & <chr> & <chr> & <dbl> & <dbl> & <dbl> & <dbl> & <chr>\\\\\n",
       "\\hline\n",
       "\t5 & ALLEGANY COUNTY JAIL               & BELMONT        & NY &  1.2215569 & 0.0180000 &  0.0000000 &  0.0000000 & NA\\\\\n",
       "\t7 & ATLANTA US PEN                     & ATLANTA        & NA & 17.3413174 & 3.6107784 &  3.0538922 &  2.7245509 & NA\\\\\n",
       "\t9 & BERLIN FED. CORR. INST.            & BERLIN         & NH &  1.7485030 & 0.0898000 &  0.9700599 &  0.7125748 & NA\\\\\n",
       "\t12 & BROWARD COUNTY JAIL                & FT.LAUDERDALE  & FL &  0.3353293 & 0.2095808 &  1.0538922 &  0.2335329 & NA\\\\\n",
       "\t23 & CIMMARR.ON CORR FACILITY           & CUSHING        & OK & 17.0598802 & 3.6706587 &  0.3113772 &  0.0000000 & NA\\\\\n",
       "\t39 & EL PASO SOFT SIDED FACILI          & EL PASO        & TX &  1.0598802 & 0.8023952 &  0.4970060 &  0.1556886 & NA\\\\\n",
       "\t46 & FDC PHILADELPHIA                   & PHILADELPHIA   & PA &  9.4251497 & 1.6766467 &  3.3473054 &  4.6167665 & NA\\\\\n",
       "\t56 & GREENE COUNTY JAIL                 & SPRINGFIELD    & MO & 14.5029940 & 3.0838323 &  8.5988024 &  5.8862275 & NA\\\\\n",
       "\t59 & HONOLULU FEDERAL DETENTION CENTER  & HONOLULU       & HI &  3.8143713 & 6.9700599 & 10.5868264 &  3.9880240 & NA\\\\\n",
       "\t74 & LEAVENWORTH US PENITENTIARY        & LEAVENWORTH    & KS &  5.6526946 & 1.4610778 &  3.5748503 &  4.3592814 & NA\\\\\n",
       "\t80 & MIAMI FEDERAL DETENTION            & MIAMI          & FL & 10.4970060 & 8.3712575 & 38.4910180 & 21.0538922 & NA\\\\\n",
       "\t81 & MIAMI STAGING FACILITY             & MIAMI          & FL &  1.6047904 & 0.7425150 &  0.5449102 &  0.2814371 & NA\\\\\n",
       "\t85 & NASSAU COUNTY CORRECTIONAL CENTER  & EAST MEADOW    & NY &  1.7125748 & 0.3173653 &  0.3892216 &  0.3832335 & NA\\\\\n",
       "\t88 & NORTHEAST OHIO CORRECTIONAL CENTER & YOUNGSTOWN     & OH &  8.6586826 & 4.0000000 &  3.2455090 &  3.0598802 & NA\\\\\n",
       "\t114 & SAN JUAN STAGING                   & GUAYNABO       & PR &  4.2814371 & 0.2514970 &  0.5928144 &  0.1796407 & NA\\\\\n",
       "\t122 & STE. GENEVIEVE COUNTY SHERIFFJAIL  & STE. GENEVIEVE & MO &  0.0719000 & 1.1137725 &  0.7425150 &  0.2155689 & NA\\\\\n",
       "\t129 & TWO BRIDGES REGIONAL JAIL          & WISCASSET      & ME &  0.0000000 & 0.0000000 &  1.0958084 &  0.8443114 & NA\\\\\n",
       "\\end{tabular}\n"
      ],
      "text/markdown": [
       "\n",
       "A data.frame: 17 × 8\n",
       "\n",
       "| <!--/--> | Name &lt;chr&gt; | City &lt;chr&gt; | State &lt;chr&gt; | Level.A &lt;dbl&gt; | Level.B &lt;dbl&gt; | Level.C &lt;dbl&gt; | Level.D &lt;dbl&gt; | Last.Inspection.End.Date &lt;chr&gt; |\n",
       "|---|---|---|---|---|---|---|---|---|\n",
       "| 5 | ALLEGANY COUNTY JAIL               | BELMONT        | NY |  1.2215569 | 0.0180000 |  0.0000000 |  0.0000000 | NA |\n",
       "| 7 | ATLANTA US PEN                     | ATLANTA        | NA | 17.3413174 | 3.6107784 |  3.0538922 |  2.7245509 | NA |\n",
       "| 9 | BERLIN FED. CORR. INST.            | BERLIN         | NH |  1.7485030 | 0.0898000 |  0.9700599 |  0.7125748 | NA |\n",
       "| 12 | BROWARD COUNTY JAIL                | FT.LAUDERDALE  | FL |  0.3353293 | 0.2095808 |  1.0538922 |  0.2335329 | NA |\n",
       "| 23 | CIMMARR.ON CORR FACILITY           | CUSHING        | OK | 17.0598802 | 3.6706587 |  0.3113772 |  0.0000000 | NA |\n",
       "| 39 | EL PASO SOFT SIDED FACILI          | EL PASO        | TX |  1.0598802 | 0.8023952 |  0.4970060 |  0.1556886 | NA |\n",
       "| 46 | FDC PHILADELPHIA                   | PHILADELPHIA   | PA |  9.4251497 | 1.6766467 |  3.3473054 |  4.6167665 | NA |\n",
       "| 56 | GREENE COUNTY JAIL                 | SPRINGFIELD    | MO | 14.5029940 | 3.0838323 |  8.5988024 |  5.8862275 | NA |\n",
       "| 59 | HONOLULU FEDERAL DETENTION CENTER  | HONOLULU       | HI |  3.8143713 | 6.9700599 | 10.5868264 |  3.9880240 | NA |\n",
       "| 74 | LEAVENWORTH US PENITENTIARY        | LEAVENWORTH    | KS |  5.6526946 | 1.4610778 |  3.5748503 |  4.3592814 | NA |\n",
       "| 80 | MIAMI FEDERAL DETENTION            | MIAMI          | FL | 10.4970060 | 8.3712575 | 38.4910180 | 21.0538922 | NA |\n",
       "| 81 | MIAMI STAGING FACILITY             | MIAMI          | FL |  1.6047904 | 0.7425150 |  0.5449102 |  0.2814371 | NA |\n",
       "| 85 | NASSAU COUNTY CORRECTIONAL CENTER  | EAST MEADOW    | NY |  1.7125748 | 0.3173653 |  0.3892216 |  0.3832335 | NA |\n",
       "| 88 | NORTHEAST OHIO CORRECTIONAL CENTER | YOUNGSTOWN     | OH |  8.6586826 | 4.0000000 |  3.2455090 |  3.0598802 | NA |\n",
       "| 114 | SAN JUAN STAGING                   | GUAYNABO       | PR |  4.2814371 | 0.2514970 |  0.5928144 |  0.1796407 | NA |\n",
       "| 122 | STE. GENEVIEVE COUNTY SHERIFFJAIL  | STE. GENEVIEVE | MO |  0.0719000 | 1.1137725 |  0.7425150 |  0.2155689 | NA |\n",
       "| 129 | TWO BRIDGES REGIONAL JAIL          | WISCASSET      | ME |  0.0000000 | 0.0000000 |  1.0958084 |  0.8443114 | NA |\n",
       "\n"
      ],
      "text/plain": [
       "    Name                               City           State Level.A   \n",
       "5   ALLEGANY COUNTY JAIL               BELMONT        NY     1.2215569\n",
       "7   ATLANTA US PEN                     ATLANTA        NA    17.3413174\n",
       "9   BERLIN FED. CORR. INST.            BERLIN         NH     1.7485030\n",
       "12  BROWARD COUNTY JAIL                FT.LAUDERDALE  FL     0.3353293\n",
       "23  CIMMARR.ON CORR FACILITY           CUSHING        OK    17.0598802\n",
       "39  EL PASO SOFT SIDED FACILI          EL PASO        TX     1.0598802\n",
       "46  FDC PHILADELPHIA                   PHILADELPHIA   PA     9.4251497\n",
       "56  GREENE COUNTY JAIL                 SPRINGFIELD    MO    14.5029940\n",
       "59  HONOLULU FEDERAL DETENTION CENTER  HONOLULU       HI     3.8143713\n",
       "74  LEAVENWORTH US PENITENTIARY        LEAVENWORTH    KS     5.6526946\n",
       "80  MIAMI FEDERAL DETENTION            MIAMI          FL    10.4970060\n",
       "81  MIAMI STAGING FACILITY             MIAMI          FL     1.6047904\n",
       "85  NASSAU COUNTY CORRECTIONAL CENTER  EAST MEADOW    NY     1.7125748\n",
       "88  NORTHEAST OHIO CORRECTIONAL CENTER YOUNGSTOWN     OH     8.6586826\n",
       "114 SAN JUAN STAGING                   GUAYNABO       PR     4.2814371\n",
       "122 STE. GENEVIEVE COUNTY SHERIFFJAIL  STE. GENEVIEVE MO     0.0719000\n",
       "129 TWO BRIDGES REGIONAL JAIL          WISCASSET      ME     0.0000000\n",
       "    Level.B   Level.C    Level.D    Last.Inspection.End.Date\n",
       "5   0.0180000  0.0000000  0.0000000 NA                      \n",
       "7   3.6107784  3.0538922  2.7245509 NA                      \n",
       "9   0.0898000  0.9700599  0.7125748 NA                      \n",
       "12  0.2095808  1.0538922  0.2335329 NA                      \n",
       "23  3.6706587  0.3113772  0.0000000 NA                      \n",
       "39  0.8023952  0.4970060  0.1556886 NA                      \n",
       "46  1.6766467  3.3473054  4.6167665 NA                      \n",
       "56  3.0838323  8.5988024  5.8862275 NA                      \n",
       "59  6.9700599 10.5868264  3.9880240 NA                      \n",
       "74  1.4610778  3.5748503  4.3592814 NA                      \n",
       "80  8.3712575 38.4910180 21.0538922 NA                      \n",
       "81  0.7425150  0.5449102  0.2814371 NA                      \n",
       "85  0.3173653  0.3892216  0.3832335 NA                      \n",
       "88  4.0000000  3.2455090  3.0598802 NA                      \n",
       "114 0.2514970  0.5928144  0.1796407 NA                      \n",
       "122 1.1137725  0.7425150  0.2155689 NA                      \n",
       "129 0.0000000  1.0958084  0.8443114 NA                      "
      ]
     },
     "metadata": {},
     "output_type": "display_data"
    }
   ],
   "source": [
    "df[is.na(df$'Name'),]\n",
    "df[is.na(df$'State'),]\n",
    "df[is.na(df$'City'),]\n",
    "df[is.na(df$'Level.A'),]\n",
    "df[is.na(df$'Level.B'),]\n",
    "df[is.na(df$'Level.C'),]\n",
    "df[is.na(df$'Level.D'),]\n",
    "df[is.na(df$'Last.Inspection.End.Date'),]"
   ]
  },
  {
   "cell_type": "code",
   "execution_count": 29,
   "id": "502cda31-b93d-45c8-b6d1-cec7dd2552c2",
   "metadata": {},
   "outputs": [
    {
     "data": {
      "text/html": [
       "<style>\n",
       ".dl-inline {width: auto; margin:0; padding: 0}\n",
       ".dl-inline>dt, .dl-inline>dd {float: none; width: auto; display: inline-block}\n",
       ".dl-inline>dt::after {content: \":\\0020\"; padding-right: .5ex}\n",
       ".dl-inline>dt:not(:first-of-type) {padding-left: .5ex}\n",
       "</style><dl class=dl-inline><dt>Name</dt><dd>2</dd><dt>City</dt><dd>1</dd><dt>State</dt><dd>2</dd><dt>Level.A</dt><dd>0</dd><dt>Level.B</dt><dd>0</dd><dt>Level.C</dt><dd>0</dd><dt>Level.D</dt><dd>0</dd><dt>Last.Inspection.End.Date</dt><dd>17</dd></dl>\n"
      ],
      "text/latex": [
       "\\begin{description*}\n",
       "\\item[Name] 2\n",
       "\\item[City] 1\n",
       "\\item[State] 2\n",
       "\\item[Level.A] 0\n",
       "\\item[Level.B] 0\n",
       "\\item[Level.C] 0\n",
       "\\item[Level.D] 0\n",
       "\\item[Last.Inspection.End.Date] 17\n",
       "\\end{description*}\n"
      ],
      "text/markdown": [
       "Name\n",
       ":   2City\n",
       ":   1State\n",
       ":   2Level.A\n",
       ":   0Level.B\n",
       ":   0Level.C\n",
       ":   0Level.D\n",
       ":   0Last.Inspection.End.Date\n",
       ":   17\n",
       "\n"
      ],
      "text/plain": [
       "                    Name                     City                    State \n",
       "                       2                        1                        2 \n",
       "                 Level.A                  Level.B                  Level.C \n",
       "                       0                        0                        0 \n",
       "                 Level.D Last.Inspection.End.Date \n",
       "                       0                       17 "
      ]
     },
     "metadata": {},
     "output_type": "display_data"
    }
   ],
   "source": [
    "colSums(is.na(df))"
   ]
  },
  {
   "cell_type": "raw",
   "id": "a698bf75-b074-44fb-a651-4daf211d7c32",
   "metadata": {},
   "source": [
    "now managing the misformed dates in Last.Inspection.End.Date into formal date formate"
   ]
  },
  {
   "cell_type": "code",
   "execution_count": 30,
   "id": "cb032dab-6077-42fb-955a-f9732641c075",
   "metadata": {},
   "outputs": [
    {
     "name": "stderr",
     "output_type": "stream",
     "text": [
      "Warning message:\n",
      "\"\u001b[1m\u001b[22mThere was 1 warning in `mutate()`.\n",
      "\u001b[1m\u001b[22m\u001b[36mℹ\u001b[39m In argument: `Last.Inspection.End.Date_converted = case_when(...)`.\n",
      "Caused by warning in `as.Date()`:\n",
      "\u001b[33m!\u001b[39m NAs introduced by coercion\"\n"
     ]
    }
   ],
   "source": [
    "library(\"lubridate\")\n",
    "df <- df %>%\n",
    "  mutate(\n",
    "    Last.Inspection.End.Date_converted = case_when(\n",
    "      grepl(\"^\\\\d+$\", `Last.Inspection.End.Date`) ~ as.Date(as.numeric(`Last.Inspection.End.Date`), origin = \"1899-12-30\"),\n",
    "      TRUE ~ as.Date(parse_date_time(`Last.Inspection.End.Date`, c(\"m/d/Y\"), quiet = TRUE))\n",
    "    )\n",
    "  ) %>%\n",
    "  select(-`Last.Inspection.End.Date`) %>%\n",
    "  rename(Last.Inspection.End.Date = Last.Inspection.End.Date_converted)"
   ]
  },
  {
   "cell_type": "code",
   "execution_count": 32,
   "id": "a6e050be-72c8-4f70-8add-86031799e501",
   "metadata": {},
   "outputs": [
    {
     "data": {
      "text/html": [
       "<table class=\"dataframe\">\n",
       "<caption>A data.frame: 6 × 8</caption>\n",
       "<thead>\n",
       "\t<tr><th></th><th scope=col>Name</th><th scope=col>City</th><th scope=col>State</th><th scope=col>Level.A</th><th scope=col>Level.B</th><th scope=col>Level.C</th><th scope=col>Level.D</th><th scope=col>Last.Inspection.End.Date</th></tr>\n",
       "\t<tr><th></th><th scope=col>&lt;chr&gt;</th><th scope=col>&lt;chr&gt;</th><th scope=col>&lt;chr&gt;</th><th scope=col>&lt;dbl&gt;</th><th scope=col>&lt;dbl&gt;</th><th scope=col>&lt;dbl&gt;</th><th scope=col>&lt;dbl&gt;</th><th scope=col>&lt;date&gt;</th></tr>\n",
       "</thead>\n",
       "<tbody>\n",
       "\t<tr><th scope=row>1</th><td>ADAMS COUNTY DET CENTER           </td><td>NATCHEZ   </td><td>MS</td><td>1876.461078</td><td>266.431138</td><td> 6.724551</td><td> 4.257485</td><td>2025-01-16</td></tr>\n",
       "\t<tr><th scope=row>2</th><td>ADELANTO ICE PROCESSING CENTER    </td><td>ADELANTO  </td><td>CA</td><td>   6.401198</td><td>  4.323353</td><td>22.604790</td><td>32.634731</td><td>2024-07-18</td></tr>\n",
       "\t<tr><th scope=row>3</th><td>ALAMANCE COUNTY DETENTION FACILITY</td><td>GRAHAM    </td><td>NC</td><td>   4.329341</td><td>  3.461078</td><td> 6.083832</td><td> 6.185629</td><td>2024-09-19</td></tr>\n",
       "\t<tr><th scope=row>4</th><td>ALEXANDRIA STAGING FACILITY       </td><td>ALEXANDRIA</td><td>LA</td><td> 137.520958</td><td> 47.413174</td><td>76.005988</td><td>52.485030</td><td>2024-08-29</td></tr>\n",
       "\t<tr><th scope=row>5</th><td>ALLEGANY COUNTY JAIL              </td><td>BELMONT   </td><td>NY</td><td>   1.221557</td><td>  0.018000</td><td> 0.000000</td><td> 0.000000</td><td>NA</td></tr>\n",
       "\t<tr><th scope=row>6</th><td>ALLEN PARISH PUBLIC SAFETY COMPLEX</td><td>OBERLIN   </td><td>LA</td><td> 101.311377</td><td> 30.251497</td><td>33.766467</td><td>10.664671</td><td>2024-12-12</td></tr>\n",
       "</tbody>\n",
       "</table>\n"
      ],
      "text/latex": [
       "A data.frame: 6 × 8\n",
       "\\begin{tabular}{r|llllllll}\n",
       "  & Name & City & State & Level.A & Level.B & Level.C & Level.D & Last.Inspection.End.Date\\\\\n",
       "  & <chr> & <chr> & <chr> & <dbl> & <dbl> & <dbl> & <dbl> & <date>\\\\\n",
       "\\hline\n",
       "\t1 & ADAMS COUNTY DET CENTER            & NATCHEZ    & MS & 1876.461078 & 266.431138 &  6.724551 &  4.257485 & 2025-01-16\\\\\n",
       "\t2 & ADELANTO ICE PROCESSING CENTER     & ADELANTO   & CA &    6.401198 &   4.323353 & 22.604790 & 32.634731 & 2024-07-18\\\\\n",
       "\t3 & ALAMANCE COUNTY DETENTION FACILITY & GRAHAM     & NC &    4.329341 &   3.461078 &  6.083832 &  6.185629 & 2024-09-19\\\\\n",
       "\t4 & ALEXANDRIA STAGING FACILITY        & ALEXANDRIA & LA &  137.520958 &  47.413174 & 76.005988 & 52.485030 & 2024-08-29\\\\\n",
       "\t5 & ALLEGANY COUNTY JAIL               & BELMONT    & NY &    1.221557 &   0.018000 &  0.000000 &  0.000000 & NA\\\\\n",
       "\t6 & ALLEN PARISH PUBLIC SAFETY COMPLEX & OBERLIN    & LA &  101.311377 &  30.251497 & 33.766467 & 10.664671 & 2024-12-12\\\\\n",
       "\\end{tabular}\n"
      ],
      "text/markdown": [
       "\n",
       "A data.frame: 6 × 8\n",
       "\n",
       "| <!--/--> | Name &lt;chr&gt; | City &lt;chr&gt; | State &lt;chr&gt; | Level.A &lt;dbl&gt; | Level.B &lt;dbl&gt; | Level.C &lt;dbl&gt; | Level.D &lt;dbl&gt; | Last.Inspection.End.Date &lt;date&gt; |\n",
       "|---|---|---|---|---|---|---|---|---|\n",
       "| 1 | ADAMS COUNTY DET CENTER            | NATCHEZ    | MS | 1876.461078 | 266.431138 |  6.724551 |  4.257485 | 2025-01-16 |\n",
       "| 2 | ADELANTO ICE PROCESSING CENTER     | ADELANTO   | CA |    6.401198 |   4.323353 | 22.604790 | 32.634731 | 2024-07-18 |\n",
       "| 3 | ALAMANCE COUNTY DETENTION FACILITY | GRAHAM     | NC |    4.329341 |   3.461078 |  6.083832 |  6.185629 | 2024-09-19 |\n",
       "| 4 | ALEXANDRIA STAGING FACILITY        | ALEXANDRIA | LA |  137.520958 |  47.413174 | 76.005988 | 52.485030 | 2024-08-29 |\n",
       "| 5 | ALLEGANY COUNTY JAIL               | BELMONT    | NY |    1.221557 |   0.018000 |  0.000000 |  0.000000 | NA |\n",
       "| 6 | ALLEN PARISH PUBLIC SAFETY COMPLEX | OBERLIN    | LA |  101.311377 |  30.251497 | 33.766467 | 10.664671 | 2024-12-12 |\n",
       "\n"
      ],
      "text/plain": [
       "  Name                               City       State Level.A     Level.B   \n",
       "1 ADAMS COUNTY DET CENTER            NATCHEZ    MS    1876.461078 266.431138\n",
       "2 ADELANTO ICE PROCESSING CENTER     ADELANTO   CA       6.401198   4.323353\n",
       "3 ALAMANCE COUNTY DETENTION FACILITY GRAHAM     NC       4.329341   3.461078\n",
       "4 ALEXANDRIA STAGING FACILITY        ALEXANDRIA LA     137.520958  47.413174\n",
       "5 ALLEGANY COUNTY JAIL               BELMONT    NY       1.221557   0.018000\n",
       "6 ALLEN PARISH PUBLIC SAFETY COMPLEX OBERLIN    LA     101.311377  30.251497\n",
       "  Level.C   Level.D   Last.Inspection.End.Date\n",
       "1  6.724551  4.257485 2025-01-16              \n",
       "2 22.604790 32.634731 2024-07-18              \n",
       "3  6.083832  6.185629 2024-09-19              \n",
       "4 76.005988 52.485030 2024-08-29              \n",
       "5  0.000000  0.000000 <NA>                    \n",
       "6 33.766467 10.664671 2024-12-12              "
      ]
     },
     "metadata": {},
     "output_type": "display_data"
    }
   ],
   "source": [
    "head(df)"
   ]
  },
  {
   "cell_type": "code",
   "execution_count": 34,
   "id": "df175859-5fdc-4d15-be48-c9c093dd27a6",
   "metadata": {},
   "outputs": [
    {
     "data": {
      "text/html": [
       "<table class=\"dataframe\">\n",
       "<caption>A data.frame: 132 × 8</caption>\n",
       "<thead>\n",
       "\t<tr><th></th><th scope=col>Name</th><th scope=col>City</th><th scope=col>State</th><th scope=col>Level.A</th><th scope=col>Level.B</th><th scope=col>Level.C</th><th scope=col>Level.D</th><th scope=col>Last.Inspection.End.Date</th></tr>\n",
       "\t<tr><th></th><th scope=col>&lt;chr&gt;</th><th scope=col>&lt;chr&gt;</th><th scope=col>&lt;chr&gt;</th><th scope=col>&lt;dbl&gt;</th><th scope=col>&lt;dbl&gt;</th><th scope=col>&lt;dbl&gt;</th><th scope=col>&lt;dbl&gt;</th><th scope=col>&lt;date&gt;</th></tr>\n",
       "</thead>\n",
       "<tbody>\n",
       "\t<tr><th scope=row>1</th><td>ADAMS COUNTY DET CENTER                      </td><td>NATCHEZ        </td><td>MS</td><td>1876.4610780</td><td>266.4311377</td><td>  6.7245509</td><td>  4.2574850</td><td>2025-01-16</td></tr>\n",
       "\t<tr><th scope=row>2</th><td>ADELANTO ICE PROCESSING CENTER               </td><td>ADELANTO       </td><td>CA</td><td>   6.4011976</td><td>  4.3233533</td><td> 22.6047904</td><td> 32.6347305</td><td>2024-07-18</td></tr>\n",
       "\t<tr><th scope=row>3</th><td>ALAMANCE COUNTY DETENTION FACILITY           </td><td>GRAHAM         </td><td>NC</td><td>   4.3293413</td><td>  3.4610778</td><td>  6.0838323</td><td>  6.1856287</td><td>2024-09-19</td></tr>\n",
       "\t<tr><th scope=row>4</th><td>ALEXANDRIA STAGING FACILITY                  </td><td>ALEXANDRIA     </td><td>LA</td><td> 137.5209581</td><td> 47.4131736</td><td> 76.0059880</td><td> 52.4850299</td><td>2024-08-29</td></tr>\n",
       "\t<tr><th scope=row>5</th><td>ALLEGANY COUNTY JAIL                         </td><td>BELMONT        </td><td>NY</td><td>   1.2215569</td><td>  0.0180000</td><td>  0.0000000</td><td>  0.0000000</td><td>NA</td></tr>\n",
       "\t<tr><th scope=row>6</th><td>ALLEN PARISH PUBLIC SAFETY COMPLEX           </td><td>OBERLIN        </td><td>LA</td><td> 101.3113772</td><td> 30.2514970</td><td> 33.7664671</td><td> 10.6646707</td><td>2024-12-12</td></tr>\n",
       "\t<tr><th scope=row>7</th><td>ATLANTA US PEN                               </td><td>ATLANTA        </td><td>NA</td><td>  17.3413174</td><td>  3.6107784</td><td>  3.0538922</td><td>  2.7245509</td><td>NA</td></tr>\n",
       "\t<tr><th scope=row>8</th><td>BAKER COUNTY SHERIFF DEPT.                   </td><td>MACCLENNY      </td><td>FL</td><td>  26.2215569</td><td> 38.6407186</td><td> 88.6526946</td><td> 88.7305389</td><td>2024-10-24</td></tr>\n",
       "\t<tr><th scope=row>9</th><td>BERLIN FED. CORR. INST.                      </td><td>BERLIN         </td><td>NH</td><td>   1.7485030</td><td>  0.0898000</td><td>  0.9700599</td><td>  0.7125748</td><td>NA</td></tr>\n",
       "\t<tr><th scope=row>10</th><td>BLUEBONNET DETENTION FACILITY                </td><td>ANSON          </td><td>TX</td><td> 311.3053892</td><td>164.5508982</td><td>241.6167665</td><td>104.5149701</td><td>2024-12-12</td></tr>\n",
       "\t<tr><th scope=row>11</th><td>BOONE COUNTY JAIL                            </td><td>BURLINGTON     </td><td>KY</td><td>  28.3233533</td><td> 22.9221557</td><td> 33.3293413</td><td> 56.4311377</td><td>2024-11-21</td></tr>\n",
       "\t<tr><th scope=row>12</th><td>BROWARD COUNTY JAIL                          </td><td>FT.LAUDERDALE  </td><td>FL</td><td>   0.3353293</td><td>  0.2095808</td><td>  1.0538922</td><td>  0.2335329</td><td>NA</td></tr>\n",
       "\t<tr><th scope=row>13</th><td>BROWARD TRANSITIONAL CENTER                  </td><td>POMPANO BEACH  </td><td>FL</td><td> 495.4670659</td><td>158.3532934</td><td>  3.8443114</td><td>  0.7185629</td><td>2024-12-19</td></tr>\n",
       "\t<tr><th scope=row>14</th><td>BUFFALO SERVICE PROCESSING CENTER            </td><td>BATAVIA        </td><td>NY</td><td> 235.6886228</td><td> 46.0838323</td><td>133.5868263</td><td>151.2754491</td><td>2024-10-31</td></tr>\n",
       "\t<tr><th scope=row>15</th><td>BUTLER COUNTY JAIL                           </td><td>HAMILTON       </td><td>OH</td><td>   1.5149701</td><td>  0.5988024</td><td>  0.8383234</td><td>  0.1077844</td><td>2021-04-02</td></tr>\n",
       "\t<tr><th scope=row>16</th><td>CALHOUN COUNTY CORRECTIONAL CENTER           </td><td>BATTLE CREEK   </td><td>MI</td><td>  56.7844311</td><td> 35.2934132</td><td> 30.9820359</td><td> 15.9520958</td><td>2024-08-22</td></tr>\n",
       "\t<tr><th scope=row>17</th><td>CAROLINE DETENTION FACILITY                  </td><td>BOWLING GREEN  </td><td>VA</td><td> 111.1077844</td><td> 33.8802395</td><td> 62.5149701</td><td> 76.9221557</td><td>2024-07-11</td></tr>\n",
       "\t<tr><th scope=row>18</th><td>CCA, FLORENCE CORRECTIONAL CENTER            </td><td>FLORENCE       </td><td>AZ</td><td>  50.4491018</td><td> 40.6227545</td><td>145.2215569</td><td>141.7425150</td><td>2024-12-12</td></tr>\n",
       "\t<tr><th scope=row>19</th><td>CENTRAL LOUISIANA ICE PROCESSING CENTER CLIPC</td><td>JENA           </td><td>LA</td><td> 410.9700599</td><td>221.2095808</td><td>344.7904192</td><td>207.1616766</td><td>2025-01-09</td></tr>\n",
       "\t<tr><th scope=row>20</th><td>CHASE COUNTY JAIL                            </td><td>COTTONWOOD FALL</td><td>KS</td><td>  19.1137725</td><td> 17.9760479</td><td> 33.7724551</td><td> 17.7664671</td><td>2024-08-22</td></tr>\n",
       "\t<tr><th scope=row>21</th><td>CHIPPEWA COUNTY SSM                          </td><td>SAULT STE MARIE</td><td>MI</td><td>   9.0658683</td><td>  4.0239521</td><td>  6.8802395</td><td>  6.1257485</td><td>2024-04-25</td></tr>\n",
       "\t<tr><th scope=row>22</th><td>CIBOLA COUNTY CORRECTIONAL CENTER            </td><td>MILAN          </td><td>NM</td><td> 148.1676647</td><td> 21.3353293</td><td>  0.7604790</td><td>  0.6586826</td><td>2025-02-27</td></tr>\n",
       "\t<tr><th scope=row>23</th><td>CIMMARR.ON CORR FACILITY                     </td><td>CUSHING        </td><td>OK</td><td>  17.0598802</td><td>  3.6706587</td><td>  0.3113772</td><td>  0.0000000</td><td>NA</td></tr>\n",
       "\t<tr><th scope=row>24</th><td>CLAY COUNTY JUSTICE CENTER                   </td><td>BRAZIL         </td><td>IN</td><td>  53.4011976</td><td> 29.5688623</td><td> 91.2095808</td><td> 63.6167665</td><td>2024-06-27</td></tr>\n",
       "\t<tr><th scope=row>25</th><td>CLINTON COUNTY CORRECTIONAL FACILITY         </td><td>MCELHATTAN     </td><td>PA</td><td>   2.8802395</td><td> 23.7185629</td><td> 36.3053892</td><td> 16.0059880</td><td>2025-01-16</td></tr>\n",
       "\t<tr><th scope=row>26</th><td>CLINTON COUNTY JAIL                          </td><td>PLATTSBURGH    </td><td>NY</td><td>   2.1856287</td><td>  0.5269461</td><td>  1.7544910</td><td>  0.1856287</td><td>2024-06-06</td></tr>\n",
       "\t<tr><th scope=row>27</th><td>COASTAL BEND DETENTION FACILITY              </td><td>ROBSTOWN       </td><td>TX</td><td>   0.8802395</td><td>  2.2395210</td><td>  0.3113772</td><td>  0.1137725</td><td>2025-02-06</td></tr>\n",
       "\t<tr><th scope=row>28</th><td>COLLIER COUNTY NAPLES JAIL CENTER            </td><td>NAPLES         </td><td>FL</td><td>   6.0898204</td><td>  2.0778443</td><td>  2.5748503</td><td>  1.7664671</td><td>2024-12-05</td></tr>\n",
       "\t<tr><th scope=row>29</th><td>CUMBERLAND COUNTY JAIL                       </td><td>PORTLAND       </td><td>ME</td><td>   7.5329341</td><td>  1.1377246</td><td> 19.7964072</td><td> 16.8922156</td><td>2024-09-12</td></tr>\n",
       "\t<tr><th scope=row>30</th><td>DAKOTA COUNTY JAIL                           </td><td>DAKOTA CITY    </td><td>NE</td><td>   2.0479042</td><td>  2.2095808</td><td>  2.4011976</td><td>  1.6946108</td><td>2024-12-07</td></tr>\n",
       "\t<tr><th scope=row>⋮</th><td>⋮</td><td>⋮</td><td>⋮</td><td>⋮</td><td>⋮</td><td>⋮</td><td>⋮</td><td>⋮</td></tr>\n",
       "\t<tr><th scope=row>103</th><td>POLK COUNTY JAIL                           </td><td>DES MOINES    </td><td>IA</td><td>   4.0838323</td><td> 10.8622755</td><td>  9.6167665</td><td> 10.8203593</td><td>2025-02-16</td></tr>\n",
       "\t<tr><th scope=row>104</th><td>PORT ISABEL SPC                            </td><td>LOS FRESNOS   </td><td>TX</td><td> 978.3712575</td><td> 28.3173653</td><td>  0.8502994</td><td>  4.7005988</td><td>2024-09-12</td></tr>\n",
       "\t<tr><th scope=row>105</th><td>POTTAWATTAMIE COUNTY JAIL                  </td><td>COUNCIL BLUFFS</td><td>IA</td><td>   2.0718563</td><td>  4.5149701</td><td> 10.0838323</td><td> 17.5988024</td><td>2024-10-24</td></tr>\n",
       "\t<tr><th scope=row>106</th><td>PRAIRIELAND DETENTION CENTER               </td><td>ALVARADO      </td><td>TX</td><td> 251.0538922</td><td> 83.8982036</td><td>202.9880240</td><td>122.5329341</td><td>2024-12-19</td></tr>\n",
       "\t<tr><th scope=row>107</th><td>PRINCE EDWARD COUNTY FARMVILLE             </td><td>FARMVILLE     </td><td>VA</td><td> 149.4850299</td><td> 68.1676647</td><td>128.2095808</td><td>141.8502994</td><td>2024-12-19</td></tr>\n",
       "\t<tr><th scope=row>108</th><td>RICHWOOD CORRECTIONAL CENTER               </td><td>MONROE        </td><td>LA</td><td> 767.4431138</td><td> 27.8383233</td><td>  5.7604790</td><td>  4.3413174</td><td>2024-11-07</td></tr>\n",
       "\t<tr><th scope=row>109</th><td>RIO GRANDE DETENTION CENTER                </td><td>LAREDO        </td><td>TX</td><td> 616.6107784</td><td>  6.6107784</td><td>  1.4491018</td><td>  1.2455090</td><td>2025-01-09</td></tr>\n",
       "\t<tr><th scope=row>110</th><td>RIVER CORRECTIONAL CENTER                  </td><td>FERRIDAY      </td><td>LA</td><td> 488.9580838</td><td> 61.8203593</td><td>  1.3173653</td><td>  0.7544910</td><td>2024-11-21</td></tr>\n",
       "\t<tr><th scope=row>111</th><td>ROBERT A DEYTON DETENTION FACILITY         </td><td>LOVEJOY       </td><td>GA</td><td>   1.6646707</td><td>  1.8083832</td><td>  2.5868263</td><td>  0.8143713</td><td>2023-11-16</td></tr>\n",
       "\t<tr><th scope=row>112</th><td>SAIPAN DEPARTMENT OF CORRECTIONS SUSUPE    </td><td>SAIPAN        </td><td>MP</td><td>   2.1796407</td><td>  1.9341317</td><td>  0.5628743</td><td>  0.0000000</td><td>2024-03-08</td></tr>\n",
       "\t<tr><th scope=row>113</th><td>SALT LAKE COUNTY METRO JAIL                </td><td>SALT LAKE CITY</td><td>UT</td><td>   1.0000000</td><td>  4.3353293</td><td>  0.4730539</td><td>  0.1137725</td><td>2024-09-27</td></tr>\n",
       "\t<tr><th scope=row>114</th><td>SAN JUAN STAGING                           </td><td>GUAYNABO      </td><td>PR</td><td>   4.2814371</td><td>  0.2514970</td><td>  0.5928144</td><td>  0.1796407</td><td>NA</td></tr>\n",
       "\t<tr><th scope=row>115</th><td>SAN LUIS REGIONAL DETENTION CENTER         </td><td>SAN LUIS      </td><td>AZ</td><td>  38.6107784</td><td>  7.2035928</td><td>  0.4790419</td><td>  1.0778443</td><td>2024-09-26</td></tr>\n",
       "\t<tr><th scope=row>116</th><td>SENECA COUNTY JAIL                         </td><td>TIFFIN        </td><td>OH</td><td>  17.0179641</td><td> 11.7724551</td><td> 15.5209581</td><td> 18.1676647</td><td>2024-10-31</td></tr>\n",
       "\t<tr><th scope=row>118</th><td>SOUTH CENTRAL REGIONAL JAIL                </td><td>CHARLESTON    </td><td>WV</td><td>   2.2275449</td><td>  1.7664671</td><td>  1.8802395</td><td>  1.1676647</td><td>2024-09-26</td></tr>\n",
       "\t<tr><th scope=row>119</th><td>SOUTH LOUISIANA ICE PROCESSING CENTER      </td><td>BASILE        </td><td>LA</td><td> 603.8263473</td><td>100.8862275</td><td> 92.6646707</td><td> 35.2514970</td><td>2024-08-29</td></tr>\n",
       "\t<tr><th scope=row>120</th><td>SOUTH TEXAS ICE PROCESSING CENTER          </td><td>PEARSALL      </td><td>TX</td><td>1299.0838320</td><td>106.1257485</td><td>188.7245509</td><td> 68.1976048</td><td>2025-02-06</td></tr>\n",
       "\t<tr><th scope=row>121</th><td>ST. CLAIR COUNTY JAIL                      </td><td>PORT HURON    </td><td>MI</td><td>  46.2874251</td><td> 10.8922156</td><td> 10.2754491</td><td>  5.2814371</td><td>2024-09-19</td></tr>\n",
       "\t<tr><th scope=row>122</th><td>STE. GENEVIEVE COUNTY SHERIFFJAIL          </td><td>STE. GENEVIEVE</td><td>MO</td><td>   0.0719000</td><td>  1.1137725</td><td>  0.7425150</td><td>  0.2155689</td><td>NA</td></tr>\n",
       "\t<tr><th scope=row>123</th><td>STEWART DETENTION CENTER                   </td><td>LUMPKIN       </td><td>GA</td><td> 743.3113772</td><td>194.9281437</td><td>371.5628743</td><td>328.0419162</td><td>2024-08-01</td></tr>\n",
       "\t<tr><th scope=row>125</th><td>SWEETWATER COUNTY JAIL                     </td><td>ROCK SPRINGS  </td><td>WY</td><td>   0.2335329</td><td>  0.5209581</td><td>  0.6107784</td><td>  0.0659000</td><td>2024-03-26</td></tr>\n",
       "\t<tr><th scope=row>126</th><td>T DON HUTTO DETENTION CENTER               </td><td>TAYLOR        </td><td>TX</td><td> 199.9820359</td><td> 40.6347305</td><td>114.0658683</td><td> 69.1437126</td><td>2024-12-19</td></tr>\n",
       "\t<tr><th scope=row>127</th><td>TORRANCEESTANCIA, NM                       </td><td>ESTANCIA      </td><td>NM</td><td> 323.5029940</td><td> 52.0000000</td><td>  7.6347305</td><td>  4.1437126</td><td>2024-10-24</td></tr>\n",
       "\t<tr><th scope=row>128</th><td>TULSA COUNTY JAIL DAVID L. MOSS JUSTICE CTR</td><td>TULSA         </td><td>OK</td><td>   5.8682635</td><td>  3.7604790</td><td>  2.5089820</td><td>  1.2874252</td><td>2024-09-19</td></tr>\n",
       "\t<tr><th scope=row>129</th><td>TWO BRIDGES REGIONAL JAIL                  </td><td>WISCASSET     </td><td>ME</td><td>   0.0000000</td><td>  0.0000000</td><td>  1.0958084</td><td>  0.8443114</td><td>NA</td></tr>\n",
       "\t<tr><th scope=row>130</th><td>WASHINGTON COUNTY DETENTION CENTER         </td><td>FAYETTEVILLE  </td><td>AR</td><td>   0.9221557</td><td>  1.1197605</td><td>  1.2035928</td><td>  0.4011976</td><td>2023-11-02</td></tr>\n",
       "\t<tr><th scope=row>131</th><td>WASHOE COUNTY JAIL                         </td><td>RENO          </td><td>NV</td><td>   0.8143713</td><td>  2.0239521</td><td>  3.4431138</td><td>  3.7005988</td><td>2024-11-07</td></tr>\n",
       "\t<tr><th scope=row>132</th><td>WEBB COUNTY DETENTION CENTER CCA           </td><td>LAREDO        </td><td>TX</td><td> 234.4550898</td><td>  4.3353293</td><td> 27.7245509</td><td> 52.9341317</td><td>2025-02-06</td></tr>\n",
       "\t<tr><th scope=row>133</th><td>WINN CORRECTIONAL CENTER                   </td><td>WINNFIELD     </td><td>LA</td><td>1013.0239520</td><td>214.7724551</td><td>187.0059880</td><td> 94.5808383</td><td>2025-01-16</td></tr>\n",
       "\t<tr><th scope=row>134</th><td>WYATT DETENTION CENTER                     </td><td>CENTRAL FALLS </td><td>RI</td><td>  16.2215569</td><td>  4.0778443</td><td> 42.3293413</td><td> 49.1976048</td><td>2024-09-19</td></tr>\n",
       "</tbody>\n",
       "</table>\n"
      ],
      "text/latex": [
       "A data.frame: 132 × 8\n",
       "\\begin{tabular}{r|llllllll}\n",
       "  & Name & City & State & Level.A & Level.B & Level.C & Level.D & Last.Inspection.End.Date\\\\\n",
       "  & <chr> & <chr> & <chr> & <dbl> & <dbl> & <dbl> & <dbl> & <date>\\\\\n",
       "\\hline\n",
       "\t1 & ADAMS COUNTY DET CENTER                       & NATCHEZ         & MS & 1876.4610780 & 266.4311377 &   6.7245509 &   4.2574850 & 2025-01-16\\\\\n",
       "\t2 & ADELANTO ICE PROCESSING CENTER                & ADELANTO        & CA &    6.4011976 &   4.3233533 &  22.6047904 &  32.6347305 & 2024-07-18\\\\\n",
       "\t3 & ALAMANCE COUNTY DETENTION FACILITY            & GRAHAM          & NC &    4.3293413 &   3.4610778 &   6.0838323 &   6.1856287 & 2024-09-19\\\\\n",
       "\t4 & ALEXANDRIA STAGING FACILITY                   & ALEXANDRIA      & LA &  137.5209581 &  47.4131736 &  76.0059880 &  52.4850299 & 2024-08-29\\\\\n",
       "\t5 & ALLEGANY COUNTY JAIL                          & BELMONT         & NY &    1.2215569 &   0.0180000 &   0.0000000 &   0.0000000 & NA\\\\\n",
       "\t6 & ALLEN PARISH PUBLIC SAFETY COMPLEX            & OBERLIN         & LA &  101.3113772 &  30.2514970 &  33.7664671 &  10.6646707 & 2024-12-12\\\\\n",
       "\t7 & ATLANTA US PEN                                & ATLANTA         & NA &   17.3413174 &   3.6107784 &   3.0538922 &   2.7245509 & NA\\\\\n",
       "\t8 & BAKER COUNTY SHERIFF DEPT.                    & MACCLENNY       & FL &   26.2215569 &  38.6407186 &  88.6526946 &  88.7305389 & 2024-10-24\\\\\n",
       "\t9 & BERLIN FED. CORR. INST.                       & BERLIN          & NH &    1.7485030 &   0.0898000 &   0.9700599 &   0.7125748 & NA\\\\\n",
       "\t10 & BLUEBONNET DETENTION FACILITY                 & ANSON           & TX &  311.3053892 & 164.5508982 & 241.6167665 & 104.5149701 & 2024-12-12\\\\\n",
       "\t11 & BOONE COUNTY JAIL                             & BURLINGTON      & KY &   28.3233533 &  22.9221557 &  33.3293413 &  56.4311377 & 2024-11-21\\\\\n",
       "\t12 & BROWARD COUNTY JAIL                           & FT.LAUDERDALE   & FL &    0.3353293 &   0.2095808 &   1.0538922 &   0.2335329 & NA\\\\\n",
       "\t13 & BROWARD TRANSITIONAL CENTER                   & POMPANO BEACH   & FL &  495.4670659 & 158.3532934 &   3.8443114 &   0.7185629 & 2024-12-19\\\\\n",
       "\t14 & BUFFALO SERVICE PROCESSING CENTER             & BATAVIA         & NY &  235.6886228 &  46.0838323 & 133.5868263 & 151.2754491 & 2024-10-31\\\\\n",
       "\t15 & BUTLER COUNTY JAIL                            & HAMILTON        & OH &    1.5149701 &   0.5988024 &   0.8383234 &   0.1077844 & 2021-04-02\\\\\n",
       "\t16 & CALHOUN COUNTY CORRECTIONAL CENTER            & BATTLE CREEK    & MI &   56.7844311 &  35.2934132 &  30.9820359 &  15.9520958 & 2024-08-22\\\\\n",
       "\t17 & CAROLINE DETENTION FACILITY                   & BOWLING GREEN   & VA &  111.1077844 &  33.8802395 &  62.5149701 &  76.9221557 & 2024-07-11\\\\\n",
       "\t18 & CCA, FLORENCE CORRECTIONAL CENTER             & FLORENCE        & AZ &   50.4491018 &  40.6227545 & 145.2215569 & 141.7425150 & 2024-12-12\\\\\n",
       "\t19 & CENTRAL LOUISIANA ICE PROCESSING CENTER CLIPC & JENA            & LA &  410.9700599 & 221.2095808 & 344.7904192 & 207.1616766 & 2025-01-09\\\\\n",
       "\t20 & CHASE COUNTY JAIL                             & COTTONWOOD FALL & KS &   19.1137725 &  17.9760479 &  33.7724551 &  17.7664671 & 2024-08-22\\\\\n",
       "\t21 & CHIPPEWA COUNTY SSM                           & SAULT STE MARIE & MI &    9.0658683 &   4.0239521 &   6.8802395 &   6.1257485 & 2024-04-25\\\\\n",
       "\t22 & CIBOLA COUNTY CORRECTIONAL CENTER             & MILAN           & NM &  148.1676647 &  21.3353293 &   0.7604790 &   0.6586826 & 2025-02-27\\\\\n",
       "\t23 & CIMMARR.ON CORR FACILITY                      & CUSHING         & OK &   17.0598802 &   3.6706587 &   0.3113772 &   0.0000000 & NA\\\\\n",
       "\t24 & CLAY COUNTY JUSTICE CENTER                    & BRAZIL          & IN &   53.4011976 &  29.5688623 &  91.2095808 &  63.6167665 & 2024-06-27\\\\\n",
       "\t25 & CLINTON COUNTY CORRECTIONAL FACILITY          & MCELHATTAN      & PA &    2.8802395 &  23.7185629 &  36.3053892 &  16.0059880 & 2025-01-16\\\\\n",
       "\t26 & CLINTON COUNTY JAIL                           & PLATTSBURGH     & NY &    2.1856287 &   0.5269461 &   1.7544910 &   0.1856287 & 2024-06-06\\\\\n",
       "\t27 & COASTAL BEND DETENTION FACILITY               & ROBSTOWN        & TX &    0.8802395 &   2.2395210 &   0.3113772 &   0.1137725 & 2025-02-06\\\\\n",
       "\t28 & COLLIER COUNTY NAPLES JAIL CENTER             & NAPLES          & FL &    6.0898204 &   2.0778443 &   2.5748503 &   1.7664671 & 2024-12-05\\\\\n",
       "\t29 & CUMBERLAND COUNTY JAIL                        & PORTLAND        & ME &    7.5329341 &   1.1377246 &  19.7964072 &  16.8922156 & 2024-09-12\\\\\n",
       "\t30 & DAKOTA COUNTY JAIL                            & DAKOTA CITY     & NE &    2.0479042 &   2.2095808 &   2.4011976 &   1.6946108 & 2024-12-07\\\\\n",
       "\t⋮ & ⋮ & ⋮ & ⋮ & ⋮ & ⋮ & ⋮ & ⋮ & ⋮\\\\\n",
       "\t103 & POLK COUNTY JAIL                            & DES MOINES     & IA &    4.0838323 &  10.8622755 &   9.6167665 &  10.8203593 & 2025-02-16\\\\\n",
       "\t104 & PORT ISABEL SPC                             & LOS FRESNOS    & TX &  978.3712575 &  28.3173653 &   0.8502994 &   4.7005988 & 2024-09-12\\\\\n",
       "\t105 & POTTAWATTAMIE COUNTY JAIL                   & COUNCIL BLUFFS & IA &    2.0718563 &   4.5149701 &  10.0838323 &  17.5988024 & 2024-10-24\\\\\n",
       "\t106 & PRAIRIELAND DETENTION CENTER                & ALVARADO       & TX &  251.0538922 &  83.8982036 & 202.9880240 & 122.5329341 & 2024-12-19\\\\\n",
       "\t107 & PRINCE EDWARD COUNTY FARMVILLE              & FARMVILLE      & VA &  149.4850299 &  68.1676647 & 128.2095808 & 141.8502994 & 2024-12-19\\\\\n",
       "\t108 & RICHWOOD CORRECTIONAL CENTER                & MONROE         & LA &  767.4431138 &  27.8383233 &   5.7604790 &   4.3413174 & 2024-11-07\\\\\n",
       "\t109 & RIO GRANDE DETENTION CENTER                 & LAREDO         & TX &  616.6107784 &   6.6107784 &   1.4491018 &   1.2455090 & 2025-01-09\\\\\n",
       "\t110 & RIVER CORRECTIONAL CENTER                   & FERRIDAY       & LA &  488.9580838 &  61.8203593 &   1.3173653 &   0.7544910 & 2024-11-21\\\\\n",
       "\t111 & ROBERT A DEYTON DETENTION FACILITY          & LOVEJOY        & GA &    1.6646707 &   1.8083832 &   2.5868263 &   0.8143713 & 2023-11-16\\\\\n",
       "\t112 & SAIPAN DEPARTMENT OF CORRECTIONS SUSUPE     & SAIPAN         & MP &    2.1796407 &   1.9341317 &   0.5628743 &   0.0000000 & 2024-03-08\\\\\n",
       "\t113 & SALT LAKE COUNTY METRO JAIL                 & SALT LAKE CITY & UT &    1.0000000 &   4.3353293 &   0.4730539 &   0.1137725 & 2024-09-27\\\\\n",
       "\t114 & SAN JUAN STAGING                            & GUAYNABO       & PR &    4.2814371 &   0.2514970 &   0.5928144 &   0.1796407 & NA\\\\\n",
       "\t115 & SAN LUIS REGIONAL DETENTION CENTER          & SAN LUIS       & AZ &   38.6107784 &   7.2035928 &   0.4790419 &   1.0778443 & 2024-09-26\\\\\n",
       "\t116 & SENECA COUNTY JAIL                          & TIFFIN         & OH &   17.0179641 &  11.7724551 &  15.5209581 &  18.1676647 & 2024-10-31\\\\\n",
       "\t118 & SOUTH CENTRAL REGIONAL JAIL                 & CHARLESTON     & WV &    2.2275449 &   1.7664671 &   1.8802395 &   1.1676647 & 2024-09-26\\\\\n",
       "\t119 & SOUTH LOUISIANA ICE PROCESSING CENTER       & BASILE         & LA &  603.8263473 & 100.8862275 &  92.6646707 &  35.2514970 & 2024-08-29\\\\\n",
       "\t120 & SOUTH TEXAS ICE PROCESSING CENTER           & PEARSALL       & TX & 1299.0838320 & 106.1257485 & 188.7245509 &  68.1976048 & 2025-02-06\\\\\n",
       "\t121 & ST. CLAIR COUNTY JAIL                       & PORT HURON     & MI &   46.2874251 &  10.8922156 &  10.2754491 &   5.2814371 & 2024-09-19\\\\\n",
       "\t122 & STE. GENEVIEVE COUNTY SHERIFFJAIL           & STE. GENEVIEVE & MO &    0.0719000 &   1.1137725 &   0.7425150 &   0.2155689 & NA\\\\\n",
       "\t123 & STEWART DETENTION CENTER                    & LUMPKIN        & GA &  743.3113772 & 194.9281437 & 371.5628743 & 328.0419162 & 2024-08-01\\\\\n",
       "\t125 & SWEETWATER COUNTY JAIL                      & ROCK SPRINGS   & WY &    0.2335329 &   0.5209581 &   0.6107784 &   0.0659000 & 2024-03-26\\\\\n",
       "\t126 & T DON HUTTO DETENTION CENTER                & TAYLOR         & TX &  199.9820359 &  40.6347305 & 114.0658683 &  69.1437126 & 2024-12-19\\\\\n",
       "\t127 & TORRANCEESTANCIA, NM                        & ESTANCIA       & NM &  323.5029940 &  52.0000000 &   7.6347305 &   4.1437126 & 2024-10-24\\\\\n",
       "\t128 & TULSA COUNTY JAIL DAVID L. MOSS JUSTICE CTR & TULSA          & OK &    5.8682635 &   3.7604790 &   2.5089820 &   1.2874252 & 2024-09-19\\\\\n",
       "\t129 & TWO BRIDGES REGIONAL JAIL                   & WISCASSET      & ME &    0.0000000 &   0.0000000 &   1.0958084 &   0.8443114 & NA\\\\\n",
       "\t130 & WASHINGTON COUNTY DETENTION CENTER          & FAYETTEVILLE   & AR &    0.9221557 &   1.1197605 &   1.2035928 &   0.4011976 & 2023-11-02\\\\\n",
       "\t131 & WASHOE COUNTY JAIL                          & RENO           & NV &    0.8143713 &   2.0239521 &   3.4431138 &   3.7005988 & 2024-11-07\\\\\n",
       "\t132 & WEBB COUNTY DETENTION CENTER CCA            & LAREDO         & TX &  234.4550898 &   4.3353293 &  27.7245509 &  52.9341317 & 2025-02-06\\\\\n",
       "\t133 & WINN CORRECTIONAL CENTER                    & WINNFIELD      & LA & 1013.0239520 & 214.7724551 & 187.0059880 &  94.5808383 & 2025-01-16\\\\\n",
       "\t134 & WYATT DETENTION CENTER                      & CENTRAL FALLS  & RI &   16.2215569 &   4.0778443 &  42.3293413 &  49.1976048 & 2024-09-19\\\\\n",
       "\\end{tabular}\n"
      ],
      "text/markdown": [
       "\n",
       "A data.frame: 132 × 8\n",
       "\n",
       "| <!--/--> | Name &lt;chr&gt; | City &lt;chr&gt; | State &lt;chr&gt; | Level.A &lt;dbl&gt; | Level.B &lt;dbl&gt; | Level.C &lt;dbl&gt; | Level.D &lt;dbl&gt; | Last.Inspection.End.Date &lt;date&gt; |\n",
       "|---|---|---|---|---|---|---|---|---|\n",
       "| 1 | ADAMS COUNTY DET CENTER                       | NATCHEZ         | MS | 1876.4610780 | 266.4311377 |   6.7245509 |   4.2574850 | 2025-01-16 |\n",
       "| 2 | ADELANTO ICE PROCESSING CENTER                | ADELANTO        | CA |    6.4011976 |   4.3233533 |  22.6047904 |  32.6347305 | 2024-07-18 |\n",
       "| 3 | ALAMANCE COUNTY DETENTION FACILITY            | GRAHAM          | NC |    4.3293413 |   3.4610778 |   6.0838323 |   6.1856287 | 2024-09-19 |\n",
       "| 4 | ALEXANDRIA STAGING FACILITY                   | ALEXANDRIA      | LA |  137.5209581 |  47.4131736 |  76.0059880 |  52.4850299 | 2024-08-29 |\n",
       "| 5 | ALLEGANY COUNTY JAIL                          | BELMONT         | NY |    1.2215569 |   0.0180000 |   0.0000000 |   0.0000000 | NA |\n",
       "| 6 | ALLEN PARISH PUBLIC SAFETY COMPLEX            | OBERLIN         | LA |  101.3113772 |  30.2514970 |  33.7664671 |  10.6646707 | 2024-12-12 |\n",
       "| 7 | ATLANTA US PEN                                | ATLANTA         | NA |   17.3413174 |   3.6107784 |   3.0538922 |   2.7245509 | NA |\n",
       "| 8 | BAKER COUNTY SHERIFF DEPT.                    | MACCLENNY       | FL |   26.2215569 |  38.6407186 |  88.6526946 |  88.7305389 | 2024-10-24 |\n",
       "| 9 | BERLIN FED. CORR. INST.                       | BERLIN          | NH |    1.7485030 |   0.0898000 |   0.9700599 |   0.7125748 | NA |\n",
       "| 10 | BLUEBONNET DETENTION FACILITY                 | ANSON           | TX |  311.3053892 | 164.5508982 | 241.6167665 | 104.5149701 | 2024-12-12 |\n",
       "| 11 | BOONE COUNTY JAIL                             | BURLINGTON      | KY |   28.3233533 |  22.9221557 |  33.3293413 |  56.4311377 | 2024-11-21 |\n",
       "| 12 | BROWARD COUNTY JAIL                           | FT.LAUDERDALE   | FL |    0.3353293 |   0.2095808 |   1.0538922 |   0.2335329 | NA |\n",
       "| 13 | BROWARD TRANSITIONAL CENTER                   | POMPANO BEACH   | FL |  495.4670659 | 158.3532934 |   3.8443114 |   0.7185629 | 2024-12-19 |\n",
       "| 14 | BUFFALO SERVICE PROCESSING CENTER             | BATAVIA         | NY |  235.6886228 |  46.0838323 | 133.5868263 | 151.2754491 | 2024-10-31 |\n",
       "| 15 | BUTLER COUNTY JAIL                            | HAMILTON        | OH |    1.5149701 |   0.5988024 |   0.8383234 |   0.1077844 | 2021-04-02 |\n",
       "| 16 | CALHOUN COUNTY CORRECTIONAL CENTER            | BATTLE CREEK    | MI |   56.7844311 |  35.2934132 |  30.9820359 |  15.9520958 | 2024-08-22 |\n",
       "| 17 | CAROLINE DETENTION FACILITY                   | BOWLING GREEN   | VA |  111.1077844 |  33.8802395 |  62.5149701 |  76.9221557 | 2024-07-11 |\n",
       "| 18 | CCA, FLORENCE CORRECTIONAL CENTER             | FLORENCE        | AZ |   50.4491018 |  40.6227545 | 145.2215569 | 141.7425150 | 2024-12-12 |\n",
       "| 19 | CENTRAL LOUISIANA ICE PROCESSING CENTER CLIPC | JENA            | LA |  410.9700599 | 221.2095808 | 344.7904192 | 207.1616766 | 2025-01-09 |\n",
       "| 20 | CHASE COUNTY JAIL                             | COTTONWOOD FALL | KS |   19.1137725 |  17.9760479 |  33.7724551 |  17.7664671 | 2024-08-22 |\n",
       "| 21 | CHIPPEWA COUNTY SSM                           | SAULT STE MARIE | MI |    9.0658683 |   4.0239521 |   6.8802395 |   6.1257485 | 2024-04-25 |\n",
       "| 22 | CIBOLA COUNTY CORRECTIONAL CENTER             | MILAN           | NM |  148.1676647 |  21.3353293 |   0.7604790 |   0.6586826 | 2025-02-27 |\n",
       "| 23 | CIMMARR.ON CORR FACILITY                      | CUSHING         | OK |   17.0598802 |   3.6706587 |   0.3113772 |   0.0000000 | NA |\n",
       "| 24 | CLAY COUNTY JUSTICE CENTER                    | BRAZIL          | IN |   53.4011976 |  29.5688623 |  91.2095808 |  63.6167665 | 2024-06-27 |\n",
       "| 25 | CLINTON COUNTY CORRECTIONAL FACILITY          | MCELHATTAN      | PA |    2.8802395 |  23.7185629 |  36.3053892 |  16.0059880 | 2025-01-16 |\n",
       "| 26 | CLINTON COUNTY JAIL                           | PLATTSBURGH     | NY |    2.1856287 |   0.5269461 |   1.7544910 |   0.1856287 | 2024-06-06 |\n",
       "| 27 | COASTAL BEND DETENTION FACILITY               | ROBSTOWN        | TX |    0.8802395 |   2.2395210 |   0.3113772 |   0.1137725 | 2025-02-06 |\n",
       "| 28 | COLLIER COUNTY NAPLES JAIL CENTER             | NAPLES          | FL |    6.0898204 |   2.0778443 |   2.5748503 |   1.7664671 | 2024-12-05 |\n",
       "| 29 | CUMBERLAND COUNTY JAIL                        | PORTLAND        | ME |    7.5329341 |   1.1377246 |  19.7964072 |  16.8922156 | 2024-09-12 |\n",
       "| 30 | DAKOTA COUNTY JAIL                            | DAKOTA CITY     | NE |    2.0479042 |   2.2095808 |   2.4011976 |   1.6946108 | 2024-12-07 |\n",
       "| ⋮ | ⋮ | ⋮ | ⋮ | ⋮ | ⋮ | ⋮ | ⋮ | ⋮ |\n",
       "| 103 | POLK COUNTY JAIL                            | DES MOINES     | IA |    4.0838323 |  10.8622755 |   9.6167665 |  10.8203593 | 2025-02-16 |\n",
       "| 104 | PORT ISABEL SPC                             | LOS FRESNOS    | TX |  978.3712575 |  28.3173653 |   0.8502994 |   4.7005988 | 2024-09-12 |\n",
       "| 105 | POTTAWATTAMIE COUNTY JAIL                   | COUNCIL BLUFFS | IA |    2.0718563 |   4.5149701 |  10.0838323 |  17.5988024 | 2024-10-24 |\n",
       "| 106 | PRAIRIELAND DETENTION CENTER                | ALVARADO       | TX |  251.0538922 |  83.8982036 | 202.9880240 | 122.5329341 | 2024-12-19 |\n",
       "| 107 | PRINCE EDWARD COUNTY FARMVILLE              | FARMVILLE      | VA |  149.4850299 |  68.1676647 | 128.2095808 | 141.8502994 | 2024-12-19 |\n",
       "| 108 | RICHWOOD CORRECTIONAL CENTER                | MONROE         | LA |  767.4431138 |  27.8383233 |   5.7604790 |   4.3413174 | 2024-11-07 |\n",
       "| 109 | RIO GRANDE DETENTION CENTER                 | LAREDO         | TX |  616.6107784 |   6.6107784 |   1.4491018 |   1.2455090 | 2025-01-09 |\n",
       "| 110 | RIVER CORRECTIONAL CENTER                   | FERRIDAY       | LA |  488.9580838 |  61.8203593 |   1.3173653 |   0.7544910 | 2024-11-21 |\n",
       "| 111 | ROBERT A DEYTON DETENTION FACILITY          | LOVEJOY        | GA |    1.6646707 |   1.8083832 |   2.5868263 |   0.8143713 | 2023-11-16 |\n",
       "| 112 | SAIPAN DEPARTMENT OF CORRECTIONS SUSUPE     | SAIPAN         | MP |    2.1796407 |   1.9341317 |   0.5628743 |   0.0000000 | 2024-03-08 |\n",
       "| 113 | SALT LAKE COUNTY METRO JAIL                 | SALT LAKE CITY | UT |    1.0000000 |   4.3353293 |   0.4730539 |   0.1137725 | 2024-09-27 |\n",
       "| 114 | SAN JUAN STAGING                            | GUAYNABO       | PR |    4.2814371 |   0.2514970 |   0.5928144 |   0.1796407 | NA |\n",
       "| 115 | SAN LUIS REGIONAL DETENTION CENTER          | SAN LUIS       | AZ |   38.6107784 |   7.2035928 |   0.4790419 |   1.0778443 | 2024-09-26 |\n",
       "| 116 | SENECA COUNTY JAIL                          | TIFFIN         | OH |   17.0179641 |  11.7724551 |  15.5209581 |  18.1676647 | 2024-10-31 |\n",
       "| 118 | SOUTH CENTRAL REGIONAL JAIL                 | CHARLESTON     | WV |    2.2275449 |   1.7664671 |   1.8802395 |   1.1676647 | 2024-09-26 |\n",
       "| 119 | SOUTH LOUISIANA ICE PROCESSING CENTER       | BASILE         | LA |  603.8263473 | 100.8862275 |  92.6646707 |  35.2514970 | 2024-08-29 |\n",
       "| 120 | SOUTH TEXAS ICE PROCESSING CENTER           | PEARSALL       | TX | 1299.0838320 | 106.1257485 | 188.7245509 |  68.1976048 | 2025-02-06 |\n",
       "| 121 | ST. CLAIR COUNTY JAIL                       | PORT HURON     | MI |   46.2874251 |  10.8922156 |  10.2754491 |   5.2814371 | 2024-09-19 |\n",
       "| 122 | STE. GENEVIEVE COUNTY SHERIFFJAIL           | STE. GENEVIEVE | MO |    0.0719000 |   1.1137725 |   0.7425150 |   0.2155689 | NA |\n",
       "| 123 | STEWART DETENTION CENTER                    | LUMPKIN        | GA |  743.3113772 | 194.9281437 | 371.5628743 | 328.0419162 | 2024-08-01 |\n",
       "| 125 | SWEETWATER COUNTY JAIL                      | ROCK SPRINGS   | WY |    0.2335329 |   0.5209581 |   0.6107784 |   0.0659000 | 2024-03-26 |\n",
       "| 126 | T DON HUTTO DETENTION CENTER                | TAYLOR         | TX |  199.9820359 |  40.6347305 | 114.0658683 |  69.1437126 | 2024-12-19 |\n",
       "| 127 | TORRANCEESTANCIA, NM                        | ESTANCIA       | NM |  323.5029940 |  52.0000000 |   7.6347305 |   4.1437126 | 2024-10-24 |\n",
       "| 128 | TULSA COUNTY JAIL DAVID L. MOSS JUSTICE CTR | TULSA          | OK |    5.8682635 |   3.7604790 |   2.5089820 |   1.2874252 | 2024-09-19 |\n",
       "| 129 | TWO BRIDGES REGIONAL JAIL                   | WISCASSET      | ME |    0.0000000 |   0.0000000 |   1.0958084 |   0.8443114 | NA |\n",
       "| 130 | WASHINGTON COUNTY DETENTION CENTER          | FAYETTEVILLE   | AR |    0.9221557 |   1.1197605 |   1.2035928 |   0.4011976 | 2023-11-02 |\n",
       "| 131 | WASHOE COUNTY JAIL                          | RENO           | NV |    0.8143713 |   2.0239521 |   3.4431138 |   3.7005988 | 2024-11-07 |\n",
       "| 132 | WEBB COUNTY DETENTION CENTER CCA            | LAREDO         | TX |  234.4550898 |   4.3353293 |  27.7245509 |  52.9341317 | 2025-02-06 |\n",
       "| 133 | WINN CORRECTIONAL CENTER                    | WINNFIELD      | LA | 1013.0239520 | 214.7724551 | 187.0059880 |  94.5808383 | 2025-01-16 |\n",
       "| 134 | WYATT DETENTION CENTER                      | CENTRAL FALLS  | RI |   16.2215569 |   4.0778443 |  42.3293413 |  49.1976048 | 2024-09-19 |\n",
       "\n"
      ],
      "text/plain": [
       "    Name                                          City            State\n",
       "1   ADAMS COUNTY DET CENTER                       NATCHEZ         MS   \n",
       "2   ADELANTO ICE PROCESSING CENTER                ADELANTO        CA   \n",
       "3   ALAMANCE COUNTY DETENTION FACILITY            GRAHAM          NC   \n",
       "4   ALEXANDRIA STAGING FACILITY                   ALEXANDRIA      LA   \n",
       "5   ALLEGANY COUNTY JAIL                          BELMONT         NY   \n",
       "6   ALLEN PARISH PUBLIC SAFETY COMPLEX            OBERLIN         LA   \n",
       "7   ATLANTA US PEN                                ATLANTA         NA   \n",
       "8   BAKER COUNTY SHERIFF DEPT.                    MACCLENNY       FL   \n",
       "9   BERLIN FED. CORR. INST.                       BERLIN          NH   \n",
       "10  BLUEBONNET DETENTION FACILITY                 ANSON           TX   \n",
       "11  BOONE COUNTY JAIL                             BURLINGTON      KY   \n",
       "12  BROWARD COUNTY JAIL                           FT.LAUDERDALE   FL   \n",
       "13  BROWARD TRANSITIONAL CENTER                   POMPANO BEACH   FL   \n",
       "14  BUFFALO SERVICE PROCESSING CENTER             BATAVIA         NY   \n",
       "15  BUTLER COUNTY JAIL                            HAMILTON        OH   \n",
       "16  CALHOUN COUNTY CORRECTIONAL CENTER            BATTLE CREEK    MI   \n",
       "17  CAROLINE DETENTION FACILITY                   BOWLING GREEN   VA   \n",
       "18  CCA, FLORENCE CORRECTIONAL CENTER             FLORENCE        AZ   \n",
       "19  CENTRAL LOUISIANA ICE PROCESSING CENTER CLIPC JENA            LA   \n",
       "20  CHASE COUNTY JAIL                             COTTONWOOD FALL KS   \n",
       "21  CHIPPEWA COUNTY SSM                           SAULT STE MARIE MI   \n",
       "22  CIBOLA COUNTY CORRECTIONAL CENTER             MILAN           NM   \n",
       "23  CIMMARR.ON CORR FACILITY                      CUSHING         OK   \n",
       "24  CLAY COUNTY JUSTICE CENTER                    BRAZIL          IN   \n",
       "25  CLINTON COUNTY CORRECTIONAL FACILITY          MCELHATTAN      PA   \n",
       "26  CLINTON COUNTY JAIL                           PLATTSBURGH     NY   \n",
       "27  COASTAL BEND DETENTION FACILITY               ROBSTOWN        TX   \n",
       "28  COLLIER COUNTY NAPLES JAIL CENTER             NAPLES          FL   \n",
       "29  CUMBERLAND COUNTY JAIL                        PORTLAND        ME   \n",
       "30  DAKOTA COUNTY JAIL                            DAKOTA CITY     NE   \n",
       "⋮   ⋮                                             ⋮               ⋮    \n",
       "103 POLK COUNTY JAIL                              DES MOINES      IA   \n",
       "104 PORT ISABEL SPC                               LOS FRESNOS     TX   \n",
       "105 POTTAWATTAMIE COUNTY JAIL                     COUNCIL BLUFFS  IA   \n",
       "106 PRAIRIELAND DETENTION CENTER                  ALVARADO        TX   \n",
       "107 PRINCE EDWARD COUNTY FARMVILLE                FARMVILLE       VA   \n",
       "108 RICHWOOD CORRECTIONAL CENTER                  MONROE          LA   \n",
       "109 RIO GRANDE DETENTION CENTER                   LAREDO          TX   \n",
       "110 RIVER CORRECTIONAL CENTER                     FERRIDAY        LA   \n",
       "111 ROBERT A DEYTON DETENTION FACILITY            LOVEJOY         GA   \n",
       "112 SAIPAN DEPARTMENT OF CORRECTIONS SUSUPE       SAIPAN          MP   \n",
       "113 SALT LAKE COUNTY METRO JAIL                   SALT LAKE CITY  UT   \n",
       "114 SAN JUAN STAGING                              GUAYNABO        PR   \n",
       "115 SAN LUIS REGIONAL DETENTION CENTER            SAN LUIS        AZ   \n",
       "116 SENECA COUNTY JAIL                            TIFFIN          OH   \n",
       "118 SOUTH CENTRAL REGIONAL JAIL                   CHARLESTON      WV   \n",
       "119 SOUTH LOUISIANA ICE PROCESSING CENTER         BASILE          LA   \n",
       "120 SOUTH TEXAS ICE PROCESSING CENTER             PEARSALL        TX   \n",
       "121 ST. CLAIR COUNTY JAIL                         PORT HURON      MI   \n",
       "122 STE. GENEVIEVE COUNTY SHERIFFJAIL             STE. GENEVIEVE  MO   \n",
       "123 STEWART DETENTION CENTER                      LUMPKIN         GA   \n",
       "125 SWEETWATER COUNTY JAIL                        ROCK SPRINGS    WY   \n",
       "126 T DON HUTTO DETENTION CENTER                  TAYLOR          TX   \n",
       "127 TORRANCEESTANCIA, NM                          ESTANCIA        NM   \n",
       "128 TULSA COUNTY JAIL DAVID L. MOSS JUSTICE CTR   TULSA           OK   \n",
       "129 TWO BRIDGES REGIONAL JAIL                     WISCASSET       ME   \n",
       "130 WASHINGTON COUNTY DETENTION CENTER            FAYETTEVILLE    AR   \n",
       "131 WASHOE COUNTY JAIL                            RENO            NV   \n",
       "132 WEBB COUNTY DETENTION CENTER CCA              LAREDO          TX   \n",
       "133 WINN CORRECTIONAL CENTER                      WINNFIELD       LA   \n",
       "134 WYATT DETENTION CENTER                        CENTRAL FALLS   RI   \n",
       "    Level.A      Level.B     Level.C     Level.D     Last.Inspection.End.Date\n",
       "1   1876.4610780 266.4311377   6.7245509   4.2574850 2025-01-16              \n",
       "2      6.4011976   4.3233533  22.6047904  32.6347305 2024-07-18              \n",
       "3      4.3293413   3.4610778   6.0838323   6.1856287 2024-09-19              \n",
       "4    137.5209581  47.4131736  76.0059880  52.4850299 2024-08-29              \n",
       "5      1.2215569   0.0180000   0.0000000   0.0000000 <NA>                    \n",
       "6    101.3113772  30.2514970  33.7664671  10.6646707 2024-12-12              \n",
       "7     17.3413174   3.6107784   3.0538922   2.7245509 <NA>                    \n",
       "8     26.2215569  38.6407186  88.6526946  88.7305389 2024-10-24              \n",
       "9      1.7485030   0.0898000   0.9700599   0.7125748 <NA>                    \n",
       "10   311.3053892 164.5508982 241.6167665 104.5149701 2024-12-12              \n",
       "11    28.3233533  22.9221557  33.3293413  56.4311377 2024-11-21              \n",
       "12     0.3353293   0.2095808   1.0538922   0.2335329 <NA>                    \n",
       "13   495.4670659 158.3532934   3.8443114   0.7185629 2024-12-19              \n",
       "14   235.6886228  46.0838323 133.5868263 151.2754491 2024-10-31              \n",
       "15     1.5149701   0.5988024   0.8383234   0.1077844 2021-04-02              \n",
       "16    56.7844311  35.2934132  30.9820359  15.9520958 2024-08-22              \n",
       "17   111.1077844  33.8802395  62.5149701  76.9221557 2024-07-11              \n",
       "18    50.4491018  40.6227545 145.2215569 141.7425150 2024-12-12              \n",
       "19   410.9700599 221.2095808 344.7904192 207.1616766 2025-01-09              \n",
       "20    19.1137725  17.9760479  33.7724551  17.7664671 2024-08-22              \n",
       "21     9.0658683   4.0239521   6.8802395   6.1257485 2024-04-25              \n",
       "22   148.1676647  21.3353293   0.7604790   0.6586826 2025-02-27              \n",
       "23    17.0598802   3.6706587   0.3113772   0.0000000 <NA>                    \n",
       "24    53.4011976  29.5688623  91.2095808  63.6167665 2024-06-27              \n",
       "25     2.8802395  23.7185629  36.3053892  16.0059880 2025-01-16              \n",
       "26     2.1856287   0.5269461   1.7544910   0.1856287 2024-06-06              \n",
       "27     0.8802395   2.2395210   0.3113772   0.1137725 2025-02-06              \n",
       "28     6.0898204   2.0778443   2.5748503   1.7664671 2024-12-05              \n",
       "29     7.5329341   1.1377246  19.7964072  16.8922156 2024-09-12              \n",
       "30     2.0479042   2.2095808   2.4011976   1.6946108 2024-12-07              \n",
       "⋮   ⋮            ⋮           ⋮           ⋮           ⋮                       \n",
       "103    4.0838323  10.8622755   9.6167665  10.8203593 2025-02-16              \n",
       "104  978.3712575  28.3173653   0.8502994   4.7005988 2024-09-12              \n",
       "105    2.0718563   4.5149701  10.0838323  17.5988024 2024-10-24              \n",
       "106  251.0538922  83.8982036 202.9880240 122.5329341 2024-12-19              \n",
       "107  149.4850299  68.1676647 128.2095808 141.8502994 2024-12-19              \n",
       "108  767.4431138  27.8383233   5.7604790   4.3413174 2024-11-07              \n",
       "109  616.6107784   6.6107784   1.4491018   1.2455090 2025-01-09              \n",
       "110  488.9580838  61.8203593   1.3173653   0.7544910 2024-11-21              \n",
       "111    1.6646707   1.8083832   2.5868263   0.8143713 2023-11-16              \n",
       "112    2.1796407   1.9341317   0.5628743   0.0000000 2024-03-08              \n",
       "113    1.0000000   4.3353293   0.4730539   0.1137725 2024-09-27              \n",
       "114    4.2814371   0.2514970   0.5928144   0.1796407 <NA>                    \n",
       "115   38.6107784   7.2035928   0.4790419   1.0778443 2024-09-26              \n",
       "116   17.0179641  11.7724551  15.5209581  18.1676647 2024-10-31              \n",
       "118    2.2275449   1.7664671   1.8802395   1.1676647 2024-09-26              \n",
       "119  603.8263473 100.8862275  92.6646707  35.2514970 2024-08-29              \n",
       "120 1299.0838320 106.1257485 188.7245509  68.1976048 2025-02-06              \n",
       "121   46.2874251  10.8922156  10.2754491   5.2814371 2024-09-19              \n",
       "122    0.0719000   1.1137725   0.7425150   0.2155689 <NA>                    \n",
       "123  743.3113772 194.9281437 371.5628743 328.0419162 2024-08-01              \n",
       "125    0.2335329   0.5209581   0.6107784   0.0659000 2024-03-26              \n",
       "126  199.9820359  40.6347305 114.0658683  69.1437126 2024-12-19              \n",
       "127  323.5029940  52.0000000   7.6347305   4.1437126 2024-10-24              \n",
       "128    5.8682635   3.7604790   2.5089820   1.2874252 2024-09-19              \n",
       "129    0.0000000   0.0000000   1.0958084   0.8443114 <NA>                    \n",
       "130    0.9221557   1.1197605   1.2035928   0.4011976 2023-11-02              \n",
       "131    0.8143713   2.0239521   3.4431138   3.7005988 2024-11-07              \n",
       "132  234.4550898   4.3353293  27.7245509  52.9341317 2025-02-06              \n",
       "133 1013.0239520 214.7724551 187.0059880  94.5808383 2025-01-16              \n",
       "134   16.2215569   4.0778443  42.3293413  49.1976048 2024-09-19              "
      ]
     },
     "metadata": {},
     "output_type": "display_data"
    }
   ],
   "source": [
    "df <- df[!is.na(df$Name), ]\n",
    "df"
   ]
  },
  {
   "cell_type": "code",
   "execution_count": 36,
   "id": "d7025523-c3aa-489b-8cf4-09df9ba56705",
   "metadata": {},
   "outputs": [
    {
     "data": {
      "text/html": [
       "<style>\n",
       ".dl-inline {width: auto; margin:0; padding: 0}\n",
       ".dl-inline>dt, .dl-inline>dd {float: none; width: auto; display: inline-block}\n",
       ".dl-inline>dt::after {content: \":\\0020\"; padding-right: .5ex}\n",
       ".dl-inline>dt:not(:first-of-type) {padding-left: .5ex}\n",
       "</style><dl class=dl-inline><dt>Name</dt><dd>0</dd><dt>City</dt><dd>1</dd><dt>State</dt><dd>2</dd><dt>Level.A</dt><dd>0</dd><dt>Level.B</dt><dd>0</dd><dt>Level.C</dt><dd>0</dd><dt>Level.D</dt><dd>0</dd><dt>Last.Inspection.End.Date</dt><dd>17</dd></dl>\n"
      ],
      "text/latex": [
       "\\begin{description*}\n",
       "\\item[Name] 0\n",
       "\\item[City] 1\n",
       "\\item[State] 2\n",
       "\\item[Level.A] 0\n",
       "\\item[Level.B] 0\n",
       "\\item[Level.C] 0\n",
       "\\item[Level.D] 0\n",
       "\\item[Last.Inspection.End.Date] 17\n",
       "\\end{description*}\n"
      ],
      "text/markdown": [
       "Name\n",
       ":   0City\n",
       ":   1State\n",
       ":   2Level.A\n",
       ":   0Level.B\n",
       ":   0Level.C\n",
       ":   0Level.D\n",
       ":   0Last.Inspection.End.Date\n",
       ":   17\n",
       "\n"
      ],
      "text/plain": [
       "                    Name                     City                    State \n",
       "                       0                        1                        2 \n",
       "                 Level.A                  Level.B                  Level.C \n",
       "                       0                        0                        0 \n",
       "                 Level.D Last.Inspection.End.Date \n",
       "                       0                       17 "
      ]
     },
     "metadata": {},
     "output_type": "display_data"
    }
   ],
   "source": [
    "colSums(is.na(df))"
   ]
  },
  {
   "cell_type": "code",
   "execution_count": 38,
   "id": "208c9c6c-b193-456b-87a9-bd8fa2a691af",
   "metadata": {},
   "outputs": [
    {
     "data": {
      "text/html": [
       "<table class=\"dataframe\">\n",
       "<caption>A data.frame: 2 × 8</caption>\n",
       "<thead>\n",
       "\t<tr><th></th><th scope=col>Name</th><th scope=col>City</th><th scope=col>State</th><th scope=col>Level.A</th><th scope=col>Level.B</th><th scope=col>Level.C</th><th scope=col>Level.D</th><th scope=col>Last.Inspection.End.Date</th></tr>\n",
       "\t<tr><th></th><th scope=col>&lt;chr&gt;</th><th scope=col>&lt;chr&gt;</th><th scope=col>&lt;chr&gt;</th><th scope=col>&lt;dbl&gt;</th><th scope=col>&lt;dbl&gt;</th><th scope=col>&lt;dbl&gt;</th><th scope=col>&lt;dbl&gt;</th><th scope=col>&lt;date&gt;</th></tr>\n",
       "</thead>\n",
       "<tbody>\n",
       "\t<tr><th scope=row>7</th><td>ATLANTA US PEN                           </td><td>ATLANTA</td><td>NA</td><td>17.34132</td><td>3.6107784</td><td>3.053892</td><td>2.724551</td><td>NA</td></tr>\n",
       "\t<tr><th scope=row>72</th><td>LA SALLE COUNTY REGIONAL DETENTION CENTER</td><td>ENCINAL</td><td>NA</td><td> 8.91018</td><td>0.7065868</td><td>0.000000</td><td>0.071900</td><td>2025-02-07</td></tr>\n",
       "</tbody>\n",
       "</table>\n"
      ],
      "text/latex": [
       "A data.frame: 2 × 8\n",
       "\\begin{tabular}{r|llllllll}\n",
       "  & Name & City & State & Level.A & Level.B & Level.C & Level.D & Last.Inspection.End.Date\\\\\n",
       "  & <chr> & <chr> & <chr> & <dbl> & <dbl> & <dbl> & <dbl> & <date>\\\\\n",
       "\\hline\n",
       "\t7 & ATLANTA US PEN                            & ATLANTA & NA & 17.34132 & 3.6107784 & 3.053892 & 2.724551 & NA\\\\\n",
       "\t72 & LA SALLE COUNTY REGIONAL DETENTION CENTER & ENCINAL & NA &  8.91018 & 0.7065868 & 0.000000 & 0.071900 & 2025-02-07\\\\\n",
       "\\end{tabular}\n"
      ],
      "text/markdown": [
       "\n",
       "A data.frame: 2 × 8\n",
       "\n",
       "| <!--/--> | Name &lt;chr&gt; | City &lt;chr&gt; | State &lt;chr&gt; | Level.A &lt;dbl&gt; | Level.B &lt;dbl&gt; | Level.C &lt;dbl&gt; | Level.D &lt;dbl&gt; | Last.Inspection.End.Date &lt;date&gt; |\n",
       "|---|---|---|---|---|---|---|---|---|\n",
       "| 7 | ATLANTA US PEN                            | ATLANTA | NA | 17.34132 | 3.6107784 | 3.053892 | 2.724551 | NA |\n",
       "| 72 | LA SALLE COUNTY REGIONAL DETENTION CENTER | ENCINAL | NA |  8.91018 | 0.7065868 | 0.000000 | 0.071900 | 2025-02-07 |\n",
       "\n"
      ],
      "text/plain": [
       "   Name                                      City    State Level.A  Level.B  \n",
       "7  ATLANTA US PEN                            ATLANTA NA    17.34132 3.6107784\n",
       "72 LA SALLE COUNTY REGIONAL DETENTION CENTER ENCINAL NA     8.91018 0.7065868\n",
       "   Level.C  Level.D  Last.Inspection.End.Date\n",
       "7  3.053892 2.724551 <NA>                    \n",
       "72 0.000000 0.071900 2025-02-07              "
      ]
     },
     "metadata": {},
     "output_type": "display_data"
    }
   ],
   "source": [
    "df[is.na(df$State),]"
   ]
  },
  {
   "cell_type": "raw",
   "id": "45b8c470-ff6c-4428-8e66-ca33b33ebed8",
   "metadata": {},
   "source": [
    "Since there is only two missing values in State columns , I will be manually inserting the value after serching in the web.\n",
    "Same goes for one value "
   ]
  },
  {
   "cell_type": "code",
   "execution_count": 40,
   "id": "cb60f647-72c9-47e0-81cb-e86039b0d6d1",
   "metadata": {},
   "outputs": [],
   "source": [
    "df$State[df$City == \"ATLANTA\"] <- \"GA\"\n",
    "df$State[df$City == \"ENCINAL\"] <- \"TX\""
   ]
  },
  {
   "cell_type": "code",
   "execution_count": 42,
   "id": "79a8c866-2167-46de-bd44-d2bd891b3575",
   "metadata": {},
   "outputs": [
    {
     "data": {
      "text/html": [
       "<table class=\"dataframe\">\n",
       "<caption>A data.frame: 1 × 8</caption>\n",
       "<thead>\n",
       "\t<tr><th></th><th scope=col>Name</th><th scope=col>City</th><th scope=col>State</th><th scope=col>Level.A</th><th scope=col>Level.B</th><th scope=col>Level.C</th><th scope=col>Level.D</th><th scope=col>Last.Inspection.End.Date</th></tr>\n",
       "\t<tr><th></th><th scope=col>&lt;chr&gt;</th><th scope=col>&lt;chr&gt;</th><th scope=col>&lt;chr&gt;</th><th scope=col>&lt;dbl&gt;</th><th scope=col>&lt;dbl&gt;</th><th scope=col>&lt;dbl&gt;</th><th scope=col>&lt;dbl&gt;</th><th scope=col>&lt;date&gt;</th></tr>\n",
       "</thead>\n",
       "<tbody>\n",
       "\t<tr><th scope=row>52</th><td>GEAUGA COUNTY JAIL</td><td>NA</td><td>OH</td><td>24.67665</td><td>13.05988</td><td>7.580838</td><td>2.694611</td><td>2025-01-30</td></tr>\n",
       "</tbody>\n",
       "</table>\n"
      ],
      "text/latex": [
       "A data.frame: 1 × 8\n",
       "\\begin{tabular}{r|llllllll}\n",
       "  & Name & City & State & Level.A & Level.B & Level.C & Level.D & Last.Inspection.End.Date\\\\\n",
       "  & <chr> & <chr> & <chr> & <dbl> & <dbl> & <dbl> & <dbl> & <date>\\\\\n",
       "\\hline\n",
       "\t52 & GEAUGA COUNTY JAIL & NA & OH & 24.67665 & 13.05988 & 7.580838 & 2.694611 & 2025-01-30\\\\\n",
       "\\end{tabular}\n"
      ],
      "text/markdown": [
       "\n",
       "A data.frame: 1 × 8\n",
       "\n",
       "| <!--/--> | Name &lt;chr&gt; | City &lt;chr&gt; | State &lt;chr&gt; | Level.A &lt;dbl&gt; | Level.B &lt;dbl&gt; | Level.C &lt;dbl&gt; | Level.D &lt;dbl&gt; | Last.Inspection.End.Date &lt;date&gt; |\n",
       "|---|---|---|---|---|---|---|---|---|\n",
       "| 52 | GEAUGA COUNTY JAIL | NA | OH | 24.67665 | 13.05988 | 7.580838 | 2.694611 | 2025-01-30 |\n",
       "\n"
      ],
      "text/plain": [
       "   Name               City State Level.A  Level.B  Level.C  Level.D \n",
       "52 GEAUGA COUNTY JAIL NA   OH    24.67665 13.05988 7.580838 2.694611\n",
       "   Last.Inspection.End.Date\n",
       "52 2025-01-30              "
      ]
     },
     "metadata": {},
     "output_type": "display_data"
    }
   ],
   "source": [
    "df[is.na(df$City),]"
   ]
  },
  {
   "cell_type": "code",
   "execution_count": 44,
   "id": "8fda1e3a-1831-4886-a6e9-b1a8270bb0cb",
   "metadata": {},
   "outputs": [],
   "source": [
    "df$City[df$Name == \"GEAUGA COUNTY JAIL\"] <- \"CHARDON\""
   ]
  },
  {
   "cell_type": "code",
   "execution_count": 46,
   "id": "7f4d0704-7395-4184-ac31-6cc89243538c",
   "metadata": {},
   "outputs": [],
   "source": [
    "# Now let's transfer this cleaned dataframe into CSV file\n",
    "write.csv(df, file = \"Cleaned_Detention_.csv\")"
   ]
  },
  {
   "cell_type": "markdown",
   "id": "24525653-fc58-4255-898f-a112e2ab20cd",
   "metadata": {},
   "source": [
    "Analysing Data"
   ]
  },
  {
   "cell_type": "code",
   "execution_count": 48,
   "id": "1d801e19-17bd-42ce-83e7-a7d269935b28",
   "metadata": {},
   "outputs": [
    {
     "data": {
      "text/html": [
       "<table class=\"dataframe\">\n",
       "<caption>A data.frame: 6 × 9</caption>\n",
       "<thead>\n",
       "\t<tr><th></th><th scope=col>Name</th><th scope=col>City</th><th scope=col>State</th><th scope=col>Level.A</th><th scope=col>Level.B</th><th scope=col>Level.C</th><th scope=col>Level.D</th><th scope=col>Last.Inspection.End.Date</th><th scope=col>Total_Population</th></tr>\n",
       "\t<tr><th></th><th scope=col>&lt;chr&gt;</th><th scope=col>&lt;chr&gt;</th><th scope=col>&lt;chr&gt;</th><th scope=col>&lt;dbl&gt;</th><th scope=col>&lt;dbl&gt;</th><th scope=col>&lt;dbl&gt;</th><th scope=col>&lt;dbl&gt;</th><th scope=col>&lt;date&gt;</th><th scope=col>&lt;dbl&gt;</th></tr>\n",
       "</thead>\n",
       "<tbody>\n",
       "\t<tr><th scope=row>1</th><td>ADAMS COUNTY DET CENTER           </td><td>NATCHEZ   </td><td>MS</td><td>1876.461078</td><td>266.431138</td><td> 6.724551</td><td> 4.257485</td><td>2025-01-16</td><td>2153.874252</td></tr>\n",
       "\t<tr><th scope=row>2</th><td>ADELANTO ICE PROCESSING CENTER    </td><td>ADELANTO  </td><td>CA</td><td>   6.401198</td><td>  4.323353</td><td>22.604790</td><td>32.634731</td><td>2024-07-18</td><td>  65.964072</td></tr>\n",
       "\t<tr><th scope=row>3</th><td>ALAMANCE COUNTY DETENTION FACILITY</td><td>GRAHAM    </td><td>NC</td><td>   4.329341</td><td>  3.461078</td><td> 6.083832</td><td> 6.185629</td><td>2024-09-19</td><td>  20.059880</td></tr>\n",
       "\t<tr><th scope=row>4</th><td>ALEXANDRIA STAGING FACILITY       </td><td>ALEXANDRIA</td><td>LA</td><td> 137.520958</td><td> 47.413174</td><td>76.005988</td><td>52.485030</td><td>2024-08-29</td><td> 313.425150</td></tr>\n",
       "\t<tr><th scope=row>5</th><td>ALLEGANY COUNTY JAIL              </td><td>BELMONT   </td><td>NY</td><td>   1.221557</td><td>  0.018000</td><td> 0.000000</td><td> 0.000000</td><td>NA</td><td>   1.239557</td></tr>\n",
       "\t<tr><th scope=row>6</th><td>ALLEN PARISH PUBLIC SAFETY COMPLEX</td><td>OBERLIN   </td><td>LA</td><td> 101.311377</td><td> 30.251497</td><td>33.766467</td><td>10.664671</td><td>2024-12-12</td><td> 175.994012</td></tr>\n",
       "</tbody>\n",
       "</table>\n"
      ],
      "text/latex": [
       "A data.frame: 6 × 9\n",
       "\\begin{tabular}{r|lllllllll}\n",
       "  & Name & City & State & Level.A & Level.B & Level.C & Level.D & Last.Inspection.End.Date & Total\\_Population\\\\\n",
       "  & <chr> & <chr> & <chr> & <dbl> & <dbl> & <dbl> & <dbl> & <date> & <dbl>\\\\\n",
       "\\hline\n",
       "\t1 & ADAMS COUNTY DET CENTER            & NATCHEZ    & MS & 1876.461078 & 266.431138 &  6.724551 &  4.257485 & 2025-01-16 & 2153.874252\\\\\n",
       "\t2 & ADELANTO ICE PROCESSING CENTER     & ADELANTO   & CA &    6.401198 &   4.323353 & 22.604790 & 32.634731 & 2024-07-18 &   65.964072\\\\\n",
       "\t3 & ALAMANCE COUNTY DETENTION FACILITY & GRAHAM     & NC &    4.329341 &   3.461078 &  6.083832 &  6.185629 & 2024-09-19 &   20.059880\\\\\n",
       "\t4 & ALEXANDRIA STAGING FACILITY        & ALEXANDRIA & LA &  137.520958 &  47.413174 & 76.005988 & 52.485030 & 2024-08-29 &  313.425150\\\\\n",
       "\t5 & ALLEGANY COUNTY JAIL               & BELMONT    & NY &    1.221557 &   0.018000 &  0.000000 &  0.000000 & NA &    1.239557\\\\\n",
       "\t6 & ALLEN PARISH PUBLIC SAFETY COMPLEX & OBERLIN    & LA &  101.311377 &  30.251497 & 33.766467 & 10.664671 & 2024-12-12 &  175.994012\\\\\n",
       "\\end{tabular}\n"
      ],
      "text/markdown": [
       "\n",
       "A data.frame: 6 × 9\n",
       "\n",
       "| <!--/--> | Name &lt;chr&gt; | City &lt;chr&gt; | State &lt;chr&gt; | Level.A &lt;dbl&gt; | Level.B &lt;dbl&gt; | Level.C &lt;dbl&gt; | Level.D &lt;dbl&gt; | Last.Inspection.End.Date &lt;date&gt; | Total_Population &lt;dbl&gt; |\n",
       "|---|---|---|---|---|---|---|---|---|---|\n",
       "| 1 | ADAMS COUNTY DET CENTER            | NATCHEZ    | MS | 1876.461078 | 266.431138 |  6.724551 |  4.257485 | 2025-01-16 | 2153.874252 |\n",
       "| 2 | ADELANTO ICE PROCESSING CENTER     | ADELANTO   | CA |    6.401198 |   4.323353 | 22.604790 | 32.634731 | 2024-07-18 |   65.964072 |\n",
       "| 3 | ALAMANCE COUNTY DETENTION FACILITY | GRAHAM     | NC |    4.329341 |   3.461078 |  6.083832 |  6.185629 | 2024-09-19 |   20.059880 |\n",
       "| 4 | ALEXANDRIA STAGING FACILITY        | ALEXANDRIA | LA |  137.520958 |  47.413174 | 76.005988 | 52.485030 | 2024-08-29 |  313.425150 |\n",
       "| 5 | ALLEGANY COUNTY JAIL               | BELMONT    | NY |    1.221557 |   0.018000 |  0.000000 |  0.000000 | NA |    1.239557 |\n",
       "| 6 | ALLEN PARISH PUBLIC SAFETY COMPLEX | OBERLIN    | LA |  101.311377 |  30.251497 | 33.766467 | 10.664671 | 2024-12-12 |  175.994012 |\n",
       "\n"
      ],
      "text/plain": [
       "  Name                               City       State Level.A     Level.B   \n",
       "1 ADAMS COUNTY DET CENTER            NATCHEZ    MS    1876.461078 266.431138\n",
       "2 ADELANTO ICE PROCESSING CENTER     ADELANTO   CA       6.401198   4.323353\n",
       "3 ALAMANCE COUNTY DETENTION FACILITY GRAHAM     NC       4.329341   3.461078\n",
       "4 ALEXANDRIA STAGING FACILITY        ALEXANDRIA LA     137.520958  47.413174\n",
       "5 ALLEGANY COUNTY JAIL               BELMONT    NY       1.221557   0.018000\n",
       "6 ALLEN PARISH PUBLIC SAFETY COMPLEX OBERLIN    LA     101.311377  30.251497\n",
       "  Level.C   Level.D   Last.Inspection.End.Date Total_Population\n",
       "1  6.724551  4.257485 2025-01-16               2153.874252     \n",
       "2 22.604790 32.634731 2024-07-18                 65.964072     \n",
       "3  6.083832  6.185629 2024-09-19                 20.059880     \n",
       "4 76.005988 52.485030 2024-08-29                313.425150     \n",
       "5  0.000000  0.000000 <NA>                        1.239557     \n",
       "6 33.766467 10.664671 2024-12-12                175.994012     "
      ]
     },
     "metadata": {},
     "output_type": "display_data"
    }
   ],
   "source": [
    "df$Total_Population <- df$Level.A + df$Level.B + df$Level.C + df$Level.D\n",
    "head(df)"
   ]
  },
  {
   "cell_type": "code",
   "execution_count": 51,
   "id": "53d0a99e-9a1a-477d-b4cd-cb7acff119b7",
   "metadata": {},
   "outputs": [
    {
     "data": {
      "text/html": [
       "<table class=\"dataframe\">\n",
       "<caption>A data.frame: 6 × 9</caption>\n",
       "<thead>\n",
       "\t<tr><th></th><th scope=col>Name</th><th scope=col>City</th><th scope=col>State</th><th scope=col>Level.A</th><th scope=col>Level.B</th><th scope=col>Level.C</th><th scope=col>Level.D</th><th scope=col>Last.Inspection.End.Date</th><th scope=col>Total_Population</th></tr>\n",
       "\t<tr><th></th><th scope=col>&lt;chr&gt;</th><th scope=col>&lt;chr&gt;</th><th scope=col>&lt;chr&gt;</th><th scope=col>&lt;dbl&gt;</th><th scope=col>&lt;dbl&gt;</th><th scope=col>&lt;dbl&gt;</th><th scope=col>&lt;dbl&gt;</th><th scope=col>&lt;date&gt;</th><th scope=col>&lt;dbl&gt;</th></tr>\n",
       "</thead>\n",
       "<tbody>\n",
       "\t<tr><th scope=row>1</th><td>ADAMS COUNTY DET CENTER          </td><td>NATCHEZ  </td><td>MS</td><td>1876.4611</td><td>266.43114</td><td>  6.724551</td><td>  4.257485</td><td>2025-01-16</td><td>2153.874</td></tr>\n",
       "\t<tr><th scope=row>120</th><td>SOUTH TEXAS ICE PROCESSING CENTER</td><td>PEARSALL </td><td>TX</td><td>1299.0838</td><td>106.12575</td><td>188.724551</td><td> 68.197605</td><td>2025-02-06</td><td>1662.132</td></tr>\n",
       "\t<tr><th scope=row>123</th><td>STEWART DETENTION CENTER         </td><td>LUMPKIN  </td><td>GA</td><td> 743.3114</td><td>194.92814</td><td>371.562874</td><td>328.041916</td><td>2024-08-01</td><td>1637.844</td></tr>\n",
       "\t<tr><th scope=row>133</th><td>WINN CORRECTIONAL CENTER         </td><td>WINNFIELD</td><td>LA</td><td>1013.0240</td><td>214.77246</td><td>187.005988</td><td> 94.580838</td><td>2025-01-16</td><td>1509.383</td></tr>\n",
       "\t<tr><th scope=row>94</th><td>OTAY MESA DETENTION CENTER       </td><td>SAN DIEGO</td><td>CA</td><td> 800.8263</td><td>470.11976</td><td> 45.479042</td><td> 46.215569</td><td>2024-11-07</td><td>1362.641</td></tr>\n",
       "\t<tr><th scope=row>42</th><td>ELOY FEDERAL CONTRACT FACILITY   </td><td>ELOY     </td><td>AZ</td><td>1041.8862</td><td> 45.53892</td><td>114.688623</td><td>125.610778</td><td>2024-10-31</td><td>1327.725</td></tr>\n",
       "</tbody>\n",
       "</table>\n"
      ],
      "text/latex": [
       "A data.frame: 6 × 9\n",
       "\\begin{tabular}{r|lllllllll}\n",
       "  & Name & City & State & Level.A & Level.B & Level.C & Level.D & Last.Inspection.End.Date & Total\\_Population\\\\\n",
       "  & <chr> & <chr> & <chr> & <dbl> & <dbl> & <dbl> & <dbl> & <date> & <dbl>\\\\\n",
       "\\hline\n",
       "\t1 & ADAMS COUNTY DET CENTER           & NATCHEZ   & MS & 1876.4611 & 266.43114 &   6.724551 &   4.257485 & 2025-01-16 & 2153.874\\\\\n",
       "\t120 & SOUTH TEXAS ICE PROCESSING CENTER & PEARSALL  & TX & 1299.0838 & 106.12575 & 188.724551 &  68.197605 & 2025-02-06 & 1662.132\\\\\n",
       "\t123 & STEWART DETENTION CENTER          & LUMPKIN   & GA &  743.3114 & 194.92814 & 371.562874 & 328.041916 & 2024-08-01 & 1637.844\\\\\n",
       "\t133 & WINN CORRECTIONAL CENTER          & WINNFIELD & LA & 1013.0240 & 214.77246 & 187.005988 &  94.580838 & 2025-01-16 & 1509.383\\\\\n",
       "\t94 & OTAY MESA DETENTION CENTER        & SAN DIEGO & CA &  800.8263 & 470.11976 &  45.479042 &  46.215569 & 2024-11-07 & 1362.641\\\\\n",
       "\t42 & ELOY FEDERAL CONTRACT FACILITY    & ELOY      & AZ & 1041.8862 &  45.53892 & 114.688623 & 125.610778 & 2024-10-31 & 1327.725\\\\\n",
       "\\end{tabular}\n"
      ],
      "text/markdown": [
       "\n",
       "A data.frame: 6 × 9\n",
       "\n",
       "| <!--/--> | Name &lt;chr&gt; | City &lt;chr&gt; | State &lt;chr&gt; | Level.A &lt;dbl&gt; | Level.B &lt;dbl&gt; | Level.C &lt;dbl&gt; | Level.D &lt;dbl&gt; | Last.Inspection.End.Date &lt;date&gt; | Total_Population &lt;dbl&gt; |\n",
       "|---|---|---|---|---|---|---|---|---|---|\n",
       "| 1 | ADAMS COUNTY DET CENTER           | NATCHEZ   | MS | 1876.4611 | 266.43114 |   6.724551 |   4.257485 | 2025-01-16 | 2153.874 |\n",
       "| 120 | SOUTH TEXAS ICE PROCESSING CENTER | PEARSALL  | TX | 1299.0838 | 106.12575 | 188.724551 |  68.197605 | 2025-02-06 | 1662.132 |\n",
       "| 123 | STEWART DETENTION CENTER          | LUMPKIN   | GA |  743.3114 | 194.92814 | 371.562874 | 328.041916 | 2024-08-01 | 1637.844 |\n",
       "| 133 | WINN CORRECTIONAL CENTER          | WINNFIELD | LA | 1013.0240 | 214.77246 | 187.005988 |  94.580838 | 2025-01-16 | 1509.383 |\n",
       "| 94 | OTAY MESA DETENTION CENTER        | SAN DIEGO | CA |  800.8263 | 470.11976 |  45.479042 |  46.215569 | 2024-11-07 | 1362.641 |\n",
       "| 42 | ELOY FEDERAL CONTRACT FACILITY    | ELOY      | AZ | 1041.8862 |  45.53892 | 114.688623 | 125.610778 | 2024-10-31 | 1327.725 |\n",
       "\n"
      ],
      "text/plain": [
       "    Name                              City      State Level.A   Level.B  \n",
       "1   ADAMS COUNTY DET CENTER           NATCHEZ   MS    1876.4611 266.43114\n",
       "120 SOUTH TEXAS ICE PROCESSING CENTER PEARSALL  TX    1299.0838 106.12575\n",
       "123 STEWART DETENTION CENTER          LUMPKIN   GA     743.3114 194.92814\n",
       "133 WINN CORRECTIONAL CENTER          WINNFIELD LA    1013.0240 214.77246\n",
       "94  OTAY MESA DETENTION CENTER        SAN DIEGO CA     800.8263 470.11976\n",
       "42  ELOY FEDERAL CONTRACT FACILITY    ELOY      AZ    1041.8862  45.53892\n",
       "    Level.C    Level.D    Last.Inspection.End.Date Total_Population\n",
       "1     6.724551   4.257485 2025-01-16               2153.874        \n",
       "120 188.724551  68.197605 2025-02-06               1662.132        \n",
       "123 371.562874 328.041916 2024-08-01               1637.844        \n",
       "133 187.005988  94.580838 2025-01-16               1509.383        \n",
       "94   45.479042  46.215569 2024-11-07               1362.641        \n",
       "42  114.688623 125.610778 2024-10-31               1327.725        "
      ]
     },
     "metadata": {},
     "output_type": "display_data"
    }
   ],
   "source": [
    "df <- df[order(df$Total_Population , decreasing = TRUE),]\n",
    "head(df)"
   ]
  },
  {
   "cell_type": "code",
   "execution_count": 53,
   "id": "c699e09b-1412-42f6-b221-a4e80a78121f",
   "metadata": {},
   "outputs": [
    {
     "data": {
      "text/html": [
       "<table class=\"dataframe\">\n",
       "<caption>A data.frame: 10 × 9</caption>\n",
       "<thead>\n",
       "\t<tr><th></th><th scope=col>Name</th><th scope=col>City</th><th scope=col>State</th><th scope=col>Level.A</th><th scope=col>Level.B</th><th scope=col>Level.C</th><th scope=col>Level.D</th><th scope=col>Last.Inspection.End.Date</th><th scope=col>Total_Population</th></tr>\n",
       "\t<tr><th></th><th scope=col>&lt;chr&gt;</th><th scope=col>&lt;chr&gt;</th><th scope=col>&lt;chr&gt;</th><th scope=col>&lt;dbl&gt;</th><th scope=col>&lt;dbl&gt;</th><th scope=col>&lt;dbl&gt;</th><th scope=col>&lt;dbl&gt;</th><th scope=col>&lt;date&gt;</th><th scope=col>&lt;dbl&gt;</th></tr>\n",
       "</thead>\n",
       "<tbody>\n",
       "\t<tr><th scope=row>1</th><td>ADAMS COUNTY DET CENTER                      </td><td>NATCHEZ    </td><td>MS</td><td>1876.4611</td><td>266.43114</td><td>  6.724551</td><td>  4.257485</td><td>2025-01-16</td><td>2153.874</td></tr>\n",
       "\t<tr><th scope=row>120</th><td>SOUTH TEXAS ICE PROCESSING CENTER            </td><td>PEARSALL   </td><td>TX</td><td>1299.0838</td><td>106.12575</td><td>188.724551</td><td> 68.197605</td><td>2025-02-06</td><td>1662.132</td></tr>\n",
       "\t<tr><th scope=row>123</th><td>STEWART DETENTION CENTER                     </td><td>LUMPKIN    </td><td>GA</td><td> 743.3114</td><td>194.92814</td><td>371.562874</td><td>328.041916</td><td>2024-08-01</td><td>1637.844</td></tr>\n",
       "\t<tr><th scope=row>133</th><td>WINN CORRECTIONAL CENTER                     </td><td>WINNFIELD  </td><td>LA</td><td>1013.0240</td><td>214.77246</td><td>187.005988</td><td> 94.580838</td><td>2025-01-16</td><td>1509.383</td></tr>\n",
       "\t<tr><th scope=row>94</th><td>OTAY MESA DETENTION CENTER                   </td><td>SAN DIEGO  </td><td>CA</td><td> 800.8263</td><td>470.11976</td><td> 45.479042</td><td> 46.215569</td><td>2024-11-07</td><td>1362.641</td></tr>\n",
       "\t<tr><th scope=row>42</th><td>ELOY FEDERAL CONTRACT FACILITY               </td><td>ELOY       </td><td>AZ</td><td>1041.8862</td><td> 45.53892</td><td>114.688623</td><td>125.610778</td><td>2024-10-31</td><td>1327.725</td></tr>\n",
       "\t<tr><th scope=row>84</th><td><span style=white-space:pre-wrap>MOSHANNON&amp; VALLEY PROCESSING CENTER          </span></td><td>PHILIPSBURG</td><td>PA</td><td> 205.2455</td><td> 96.46707</td><td>542.275449</td><td>402.059880</td><td>2025-03-06</td><td>1246.048</td></tr>\n",
       "\t<tr><th scope=row>83</th><td>MONTGOMERY ICE PROCESSING CENTER             </td><td>CONROE     </td><td>TX</td><td> 149.5569</td><td>561.42515</td><td>355.269461</td><td>160.976048</td><td>2024-12-05</td><td>1227.228</td></tr>\n",
       "\t<tr><th scope=row>19</th><td>CENTRAL LOUISIANA ICE PROCESSING CENTER CLIPC</td><td>JENA       </td><td>LA</td><td> 410.9701</td><td>221.20958</td><td>344.790419</td><td>207.161677</td><td>2025-01-09</td><td>1184.132</td></tr>\n",
       "\t<tr><th scope=row>32</th><td>DENVER CONTRACT DETENTION FACILITY           </td><td>AURORA     </td><td>CO</td><td> 624.5689</td><td>190.50898</td><td>189.658683</td><td>141.365270</td><td>2025-02-13</td><td>1146.102</td></tr>\n",
       "</tbody>\n",
       "</table>\n"
      ],
      "text/latex": [
       "A data.frame: 10 × 9\n",
       "\\begin{tabular}{r|lllllllll}\n",
       "  & Name & City & State & Level.A & Level.B & Level.C & Level.D & Last.Inspection.End.Date & Total\\_Population\\\\\n",
       "  & <chr> & <chr> & <chr> & <dbl> & <dbl> & <dbl> & <dbl> & <date> & <dbl>\\\\\n",
       "\\hline\n",
       "\t1 & ADAMS COUNTY DET CENTER                       & NATCHEZ     & MS & 1876.4611 & 266.43114 &   6.724551 &   4.257485 & 2025-01-16 & 2153.874\\\\\n",
       "\t120 & SOUTH TEXAS ICE PROCESSING CENTER             & PEARSALL    & TX & 1299.0838 & 106.12575 & 188.724551 &  68.197605 & 2025-02-06 & 1662.132\\\\\n",
       "\t123 & STEWART DETENTION CENTER                      & LUMPKIN     & GA &  743.3114 & 194.92814 & 371.562874 & 328.041916 & 2024-08-01 & 1637.844\\\\\n",
       "\t133 & WINN CORRECTIONAL CENTER                      & WINNFIELD   & LA & 1013.0240 & 214.77246 & 187.005988 &  94.580838 & 2025-01-16 & 1509.383\\\\\n",
       "\t94 & OTAY MESA DETENTION CENTER                    & SAN DIEGO   & CA &  800.8263 & 470.11976 &  45.479042 &  46.215569 & 2024-11-07 & 1362.641\\\\\n",
       "\t42 & ELOY FEDERAL CONTRACT FACILITY                & ELOY        & AZ & 1041.8862 &  45.53892 & 114.688623 & 125.610778 & 2024-10-31 & 1327.725\\\\\n",
       "\t84 & MOSHANNON\\& VALLEY PROCESSING CENTER           & PHILIPSBURG & PA &  205.2455 &  96.46707 & 542.275449 & 402.059880 & 2025-03-06 & 1246.048\\\\\n",
       "\t83 & MONTGOMERY ICE PROCESSING CENTER              & CONROE      & TX &  149.5569 & 561.42515 & 355.269461 & 160.976048 & 2024-12-05 & 1227.228\\\\\n",
       "\t19 & CENTRAL LOUISIANA ICE PROCESSING CENTER CLIPC & JENA        & LA &  410.9701 & 221.20958 & 344.790419 & 207.161677 & 2025-01-09 & 1184.132\\\\\n",
       "\t32 & DENVER CONTRACT DETENTION FACILITY            & AURORA      & CO &  624.5689 & 190.50898 & 189.658683 & 141.365270 & 2025-02-13 & 1146.102\\\\\n",
       "\\end{tabular}\n"
      ],
      "text/markdown": [
       "\n",
       "A data.frame: 10 × 9\n",
       "\n",
       "| <!--/--> | Name &lt;chr&gt; | City &lt;chr&gt; | State &lt;chr&gt; | Level.A &lt;dbl&gt; | Level.B &lt;dbl&gt; | Level.C &lt;dbl&gt; | Level.D &lt;dbl&gt; | Last.Inspection.End.Date &lt;date&gt; | Total_Population &lt;dbl&gt; |\n",
       "|---|---|---|---|---|---|---|---|---|---|\n",
       "| 1 | ADAMS COUNTY DET CENTER                       | NATCHEZ     | MS | 1876.4611 | 266.43114 |   6.724551 |   4.257485 | 2025-01-16 | 2153.874 |\n",
       "| 120 | SOUTH TEXAS ICE PROCESSING CENTER             | PEARSALL    | TX | 1299.0838 | 106.12575 | 188.724551 |  68.197605 | 2025-02-06 | 1662.132 |\n",
       "| 123 | STEWART DETENTION CENTER                      | LUMPKIN     | GA |  743.3114 | 194.92814 | 371.562874 | 328.041916 | 2024-08-01 | 1637.844 |\n",
       "| 133 | WINN CORRECTIONAL CENTER                      | WINNFIELD   | LA | 1013.0240 | 214.77246 | 187.005988 |  94.580838 | 2025-01-16 | 1509.383 |\n",
       "| 94 | OTAY MESA DETENTION CENTER                    | SAN DIEGO   | CA |  800.8263 | 470.11976 |  45.479042 |  46.215569 | 2024-11-07 | 1362.641 |\n",
       "| 42 | ELOY FEDERAL CONTRACT FACILITY                | ELOY        | AZ | 1041.8862 |  45.53892 | 114.688623 | 125.610778 | 2024-10-31 | 1327.725 |\n",
       "| 84 | MOSHANNON&amp; VALLEY PROCESSING CENTER           | PHILIPSBURG | PA |  205.2455 |  96.46707 | 542.275449 | 402.059880 | 2025-03-06 | 1246.048 |\n",
       "| 83 | MONTGOMERY ICE PROCESSING CENTER              | CONROE      | TX |  149.5569 | 561.42515 | 355.269461 | 160.976048 | 2024-12-05 | 1227.228 |\n",
       "| 19 | CENTRAL LOUISIANA ICE PROCESSING CENTER CLIPC | JENA        | LA |  410.9701 | 221.20958 | 344.790419 | 207.161677 | 2025-01-09 | 1184.132 |\n",
       "| 32 | DENVER CONTRACT DETENTION FACILITY            | AURORA      | CO |  624.5689 | 190.50898 | 189.658683 | 141.365270 | 2025-02-13 | 1146.102 |\n",
       "\n"
      ],
      "text/plain": [
       "    Name                                          City        State Level.A  \n",
       "1   ADAMS COUNTY DET CENTER                       NATCHEZ     MS    1876.4611\n",
       "120 SOUTH TEXAS ICE PROCESSING CENTER             PEARSALL    TX    1299.0838\n",
       "123 STEWART DETENTION CENTER                      LUMPKIN     GA     743.3114\n",
       "133 WINN CORRECTIONAL CENTER                      WINNFIELD   LA    1013.0240\n",
       "94  OTAY MESA DETENTION CENTER                    SAN DIEGO   CA     800.8263\n",
       "42  ELOY FEDERAL CONTRACT FACILITY                ELOY        AZ    1041.8862\n",
       "84  MOSHANNON& VALLEY PROCESSING CENTER           PHILIPSBURG PA     205.2455\n",
       "83  MONTGOMERY ICE PROCESSING CENTER              CONROE      TX     149.5569\n",
       "19  CENTRAL LOUISIANA ICE PROCESSING CENTER CLIPC JENA        LA     410.9701\n",
       "32  DENVER CONTRACT DETENTION FACILITY            AURORA      CO     624.5689\n",
       "    Level.B   Level.C    Level.D    Last.Inspection.End.Date Total_Population\n",
       "1   266.43114   6.724551   4.257485 2025-01-16               2153.874        \n",
       "120 106.12575 188.724551  68.197605 2025-02-06               1662.132        \n",
       "123 194.92814 371.562874 328.041916 2024-08-01               1637.844        \n",
       "133 214.77246 187.005988  94.580838 2025-01-16               1509.383        \n",
       "94  470.11976  45.479042  46.215569 2024-11-07               1362.641        \n",
       "42   45.53892 114.688623 125.610778 2024-10-31               1327.725        \n",
       "84   96.46707 542.275449 402.059880 2025-03-06               1246.048        \n",
       "83  561.42515 355.269461 160.976048 2024-12-05               1227.228        \n",
       "19  221.20958 344.790419 207.161677 2025-01-09               1184.132        \n",
       "32  190.50898 189.658683 141.365270 2025-02-13               1146.102        "
      ]
     },
     "metadata": {},
     "output_type": "display_data"
    }
   ],
   "source": [
    "Top_10_Detention_Place <- head(df,10)\n",
    "Top_10_Detention_Place"
   ]
  },
  {
   "cell_type": "raw",
   "id": "e8f43417-7467-4171-a4cc-64cd788a2d6a",
   "metadata": {},
   "source": [
    "Above is the dataframe of the top 10 detention place from the provided data.\n",
    "We can remove the Level.A and other Levels columns as we have total population column after add them"
   ]
  },
  {
   "cell_type": "code",
   "execution_count": 55,
   "id": "d959de69-d3a8-4fb9-ac75-2447b8598fb3",
   "metadata": {},
   "outputs": [
    {
     "data": {
      "text/html": [
       "<ol>\n",
       "\t<li>'ADAMS COUNTY DET CENTER'</li>\n",
       "\t<li>'SOUTH TEXAS ICE PROCESSING CENTER'</li>\n",
       "\t<li>'STEWART DETENTION CENTER'</li>\n",
       "\t<li>'WINN CORRECTIONAL CENTER'</li>\n",
       "\t<li>'OTAY MESA DETENTION CENTER'</li>\n",
       "\t<li>'ELOY FEDERAL CONTRACT FACILITY'</li>\n",
       "\t<li>'MOSHANNON&amp; VALLEY PROCESSING CENTER'</li>\n",
       "\t<li>'MONTGOMERY ICE PROCESSING CENTER'</li>\n",
       "\t<li>'CENTRAL LOUISIANA ICE PROCESSING CENTER CLIPC'</li>\n",
       "\t<li>'DENVER CONTRACT DETENTION FACILITY'</li>\n",
       "</ol>\n"
      ],
      "text/latex": [
       "\\begin{enumerate}\n",
       "\\item 'ADAMS COUNTY DET CENTER'\n",
       "\\item 'SOUTH TEXAS ICE PROCESSING CENTER'\n",
       "\\item 'STEWART DETENTION CENTER'\n",
       "\\item 'WINN CORRECTIONAL CENTER'\n",
       "\\item 'OTAY MESA DETENTION CENTER'\n",
       "\\item 'ELOY FEDERAL CONTRACT FACILITY'\n",
       "\\item 'MOSHANNON\\& VALLEY PROCESSING CENTER'\n",
       "\\item 'MONTGOMERY ICE PROCESSING CENTER'\n",
       "\\item 'CENTRAL LOUISIANA ICE PROCESSING CENTER CLIPC'\n",
       "\\item 'DENVER CONTRACT DETENTION FACILITY'\n",
       "\\end{enumerate}\n"
      ],
      "text/markdown": [
       "1. 'ADAMS COUNTY DET CENTER'\n",
       "2. 'SOUTH TEXAS ICE PROCESSING CENTER'\n",
       "3. 'STEWART DETENTION CENTER'\n",
       "4. 'WINN CORRECTIONAL CENTER'\n",
       "5. 'OTAY MESA DETENTION CENTER'\n",
       "6. 'ELOY FEDERAL CONTRACT FACILITY'\n",
       "7. 'MOSHANNON&amp; VALLEY PROCESSING CENTER'\n",
       "8. 'MONTGOMERY ICE PROCESSING CENTER'\n",
       "9. 'CENTRAL LOUISIANA ICE PROCESSING CENTER CLIPC'\n",
       "10. 'DENVER CONTRACT DETENTION FACILITY'\n",
       "\n",
       "\n"
      ],
      "text/plain": [
       "[[1]]\n",
       "[1] \"ADAMS COUNTY DET CENTER\"\n",
       "\n",
       "[[2]]\n",
       "[1] \"SOUTH TEXAS ICE PROCESSING CENTER\"\n",
       "\n",
       "[[3]]\n",
       "[1] \"STEWART DETENTION CENTER\"\n",
       "\n",
       "[[4]]\n",
       "[1] \"WINN CORRECTIONAL CENTER\"\n",
       "\n",
       "[[5]]\n",
       "[1] \"OTAY MESA DETENTION CENTER\"\n",
       "\n",
       "[[6]]\n",
       "[1] \"ELOY FEDERAL CONTRACT FACILITY\"\n",
       "\n",
       "[[7]]\n",
       "[1] \"MOSHANNON& VALLEY PROCESSING CENTER\"\n",
       "\n",
       "[[8]]\n",
       "[1] \"MONTGOMERY ICE PROCESSING CENTER\"\n",
       "\n",
       "[[9]]\n",
       "[1] \"CENTRAL LOUISIANA ICE PROCESSING CENTER CLIPC\"\n",
       "\n",
       "[[10]]\n",
       "[1] \"DENVER CONTRACT DETENTION FACILITY\"\n"
      ]
     },
     "metadata": {},
     "output_type": "display_data"
    }
   ],
   "source": [
    "#LIst of Top 0 facilities\n",
    "List=as.list(Top_10_Detention_Place$Name)\n",
    "List"
   ]
  },
  {
   "cell_type": "markdown",
   "id": "563bc0be-7c19-443b-a7bc-9f8eac802923",
   "metadata": {},
   "source": [
    "Visualization of Data"
   ]
  },
  {
   "cell_type": "raw",
   "id": "72fa12b8-ec79-4017-81c0-b673ecbfae38",
   "metadata": {},
   "source": [
    "Now Visualising the Top 10 Facilities as mentioned in the file."
   ]
  },
  {
   "cell_type": "code",
   "execution_count": 59,
   "id": "89de7327-28ca-495b-913f-fabcd602441e",
   "metadata": {},
   "outputs": [],
   "source": [
    "library(ggplot2)\n",
    "plot <- ggplot(Top_10_Detention_Place, aes(x = reorder(Name, Total_Population), y = Total_Population)) +\n",
    "  geom_bar(stat = \"identity\", fill = \"steelblue\") +\n",
    "  coord_flip() +\n",
    "  labs(title = \"Top Ten Largest Detention Facilities\",\n",
    "       x = \"Detention Facility\",\n",
    "       y = \"Total Population\") +\n",
    "  theme_minimal()\n",
    "\n",
    "ggsave(\"Top_Ten_Facilities_Population_.png\", plot = plot, width = 10, height = 6, units = \"in\")"
   ]
  },
  {
   "cell_type": "raw",
   "id": "36c92918-85b0-4523-b319-440ad8902d19",
   "metadata": {},
   "source": [
    "That's all the task that was mentioned in the file for Relevent Research Data Processing and Analysis Exercise on Immigration Detention Dataset using R.\n",
    "This file consists of all the tasks in one place where as there is separate r file as well where analysis, cleaning and visualization is done separately."
   ]
  }
 ],
 "metadata": {
  "kernelspec": {
   "display_name": "R",
   "language": "R",
   "name": "ir"
  },
  "language_info": {
   "codemirror_mode": "r",
   "file_extension": ".r",
   "mimetype": "text/x-r-source",
   "name": "R",
   "pygments_lexer": "r",
   "version": "4.5.0"
  }
 },
 "nbformat": 4,
 "nbformat_minor": 5
}
